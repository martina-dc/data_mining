{
 "cells": [
  {
   "cell_type": "markdown",
   "id": "racial-telephone",
   "metadata": {},
   "source": [
    "# Tarea 2 - Regresión"
   ]
  },
  {
   "cell_type": "markdown",
   "id": "alive-hepatitis",
   "metadata": {},
   "source": [
    "- Di Carlo, Martina\n",
    "- Pastrana Analía\n",
    "- Suárez Gilda"
   ]
  },
  {
   "cell_type": "markdown",
   "id": "moral-transfer",
   "metadata": {},
   "source": [
    "Utilizando un regresor basado en árboles de decisión estime el error de predicción sobre la variable objetivo a medida que varía la complejidad del árbol. Verifique dicha predicción utilizando un conjunto de test. Compare el error de train del método de regresión con el de test. Realice la tarea con el conjuntos de datos: Life_Expectancy_Data.csv.   \n",
    "En este caso la variable objetivo se llama 'Life expectancy '. Discuta los resultados obtenidos brevemente.\n",
    "Tener en cuenta que la clase de sklearn DecisionTreeRegressor controla la complejidad del árbol con el parámetro ccp_alpha. Recuerde explicar en las gráficas como varía la complejidad respecto a ccp_alpha. ¿Cuándo se vuelve más complejo el árbol ? \n",
    "Resuelva utilizando KFold, porque no se puede usar StratifiedKFold ?  "
   ]
  },
  {
   "cell_type": "code",
   "execution_count": 1,
   "id": "significant-clothing",
   "metadata": {},
   "outputs": [],
   "source": [
    "import pandas as pd\n",
    "pd.options.display.max_columns=None\n",
    "pd.options.display.max_rows=None\n",
    "\n",
    "import numpy as np\n",
    "\n",
    "import janitor as j\n",
    "from pyprojroot import here\n",
    "\n",
    "import seaborn as sns\n",
    "import matplotlib.pyplot as plt\n",
    "\n",
    "from sklearn.tree import DecisionTreeRegressor, plot_tree\n",
    "from sklearn.model_selection import train_test_split, KFold, GridSearchCV\n",
    "from sklearn.metrics import r2_score\n",
    "from sklearn.ensemble import BaggingRegressor\n",
    "from sklearn.preprocessing import StandardScaler"
   ]
  },
  {
   "cell_type": "code",
   "execution_count": 2,
   "id": "combined-february",
   "metadata": {},
   "outputs": [
    {
     "data": {
      "text/plain": [
       "WindowsPath('C:/Users/dicarlom/Desktop/Martu/Maestria/data_mining/practico2/Datos')"
      ]
     },
     "execution_count": 2,
     "metadata": {},
     "output_type": "execute_result"
    }
   ],
   "source": [
    "path_data = here() / 'Martu' / 'Maestria' / 'data_mining' / 'practico2' / 'Datos'\n",
    "path_data"
   ]
  },
  {
   "cell_type": "code",
   "execution_count": 3,
   "id": "hazardous-nurse",
   "metadata": {},
   "outputs": [],
   "source": [
    "df = pd.read_csv(path_data / 'Life_Expectancy_Data.csv')\\\n",
    "       .clean_names()\\\n",
    "       .encode_categorical([\"country\", \"status\"])"
   ]
  },
  {
   "cell_type": "code",
   "execution_count": 4,
   "id": "electric-czech",
   "metadata": {},
   "outputs": [
    {
     "data": {
      "text/html": [
       "<div>\n",
       "<style scoped>\n",
       "    .dataframe tbody tr th:only-of-type {\n",
       "        vertical-align: middle;\n",
       "    }\n",
       "\n",
       "    .dataframe tbody tr th {\n",
       "        vertical-align: top;\n",
       "    }\n",
       "\n",
       "    .dataframe thead th {\n",
       "        text-align: right;\n",
       "    }\n",
       "</style>\n",
       "<table border=\"1\" class=\"dataframe\">\n",
       "  <thead>\n",
       "    <tr style=\"text-align: right;\">\n",
       "      <th></th>\n",
       "      <th>country</th>\n",
       "      <th>year</th>\n",
       "      <th>status</th>\n",
       "      <th>life_expectancy_</th>\n",
       "      <th>adult_mortality</th>\n",
       "      <th>infant_deaths</th>\n",
       "      <th>alcohol</th>\n",
       "      <th>percentage_expenditure</th>\n",
       "      <th>hepatitis_b</th>\n",
       "      <th>measles_</th>\n",
       "      <th>_bmi_</th>\n",
       "      <th>under_five_deaths_</th>\n",
       "      <th>polio</th>\n",
       "      <th>total_expenditure</th>\n",
       "      <th>diphtheria_</th>\n",
       "      <th>_hiv_aids</th>\n",
       "      <th>gdp</th>\n",
       "      <th>population</th>\n",
       "      <th>_thinness_1_19_years</th>\n",
       "      <th>_thinness_5_9_years</th>\n",
       "      <th>income_composition_of_resources</th>\n",
       "      <th>schooling</th>\n",
       "    </tr>\n",
       "  </thead>\n",
       "  <tbody>\n",
       "    <tr>\n",
       "      <th>0</th>\n",
       "      <td>Afghanistan</td>\n",
       "      <td>2015</td>\n",
       "      <td>Developing</td>\n",
       "      <td>65.0</td>\n",
       "      <td>263.0</td>\n",
       "      <td>62</td>\n",
       "      <td>0.01</td>\n",
       "      <td>71.279624</td>\n",
       "      <td>65.0</td>\n",
       "      <td>1154</td>\n",
       "      <td>19.1</td>\n",
       "      <td>83</td>\n",
       "      <td>6.0</td>\n",
       "      <td>8.16</td>\n",
       "      <td>65.0</td>\n",
       "      <td>0.1</td>\n",
       "      <td>584.259210</td>\n",
       "      <td>33736494.0</td>\n",
       "      <td>17.2</td>\n",
       "      <td>17.3</td>\n",
       "      <td>0.479</td>\n",
       "      <td>10.1</td>\n",
       "    </tr>\n",
       "    <tr>\n",
       "      <th>1</th>\n",
       "      <td>Afghanistan</td>\n",
       "      <td>2014</td>\n",
       "      <td>Developing</td>\n",
       "      <td>59.9</td>\n",
       "      <td>271.0</td>\n",
       "      <td>64</td>\n",
       "      <td>0.01</td>\n",
       "      <td>73.523582</td>\n",
       "      <td>62.0</td>\n",
       "      <td>492</td>\n",
       "      <td>18.6</td>\n",
       "      <td>86</td>\n",
       "      <td>58.0</td>\n",
       "      <td>8.18</td>\n",
       "      <td>62.0</td>\n",
       "      <td>0.1</td>\n",
       "      <td>612.696514</td>\n",
       "      <td>327582.0</td>\n",
       "      <td>17.5</td>\n",
       "      <td>17.5</td>\n",
       "      <td>0.476</td>\n",
       "      <td>10.0</td>\n",
       "    </tr>\n",
       "    <tr>\n",
       "      <th>2</th>\n",
       "      <td>Afghanistan</td>\n",
       "      <td>2013</td>\n",
       "      <td>Developing</td>\n",
       "      <td>59.9</td>\n",
       "      <td>268.0</td>\n",
       "      <td>66</td>\n",
       "      <td>0.01</td>\n",
       "      <td>73.219243</td>\n",
       "      <td>64.0</td>\n",
       "      <td>430</td>\n",
       "      <td>18.1</td>\n",
       "      <td>89</td>\n",
       "      <td>62.0</td>\n",
       "      <td>8.13</td>\n",
       "      <td>64.0</td>\n",
       "      <td>0.1</td>\n",
       "      <td>631.744976</td>\n",
       "      <td>31731688.0</td>\n",
       "      <td>17.7</td>\n",
       "      <td>17.7</td>\n",
       "      <td>0.470</td>\n",
       "      <td>9.9</td>\n",
       "    </tr>\n",
       "    <tr>\n",
       "      <th>3</th>\n",
       "      <td>Afghanistan</td>\n",
       "      <td>2012</td>\n",
       "      <td>Developing</td>\n",
       "      <td>59.5</td>\n",
       "      <td>272.0</td>\n",
       "      <td>69</td>\n",
       "      <td>0.01</td>\n",
       "      <td>78.184215</td>\n",
       "      <td>67.0</td>\n",
       "      <td>2787</td>\n",
       "      <td>17.6</td>\n",
       "      <td>93</td>\n",
       "      <td>67.0</td>\n",
       "      <td>8.52</td>\n",
       "      <td>67.0</td>\n",
       "      <td>0.1</td>\n",
       "      <td>669.959000</td>\n",
       "      <td>3696958.0</td>\n",
       "      <td>17.9</td>\n",
       "      <td>18.0</td>\n",
       "      <td>0.463</td>\n",
       "      <td>9.8</td>\n",
       "    </tr>\n",
       "    <tr>\n",
       "      <th>4</th>\n",
       "      <td>Afghanistan</td>\n",
       "      <td>2011</td>\n",
       "      <td>Developing</td>\n",
       "      <td>59.2</td>\n",
       "      <td>275.0</td>\n",
       "      <td>71</td>\n",
       "      <td>0.01</td>\n",
       "      <td>7.097109</td>\n",
       "      <td>68.0</td>\n",
       "      <td>3013</td>\n",
       "      <td>17.2</td>\n",
       "      <td>97</td>\n",
       "      <td>68.0</td>\n",
       "      <td>7.87</td>\n",
       "      <td>68.0</td>\n",
       "      <td>0.1</td>\n",
       "      <td>63.537231</td>\n",
       "      <td>2978599.0</td>\n",
       "      <td>18.2</td>\n",
       "      <td>18.2</td>\n",
       "      <td>0.454</td>\n",
       "      <td>9.5</td>\n",
       "    </tr>\n",
       "  </tbody>\n",
       "</table>\n",
       "</div>"
      ],
      "text/plain": [
       "       country  year      status  life_expectancy_  adult_mortality  \\\n",
       "0  Afghanistan  2015  Developing              65.0            263.0   \n",
       "1  Afghanistan  2014  Developing              59.9            271.0   \n",
       "2  Afghanistan  2013  Developing              59.9            268.0   \n",
       "3  Afghanistan  2012  Developing              59.5            272.0   \n",
       "4  Afghanistan  2011  Developing              59.2            275.0   \n",
       "\n",
       "   infant_deaths  alcohol  percentage_expenditure  hepatitis_b  measles_  \\\n",
       "0             62     0.01               71.279624         65.0      1154   \n",
       "1             64     0.01               73.523582         62.0       492   \n",
       "2             66     0.01               73.219243         64.0       430   \n",
       "3             69     0.01               78.184215         67.0      2787   \n",
       "4             71     0.01                7.097109         68.0      3013   \n",
       "\n",
       "   _bmi_  under_five_deaths_  polio  total_expenditure  diphtheria_  \\\n",
       "0   19.1                  83    6.0               8.16         65.0   \n",
       "1   18.6                  86   58.0               8.18         62.0   \n",
       "2   18.1                  89   62.0               8.13         64.0   \n",
       "3   17.6                  93   67.0               8.52         67.0   \n",
       "4   17.2                  97   68.0               7.87         68.0   \n",
       "\n",
       "   _hiv_aids         gdp  population  _thinness_1_19_years  \\\n",
       "0        0.1  584.259210  33736494.0                  17.2   \n",
       "1        0.1  612.696514    327582.0                  17.5   \n",
       "2        0.1  631.744976  31731688.0                  17.7   \n",
       "3        0.1  669.959000   3696958.0                  17.9   \n",
       "4        0.1   63.537231   2978599.0                  18.2   \n",
       "\n",
       "   _thinness_5_9_years  income_composition_of_resources  schooling  \n",
       "0                 17.3                            0.479       10.1  \n",
       "1                 17.5                            0.476       10.0  \n",
       "2                 17.7                            0.470        9.9  \n",
       "3                 18.0                            0.463        9.8  \n",
       "4                 18.2                            0.454        9.5  "
      ]
     },
     "execution_count": 4,
     "metadata": {},
     "output_type": "execute_result"
    }
   ],
   "source": [
    "df.head()"
   ]
  },
  {
   "cell_type": "code",
   "execution_count": 5,
   "id": "searching-clerk",
   "metadata": {},
   "outputs": [
    {
     "data": {
      "text/plain": [
       "(2938, 22)"
      ]
     },
     "execution_count": 5,
     "metadata": {},
     "output_type": "execute_result"
    }
   ],
   "source": [
    "df.shape"
   ]
  },
  {
   "cell_type": "code",
   "execution_count": 6,
   "id": "aggregate-invalid",
   "metadata": {},
   "outputs": [],
   "source": [
    "target_na = df.life_expectancy_.notna()\n",
    "df = df[target_na]"
   ]
  },
  {
   "cell_type": "markdown",
   "id": "unsigned-diesel",
   "metadata": {},
   "source": [
    "## EDA"
   ]
  },
  {
   "cell_type": "code",
   "execution_count": 7,
   "id": "flying-clock",
   "metadata": {},
   "outputs": [
    {
     "name": "stdout",
     "output_type": "stream",
     "text": [
      "<class 'pandas.core.frame.DataFrame'>\n",
      "Int64Index: 2928 entries, 0 to 2937\n",
      "Data columns (total 22 columns):\n",
      " #   Column                           Non-Null Count  Dtype   \n",
      "---  ------                           --------------  -----   \n",
      " 0   country                          2928 non-null   category\n",
      " 1   year                             2928 non-null   int64   \n",
      " 2   status                           2928 non-null   category\n",
      " 3   life_expectancy_                 2928 non-null   float64 \n",
      " 4   adult_mortality                  2928 non-null   float64 \n",
      " 5   infant_deaths                    2928 non-null   int64   \n",
      " 6   alcohol                          2735 non-null   float64 \n",
      " 7   percentage_expenditure           2928 non-null   float64 \n",
      " 8   hepatitis_b                      2375 non-null   float64 \n",
      " 9   measles_                         2928 non-null   int64   \n",
      " 10  _bmi_                            2896 non-null   float64 \n",
      " 11  under_five_deaths_               2928 non-null   int64   \n",
      " 12  polio                            2909 non-null   float64 \n",
      " 13  total_expenditure                2702 non-null   float64 \n",
      " 14  diphtheria_                      2909 non-null   float64 \n",
      " 15  _hiv_aids                        2928 non-null   float64 \n",
      " 16  gdp                              2485 non-null   float64 \n",
      " 17  population                       2284 non-null   float64 \n",
      " 18  _thinness_1_19_years             2896 non-null   float64 \n",
      " 19  _thinness_5_9_years              2896 non-null   float64 \n",
      " 20  income_composition_of_resources  2768 non-null   float64 \n",
      " 21  schooling                        2768 non-null   float64 \n",
      "dtypes: category(2), float64(16), int64(4)\n",
      "memory usage: 494.7 KB\n"
     ]
    }
   ],
   "source": [
    "df.info()"
   ]
  },
  {
   "cell_type": "code",
   "execution_count": 8,
   "id": "latest-riverside",
   "metadata": {},
   "outputs": [
    {
     "data": {
      "text/plain": [
       "183"
      ]
     },
     "execution_count": 8,
     "metadata": {},
     "output_type": "execute_result"
    }
   ],
   "source": [
    "df.country.nunique()"
   ]
  },
  {
   "cell_type": "code",
   "execution_count": 9,
   "id": "bigger-tongue",
   "metadata": {},
   "outputs": [
    {
     "data": {
      "text/plain": [
       "16"
      ]
     },
     "execution_count": 9,
     "metadata": {},
     "output_type": "execute_result"
    }
   ],
   "source": [
    "df.year.nunique()"
   ]
  },
  {
   "cell_type": "code",
   "execution_count": 10,
   "id": "imperial-trade",
   "metadata": {},
   "outputs": [
    {
     "data": {
      "text/plain": [
       "[]"
      ]
     },
     "execution_count": 10,
     "metadata": {},
     "output_type": "execute_result"
    },
    {
     "data": {
      "image/png": "[encoded data removed]",
      "text/plain": [
       "<Figure size 432x288 with 1 Axes>"
      ]
     },
     "metadata": {},
     "output_type": "display_data"
    }
   ],
   "source": [
    "sns.set_theme(style=\"ticks\")\n",
    "sns.histplot(x = 'life_expectancy_', \n",
    "             hue = 'status',\n",
    "            data = df)\n",
    "sns.despine(offset=10, trim=True)\n",
    "plt.plot()"
   ]
  },
  {
   "cell_type": "code",
   "execution_count": 11,
   "id": "boolean-couple",
   "metadata": {},
   "outputs": [
    {
     "data": {
      "text/plain": [
       "[]"
      ]
     },
     "execution_count": 11,
     "metadata": {},
     "output_type": "execute_result"
    },
    {
     "data": {
      "image/png": "[encoded data removed]",
      "text/plain": [
       "<Figure size 432x288 with 1 Axes>"
      ]
     },
     "metadata": {},
     "output_type": "display_data"
    }
   ],
   "source": [
    "sns.set_theme(style=\"ticks\")\n",
    "sns.histplot(x = 'adult_mortality', \n",
    "             hue = 'status',\n",
    "            data = df)\n",
    "sns.despine(offset=10, trim=True)\n",
    "plt.plot()"
   ]
  },
  {
   "cell_type": "code",
   "execution_count": 12,
   "id": "municipal-hudson",
   "metadata": {},
   "outputs": [
    {
     "data": {
      "text/plain": [
       "count    2928.000000\n",
       "mean       30.407445\n",
       "std       118.114450\n",
       "min         0.000000\n",
       "25%         0.000000\n",
       "50%         3.000000\n",
       "75%        22.000000\n",
       "max      1800.000000\n",
       "Name: infant_deaths, dtype: float64"
      ]
     },
     "execution_count": 12,
     "metadata": {},
     "output_type": "execute_result"
    }
   ],
   "source": [
    "df['infant_deaths'].describe()"
   ]
  },
  {
   "cell_type": "code",
   "execution_count": 13,
   "id": "played-temple",
   "metadata": {},
   "outputs": [
    {
     "data": {
      "text/plain": [
       "[]"
      ]
     },
     "execution_count": 13,
     "metadata": {},
     "output_type": "execute_result"
    },
    {
     "data": {
      "image/png": "[encoded data removed]",
      "text/plain": [
       "<Figure size 432x288 with 1 Axes>"
      ]
     },
     "metadata": {},
     "output_type": "display_data"
    }
   ],
   "source": [
    "sns.set_theme(style=\"ticks\")\n",
    "sns.boxplot(x = 'infant_deaths', \n",
    "            showfliers = False,         \n",
    "            data = df)\n",
    "sns.despine(offset=10, trim=True)\n",
    "plt.plot()"
   ]
  },
  {
   "cell_type": "markdown",
   "id": "incorporate-generator",
   "metadata": {},
   "source": [
    "#### Nulos:"
   ]
  },
  {
   "cell_type": "code",
   "execution_count": 14,
   "id": "chinese-matthew",
   "metadata": {},
   "outputs": [
    {
     "data": {
      "text/html": [
       "<div>\n",
       "<style scoped>\n",
       "    .dataframe tbody tr th:only-of-type {\n",
       "        vertical-align: middle;\n",
       "    }\n",
       "\n",
       "    .dataframe tbody tr th {\n",
       "        vertical-align: top;\n",
       "    }\n",
       "\n",
       "    .dataframe thead th {\n",
       "        text-align: right;\n",
       "    }\n",
       "</style>\n",
       "<table border=\"1\" class=\"dataframe\">\n",
       "  <thead>\n",
       "    <tr style=\"text-align: right;\">\n",
       "      <th></th>\n",
       "      <th>col</th>\n",
       "      <th>porcentaje_nul</th>\n",
       "    </tr>\n",
       "  </thead>\n",
       "  <tbody>\n",
       "    <tr>\n",
       "      <th>6</th>\n",
       "      <td>alcohol</td>\n",
       "      <td>6.591530</td>\n",
       "    </tr>\n",
       "    <tr>\n",
       "      <th>8</th>\n",
       "      <td>hepatitis_b</td>\n",
       "      <td>18.886612</td>\n",
       "    </tr>\n",
       "    <tr>\n",
       "      <th>10</th>\n",
       "      <td>_bmi_</td>\n",
       "      <td>1.092896</td>\n",
       "    </tr>\n",
       "    <tr>\n",
       "      <th>12</th>\n",
       "      <td>polio</td>\n",
       "      <td>0.648907</td>\n",
       "    </tr>\n",
       "    <tr>\n",
       "      <th>13</th>\n",
       "      <td>total_expenditure</td>\n",
       "      <td>7.718579</td>\n",
       "    </tr>\n",
       "    <tr>\n",
       "      <th>14</th>\n",
       "      <td>diphtheria_</td>\n",
       "      <td>0.648907</td>\n",
       "    </tr>\n",
       "    <tr>\n",
       "      <th>16</th>\n",
       "      <td>gdp</td>\n",
       "      <td>15.129781</td>\n",
       "    </tr>\n",
       "    <tr>\n",
       "      <th>17</th>\n",
       "      <td>population</td>\n",
       "      <td>21.994536</td>\n",
       "    </tr>\n",
       "    <tr>\n",
       "      <th>18</th>\n",
       "      <td>_thinness_1_19_years</td>\n",
       "      <td>1.092896</td>\n",
       "    </tr>\n",
       "    <tr>\n",
       "      <th>19</th>\n",
       "      <td>_thinness_5_9_years</td>\n",
       "      <td>1.092896</td>\n",
       "    </tr>\n",
       "    <tr>\n",
       "      <th>20</th>\n",
       "      <td>income_composition_of_resources</td>\n",
       "      <td>5.464481</td>\n",
       "    </tr>\n",
       "    <tr>\n",
       "      <th>21</th>\n",
       "      <td>schooling</td>\n",
       "      <td>5.464481</td>\n",
       "    </tr>\n",
       "  </tbody>\n",
       "</table>\n",
       "</div>"
      ],
      "text/plain": [
       "                                col  porcentaje_nul\n",
       "6                           alcohol        6.591530\n",
       "8                       hepatitis_b       18.886612\n",
       "10                            _bmi_        1.092896\n",
       "12                            polio        0.648907\n",
       "13                total_expenditure        7.718579\n",
       "14                      diphtheria_        0.648907\n",
       "16                              gdp       15.129781\n",
       "17                       population       21.994536\n",
       "18             _thinness_1_19_years        1.092896\n",
       "19              _thinness_5_9_years        1.092896\n",
       "20  income_composition_of_resources        5.464481\n",
       "21                        schooling        5.464481"
      ]
     },
     "execution_count": 14,
     "metadata": {},
     "output_type": "execute_result"
    }
   ],
   "source": [
    "df_nuls = pd.DataFrame(df.isna().sum()/df.shape[0]*100).reset_index()\n",
    "df_nuls.rename(columns = {0: 'porcentaje_nul',\n",
    "                         'index' : 'col'},inplace = True)\n",
    "con_nulos = df_nuls.porcentaje_nul > 0\n",
    "df_nuls[con_nulos]"
   ]
  },
  {
   "cell_type": "code",
   "execution_count": 15,
   "id": "horizontal-swift",
   "metadata": {},
   "outputs": [],
   "source": [
    "cols = df_nuls[con_nulos].col.to_list()\n",
    "cols1 = cols.copy()\n",
    "cols1.append('country')\n",
    "cols1.append('year')"
   ]
  },
  {
   "cell_type": "markdown",
   "id": "cloudy-gallery",
   "metadata": {},
   "source": [
    "Llenamos con la media de cada pais, si podemos"
   ]
  },
  {
   "cell_type": "code",
   "execution_count": 16,
   "id": "robust-thomas",
   "metadata": {},
   "outputs": [],
   "source": [
    "medias = df.groupby('country').mean()\\\n",
    "           .reset_index()\\\n",
    "           .add_prefix('mean_')"
   ]
  },
  {
   "cell_type": "code",
   "execution_count": 17,
   "id": "taken-instrument",
   "metadata": {},
   "outputs": [],
   "source": [
    "df = df.merge(medias,\n",
    "               left_on = 'country',\n",
    "               right_on = 'mean_country',\n",
    "              how = 'left')"
   ]
  },
  {
   "cell_type": "code",
   "execution_count": 18,
   "id": "acoustic-stephen",
   "metadata": {},
   "outputs": [],
   "source": [
    "for col in cols:\n",
    "    df[col] = (df[col].combine_first(df['mean_' +  col]))"
   ]
  },
  {
   "cell_type": "code",
   "execution_count": 19,
   "id": "adverse-gravity",
   "metadata": {},
   "outputs": [
    {
     "data": {
      "text/plain": [
       "alcohol                             16\n",
       "hepatitis_b                        144\n",
       "_bmi_                               32\n",
       "polio                                0\n",
       "total_expenditure                   32\n",
       "diphtheria_                          0\n",
       "gdp                                400\n",
       "population                         640\n",
       "_thinness_1_19_years                32\n",
       "_thinness_5_9_years                 32\n",
       "income_composition_of_resources    160\n",
       "schooling                          160\n",
       "dtype: int64"
      ]
     },
     "execution_count": 19,
     "metadata": {},
     "output_type": "execute_result"
    }
   ],
   "source": [
    "df[cols].isna().sum()"
   ]
  },
  {
   "cell_type": "markdown",
   "id": "southeast-voice",
   "metadata": {},
   "source": [
    "Como seguimos teniendo nulos, al resto los llenamos con la media de la columna"
   ]
  },
  {
   "cell_type": "code",
   "execution_count": 20,
   "id": "medical-decade",
   "metadata": {},
   "outputs": [],
   "source": [
    "df[cols] = df[cols].apply(lambda x: x.fillna(x.mean()),axis=0)"
   ]
  },
  {
   "cell_type": "code",
   "execution_count": 21,
   "id": "tamil-agriculture",
   "metadata": {},
   "outputs": [
    {
     "data": {
      "text/plain": [
       "alcohol                            0\n",
       "hepatitis_b                        0\n",
       "_bmi_                              0\n",
       "polio                              0\n",
       "total_expenditure                  0\n",
       "diphtheria_                        0\n",
       "gdp                                0\n",
       "population                         0\n",
       "_thinness_1_19_years               0\n",
       "_thinness_5_9_years                0\n",
       "income_composition_of_resources    0\n",
       "schooling                          0\n",
       "dtype: int64"
      ]
     },
     "execution_count": 21,
     "metadata": {},
     "output_type": "execute_result"
    }
   ],
   "source": [
    "df[cols].isna().sum()"
   ]
  },
  {
   "cell_type": "code",
   "execution_count": 22,
   "id": "seasonal-seeking",
   "metadata": {},
   "outputs": [],
   "source": [
    "columnas = [c for c in df.columns if c.lower()[:5] != 'mean_']\n",
    "df = df[columnas]"
   ]
  },
  {
   "cell_type": "markdown",
   "id": "imperial-thriller",
   "metadata": {},
   "source": [
    "### Data preparation"
   ]
  },
  {
   "cell_type": "code",
   "execution_count": 23,
   "id": "wooden-insured",
   "metadata": {},
   "outputs": [],
   "source": [
    "X = df.drop(columns = 'life_expectancy_', axis = 1)\n",
    "y = df.life_expectancy_"
   ]
  },
  {
   "cell_type": "markdown",
   "id": "through-earthquake",
   "metadata": {},
   "source": [
    "Como utilizaremos arboles tenemos que cambiar las variables a numéricas"
   ]
  },
  {
   "cell_type": "code",
   "execution_count": 24,
   "id": "bulgarian-component",
   "metadata": {},
   "outputs": [],
   "source": [
    "for n in X.columns:\n",
    "    if 'object' in str(X[n].dtype) or 'category' in str(X[n].dtype):\n",
    "        X[n] = X[n].astype('category').cat.codes"
   ]
  },
  {
   "cell_type": "code",
   "execution_count": 25,
   "id": "accessible-retrieval",
   "metadata": {},
   "outputs": [
    {
     "data": {
      "text/html": [
       "<div>\n",
       "<style scoped>\n",
       "    .dataframe tbody tr th:only-of-type {\n",
       "        vertical-align: middle;\n",
       "    }\n",
       "\n",
       "    .dataframe tbody tr th {\n",
       "        vertical-align: top;\n",
       "    }\n",
       "\n",
       "    .dataframe thead th {\n",
       "        text-align: right;\n",
       "    }\n",
       "</style>\n",
       "<table border=\"1\" class=\"dataframe\">\n",
       "  <thead>\n",
       "    <tr style=\"text-align: right;\">\n",
       "      <th></th>\n",
       "      <th>country</th>\n",
       "      <th>year</th>\n",
       "      <th>status</th>\n",
       "      <th>adult_mortality</th>\n",
       "      <th>infant_deaths</th>\n",
       "      <th>alcohol</th>\n",
       "      <th>percentage_expenditure</th>\n",
       "      <th>hepatitis_b</th>\n",
       "      <th>measles_</th>\n",
       "      <th>_bmi_</th>\n",
       "      <th>under_five_deaths_</th>\n",
       "      <th>polio</th>\n",
       "      <th>total_expenditure</th>\n",
       "      <th>diphtheria_</th>\n",
       "      <th>_hiv_aids</th>\n",
       "      <th>gdp</th>\n",
       "      <th>population</th>\n",
       "      <th>_thinness_1_19_years</th>\n",
       "      <th>_thinness_5_9_years</th>\n",
       "      <th>income_composition_of_resources</th>\n",
       "      <th>schooling</th>\n",
       "    </tr>\n",
       "  </thead>\n",
       "  <tbody>\n",
       "    <tr>\n",
       "      <th>0</th>\n",
       "      <td>0</td>\n",
       "      <td>2015</td>\n",
       "      <td>1</td>\n",
       "      <td>263.0</td>\n",
       "      <td>62</td>\n",
       "      <td>0.01</td>\n",
       "      <td>71.279624</td>\n",
       "      <td>65.0</td>\n",
       "      <td>1154</td>\n",
       "      <td>19.1</td>\n",
       "      <td>83</td>\n",
       "      <td>6.0</td>\n",
       "      <td>8.16</td>\n",
       "      <td>65.0</td>\n",
       "      <td>0.1</td>\n",
       "      <td>584.259210</td>\n",
       "      <td>33736494.0</td>\n",
       "      <td>17.2</td>\n",
       "      <td>17.3</td>\n",
       "      <td>0.479</td>\n",
       "      <td>10.1</td>\n",
       "    </tr>\n",
       "    <tr>\n",
       "      <th>1</th>\n",
       "      <td>0</td>\n",
       "      <td>2014</td>\n",
       "      <td>1</td>\n",
       "      <td>271.0</td>\n",
       "      <td>64</td>\n",
       "      <td>0.01</td>\n",
       "      <td>73.523582</td>\n",
       "      <td>62.0</td>\n",
       "      <td>492</td>\n",
       "      <td>18.6</td>\n",
       "      <td>86</td>\n",
       "      <td>58.0</td>\n",
       "      <td>8.18</td>\n",
       "      <td>62.0</td>\n",
       "      <td>0.1</td>\n",
       "      <td>612.696514</td>\n",
       "      <td>327582.0</td>\n",
       "      <td>17.5</td>\n",
       "      <td>17.5</td>\n",
       "      <td>0.476</td>\n",
       "      <td>10.0</td>\n",
       "    </tr>\n",
       "    <tr>\n",
       "      <th>2</th>\n",
       "      <td>0</td>\n",
       "      <td>2013</td>\n",
       "      <td>1</td>\n",
       "      <td>268.0</td>\n",
       "      <td>66</td>\n",
       "      <td>0.01</td>\n",
       "      <td>73.219243</td>\n",
       "      <td>64.0</td>\n",
       "      <td>430</td>\n",
       "      <td>18.1</td>\n",
       "      <td>89</td>\n",
       "      <td>62.0</td>\n",
       "      <td>8.13</td>\n",
       "      <td>64.0</td>\n",
       "      <td>0.1</td>\n",
       "      <td>631.744976</td>\n",
       "      <td>31731688.0</td>\n",
       "      <td>17.7</td>\n",
       "      <td>17.7</td>\n",
       "      <td>0.470</td>\n",
       "      <td>9.9</td>\n",
       "    </tr>\n",
       "    <tr>\n",
       "      <th>3</th>\n",
       "      <td>0</td>\n",
       "      <td>2012</td>\n",
       "      <td>1</td>\n",
       "      <td>272.0</td>\n",
       "      <td>69</td>\n",
       "      <td>0.01</td>\n",
       "      <td>78.184215</td>\n",
       "      <td>67.0</td>\n",
       "      <td>2787</td>\n",
       "      <td>17.6</td>\n",
       "      <td>93</td>\n",
       "      <td>67.0</td>\n",
       "      <td>8.52</td>\n",
       "      <td>67.0</td>\n",
       "      <td>0.1</td>\n",
       "      <td>669.959000</td>\n",
       "      <td>3696958.0</td>\n",
       "      <td>17.9</td>\n",
       "      <td>18.0</td>\n",
       "      <td>0.463</td>\n",
       "      <td>9.8</td>\n",
       "    </tr>\n",
       "    <tr>\n",
       "      <th>4</th>\n",
       "      <td>0</td>\n",
       "      <td>2011</td>\n",
       "      <td>1</td>\n",
       "      <td>275.0</td>\n",
       "      <td>71</td>\n",
       "      <td>0.01</td>\n",
       "      <td>7.097109</td>\n",
       "      <td>68.0</td>\n",
       "      <td>3013</td>\n",
       "      <td>17.2</td>\n",
       "      <td>97</td>\n",
       "      <td>68.0</td>\n",
       "      <td>7.87</td>\n",
       "      <td>68.0</td>\n",
       "      <td>0.1</td>\n",
       "      <td>63.537231</td>\n",
       "      <td>2978599.0</td>\n",
       "      <td>18.2</td>\n",
       "      <td>18.2</td>\n",
       "      <td>0.454</td>\n",
       "      <td>9.5</td>\n",
       "    </tr>\n",
       "  </tbody>\n",
       "</table>\n",
       "</div>"
      ],
      "text/plain": [
       "   country  year  status  adult_mortality  infant_deaths  alcohol  \\\n",
       "0        0  2015       1            263.0             62     0.01   \n",
       "1        0  2014       1            271.0             64     0.01   \n",
       "2        0  2013       1            268.0             66     0.01   \n",
       "3        0  2012       1            272.0             69     0.01   \n",
       "4        0  2011       1            275.0             71     0.01   \n",
       "\n",
       "   percentage_expenditure  hepatitis_b  measles_  _bmi_  under_five_deaths_  \\\n",
       "0               71.279624         65.0      1154   19.1                  83   \n",
       "1               73.523582         62.0       492   18.6                  86   \n",
       "2               73.219243         64.0       430   18.1                  89   \n",
       "3               78.184215         67.0      2787   17.6                  93   \n",
       "4                7.097109         68.0      3013   17.2                  97   \n",
       "\n",
       "   polio  total_expenditure  diphtheria_  _hiv_aids         gdp  population  \\\n",
       "0    6.0               8.16         65.0        0.1  584.259210  33736494.0   \n",
       "1   58.0               8.18         62.0        0.1  612.696514    327582.0   \n",
       "2   62.0               8.13         64.0        0.1  631.744976  31731688.0   \n",
       "3   67.0               8.52         67.0        0.1  669.959000   3696958.0   \n",
       "4   68.0               7.87         68.0        0.1   63.537231   2978599.0   \n",
       "\n",
       "   _thinness_1_19_years  _thinness_5_9_years  income_composition_of_resources  \\\n",
       "0                  17.2                 17.3                            0.479   \n",
       "1                  17.5                 17.5                            0.476   \n",
       "2                  17.7                 17.7                            0.470   \n",
       "3                  17.9                 18.0                            0.463   \n",
       "4                  18.2                 18.2                            0.454   \n",
       "\n",
       "   schooling  \n",
       "0       10.1  \n",
       "1       10.0  \n",
       "2        9.9  \n",
       "3        9.8  \n",
       "4        9.5  "
      ]
     },
     "execution_count": 25,
     "metadata": {},
     "output_type": "execute_result"
    }
   ],
   "source": [
    "X.head()"
   ]
  },
  {
   "cell_type": "markdown",
   "id": "frank-supervision",
   "metadata": {},
   "source": [
    "#### Split"
   ]
  },
  {
   "cell_type": "code",
   "execution_count": 26,
   "id": "affiliated-prime",
   "metadata": {},
   "outputs": [],
   "source": [
    "X_train, X_test, y_train, y_test = train_test_split(X, y,\n",
    "                                                    test_size=0.2, \n",
    "                                                    random_state=17)"
   ]
  },
  {
   "cell_type": "markdown",
   "id": "fabulous-present",
   "metadata": {},
   "source": [
    "#### Escalado"
   ]
  },
  {
   "cell_type": "code",
   "execution_count": 27,
   "id": "concrete-floating",
   "metadata": {},
   "outputs": [],
   "source": [
    "sc = StandardScaler()\n",
    "X_train = sc.fit_transform(X_train)\n",
    "X_test = sc.transform(X_test)"
   ]
  },
  {
   "cell_type": "markdown",
   "id": "appreciated-sydney",
   "metadata": {},
   "source": [
    "#### Cross Validation"
   ]
  },
  {
   "cell_type": "markdown",
   "id": "featured-lebanon",
   "metadata": {},
   "source": [
    "En este caso utilizaremos KFold y no StratifiedKFold, ya que tenemos un problema de regresión y no tenemos clases que querramos que queden divididas de manera estratificada."
   ]
  },
  {
   "cell_type": "code",
   "execution_count": 28,
   "id": "missing-department",
   "metadata": {},
   "outputs": [],
   "source": [
    "par = list(np.arange(0, 1, step=0.01))\n",
    "cv = KFold(n_splits=5, \n",
    "           random_state=0, \n",
    "           shuffle=True)"
   ]
  },
  {
   "cell_type": "markdown",
   "id": "arranged-noise",
   "metadata": {},
   "source": [
    "### Decision Tree"
   ]
  },
  {
   "cell_type": "code",
   "execution_count": 29,
   "id": "pharmaceutical-express",
   "metadata": {},
   "outputs": [],
   "source": [
    "tunner_t = GridSearchCV(estimator=DecisionTreeRegressor(), \n",
    "                            param_grid={'ccp_alpha':par}, \n",
    "                            cv=cv)"
   ]
  },
  {
   "cell_type": "code",
   "execution_count": 30,
   "id": "fatal-health",
   "metadata": {},
   "outputs": [],
   "source": [
    "_=tunner_t.fit(X_train, y_train)"
   ]
  },
  {
   "cell_type": "code",
   "execution_count": 31,
   "id": "little-spyware",
   "metadata": {},
   "outputs": [],
   "source": [
    "y_tr_pred = tunner_t.predict(X_train)"
   ]
  },
  {
   "cell_type": "code",
   "execution_count": 32,
   "id": "consolidated-bracelet",
   "metadata": {},
   "outputs": [
    {
     "data": {
      "image/png": "[encoded data removed]",
      "text/plain": [
       "<Figure size 576x432 with 1 Axes>"
      ]
     },
     "metadata": {},
     "output_type": "display_data"
    }
   ],
   "source": [
    "fig = plt.figure(figsize=(8,6))\n",
    "ax = fig.add_subplot(111)\n",
    "ax.errorbar(tunner_t.cv_results_['param_ccp_alpha'], \n",
    "            tunner_t.cv_results_['mean_test_score'], \n",
    "            yerr=tunner_t.cv_results_['std_test_score'], \n",
    "            capsize=5,\n",
    "            marker='^')\n",
    "_=ax.set_title('CV 5 fold Error', fontsize=20)"
   ]
  },
  {
   "cell_type": "markdown",
   "id": "noticed-repeat",
   "metadata": {},
   "source": [
    "A medida que el alfa se hace mayor va cayendo el score en test."
   ]
  },
  {
   "cell_type": "markdown",
   "id": "serial-pastor",
   "metadata": {},
   "source": [
    "#### Train validation"
   ]
  },
  {
   "cell_type": "code",
   "execution_count": 33,
   "id": "cultural-natural",
   "metadata": {},
   "outputs": [
    {
     "name": "stdout",
     "output_type": "stream",
     "text": [
      "0.9713836280053547\n"
     ]
    }
   ],
   "source": [
    "print(r2_score(y_train, y_tr_pred))"
   ]
  },
  {
   "cell_type": "markdown",
   "id": "diverse-turner",
   "metadata": {},
   "source": [
    "#### Test validation"
   ]
  },
  {
   "cell_type": "code",
   "execution_count": 34,
   "id": "offensive-passenger",
   "metadata": {},
   "outputs": [],
   "source": [
    "y_te_pred = tunner_t.predict(X_test)"
   ]
  },
  {
   "cell_type": "code",
   "execution_count": 35,
   "id": "emotional-cliff",
   "metadata": {},
   "outputs": [
    {
     "name": "stdout",
     "output_type": "stream",
     "text": [
      "0.926759580516752\n"
     ]
    }
   ],
   "source": [
    "print(r2_score(y_test, y_te_pred))"
   ]
  },
  {
   "cell_type": "code",
   "execution_count": 36,
   "id": "pregnant-prevention",
   "metadata": {},
   "outputs": [
    {
     "data": {
      "text/plain": [
       "{'ccp_alpha': 0.02}"
      ]
     },
     "execution_count": 36,
     "metadata": {},
     "output_type": "execute_result"
    }
   ],
   "source": [
    "tunner_t.best_params_"
   ]
  },
  {
   "cell_type": "markdown",
   "id": "sitting-updating",
   "metadata": {},
   "source": [
    "Vemos que el score de train es .97, el de test .93. Y nuestro alfa de 0.02. Si bien existió cierto tipo de penalización podemos imaginar un arbol sobreajustado. "
   ]
  },
  {
   "cell_type": "code",
   "execution_count": 37,
   "id": "precise-violation",
   "metadata": {},
   "outputs": [
    {
     "data": {
      "image/png": "[encoded data removed]",
      "text/plain": [
       "<Figure size 1440x576 with 1 Axes>"
      ]
     },
     "metadata": {},
     "output_type": "display_data"
    }
   ],
   "source": [
    "fig = plt.figure(figsize=(20,8))\n",
    "\n",
    "ax = fig.add_subplot(121)\n",
    "ax.scatter(y_te_pred, y_test, alpha=0.3)\n",
    "ax.plot(y_te_pred, y_te_pred, c='g')\n",
    "ax.set_xlabel('y predicha', fontsize=14)\n",
    "ax.set_ylabel('y real', fontsize=14)\n",
    "\n",
    "plt.show()"
   ]
  },
  {
   "cell_type": "markdown",
   "id": "linear-gates",
   "metadata": {},
   "source": [
    "### BaggingRegressor\n",
    "\n",
    "\n",
    "Repetir utilizando BaggingRegressor con 30 estimadores para el modelo cuyo alpha\n",
    "presenta el mejor error de predicción. Analizar cómo varía el error de test para dicho\n",
    "BaggingRegressor al utilizar [2, 5, 10, 20, 40, 80, 150, 300, 500] estimadores.\n",
    "Compare con el error de test del árbol cuyo alpha presenta el mejor error de\n",
    "predicción. Discuta los resultados brevemente. (5 pts.)"
   ]
  },
  {
   "cell_type": "code",
   "execution_count": 38,
   "id": "micro-november",
   "metadata": {},
   "outputs": [],
   "source": [
    "n_estimadores = [2, 5, 10, 20, 40, 80, 150, 300, 500]\n",
    "cv = KFold(n_splits=5)"
   ]
  },
  {
   "cell_type": "code",
   "execution_count": 39,
   "id": "sized-logging",
   "metadata": {},
   "outputs": [],
   "source": [
    "t = DecisionTreeRegressor()\n",
    "par = list(np.arange(0.005, 1., step=0.05))\n",
    "bag = BaggingRegressor(base_estimator=t, n_estimators=30, random_state=0, n_jobs=-1)\n",
    "tunner_bag = GridSearchCV(estimator=bag, param_grid={'base_estimator__ccp_alpha':par}, cv=cv)\n",
    "_=tunner_bag.fit(X_train, y_train)"
   ]
  },
  {
   "cell_type": "code",
   "execution_count": 40,
   "id": "sunrise-vocabulary",
   "metadata": {},
   "outputs": [],
   "source": [
    "y_tr_pred = tunner_bag.predict(X_train)"
   ]
  },
  {
   "cell_type": "code",
   "execution_count": 41,
   "id": "based-studio",
   "metadata": {},
   "outputs": [
    {
     "data": {
      "image/png": "[encoded data removed]",
      "text/plain": [
       "<Figure size 576x432 with 1 Axes>"
      ]
     },
     "metadata": {},
     "output_type": "display_data"
    }
   ],
   "source": [
    "fig = plt.figure(figsize=(8,6))\n",
    "ax = fig.add_subplot(111)\n",
    "ax.errorbar(tunner_bag.cv_results_['param_base_estimator__ccp_alpha'], \n",
    "            tunner_bag.cv_results_['mean_test_score'], \n",
    "            yerr=tunner_bag.cv_results_['std_test_score'], \n",
    "            capsize=5,\n",
    "            marker='^')\n",
    "_=ax.set_title('CV 5 fold Error', fontsize=20)"
   ]
  },
  {
   "cell_type": "markdown",
   "id": "divided-billion",
   "metadata": {},
   "source": [
    "A medida que el alfa se hace mayor va cayendo el score en test."
   ]
  },
  {
   "cell_type": "markdown",
   "id": "allied-population",
   "metadata": {},
   "source": [
    "#### Train validation"
   ]
  },
  {
   "cell_type": "code",
   "execution_count": 42,
   "id": "reflected-constitution",
   "metadata": {},
   "outputs": [
    {
     "name": "stdout",
     "output_type": "stream",
     "text": [
      "0.9906219341754465\n"
     ]
    }
   ],
   "source": [
    "print(r2_score(y_train, y_tr_pred))"
   ]
  },
  {
   "cell_type": "markdown",
   "id": "meaning-intent",
   "metadata": {},
   "source": [
    "#### Test validation"
   ]
  },
  {
   "cell_type": "code",
   "execution_count": 43,
   "id": "tender-breed",
   "metadata": {},
   "outputs": [],
   "source": [
    "y_te_pred = tunner_bag.predict(X_test)"
   ]
  },
  {
   "cell_type": "code",
   "execution_count": 44,
   "id": "abandoned-librarian",
   "metadata": {},
   "outputs": [
    {
     "name": "stdout",
     "output_type": "stream",
     "text": [
      "0.9662715031154541\n"
     ]
    }
   ],
   "source": [
    "print(r2_score(y_test, y_te_pred))"
   ]
  },
  {
   "cell_type": "code",
   "execution_count": 45,
   "id": "involved-explosion",
   "metadata": {},
   "outputs": [
    {
     "data": {
      "text/plain": [
       "{'base_estimator__ccp_alpha': 0.005}"
      ]
     },
     "execution_count": 45,
     "metadata": {},
     "output_type": "execute_result"
    }
   ],
   "source": [
    "tunner_bag.best_params_"
   ]
  },
  {
   "cell_type": "markdown",
   "id": "infrared-slope",
   "metadata": {},
   "source": [
    "Vemos que para alfas mas chicos el arbol es mas complejo"
   ]
  },
  {
   "cell_type": "code",
   "execution_count": 46,
   "id": "sound-skiing",
   "metadata": {},
   "outputs": [
    {
     "data": {
      "image/png": "[encoded data removed]",
      "text/plain": [
       "<Figure size 1440x576 with 1 Axes>"
      ]
     },
     "metadata": {},
     "output_type": "display_data"
    }
   ],
   "source": [
    "fig = plt.figure(figsize=(20,8))\n",
    "\n",
    "ax = fig.add_subplot(121)\n",
    "ax.scatter(y_te_pred, y_test, alpha=0.3)\n",
    "ax.plot(y_te_pred, y_te_pred, c='g')\n",
    "ax.set_xlabel('y predicha', fontsize=14)\n",
    "ax.set_ylabel('y real', fontsize=14)\n",
    "\n",
    "plt.show()"
   ]
  },
  {
   "cell_type": "markdown",
   "id": "sorted-going",
   "metadata": {},
   "source": [
    "Cuando usamos 30 estimadores, vemos que los scores de train y testing se parecen un poco mas. Esto nos ayuda a disminuir el sobreajuste."
   ]
  },
  {
   "cell_type": "markdown",
   "id": "fuzzy-offset",
   "metadata": {},
   "source": [
    "### Variando n_estimators"
   ]
  },
  {
   "cell_type": "code",
   "execution_count": 47,
   "id": "incorporate-price",
   "metadata": {},
   "outputs": [],
   "source": [
    "t1 = DecisionTreeRegressor(ccp_alpha=0.005)\n",
    "\n",
    "bag1 = BaggingRegressor(base_estimator=t1,random_state=0, n_jobs=-1)\n",
    "\n",
    "tunner_bag1 = GridSearchCV(estimator=bag1, \n",
    "                          param_grid={'n_estimators':[2, 5, 10, 20, 40, 80, 150, 300, 500]}, \n",
    "                          cv=cv)\n",
    "_=tunner_bag1.fit(X_train, y_train)"
   ]
  },
  {
   "cell_type": "code",
   "execution_count": 48,
   "id": "egyptian-pendant",
   "metadata": {},
   "outputs": [],
   "source": [
    "y_tr_pred1 = tunner_bag1.predict(X_train)"
   ]
  },
  {
   "cell_type": "code",
   "execution_count": 49,
   "id": "joined-brass",
   "metadata": {},
   "outputs": [
    {
     "data": {
      "image/png": "[encoded data removed]",
      "text/plain": [
       "<Figure size 576x432 with 1 Axes>"
      ]
     },
     "metadata": {},
     "output_type": "display_data"
    }
   ],
   "source": [
    "fig = plt.figure(figsize=(8,6))\n",
    "ax = fig.add_subplot(111)\n",
    "ax.errorbar(tunner_bag1.cv_results_['param_n_estimators'], \n",
    "            tunner_bag1.cv_results_['mean_test_score'], \n",
    "            yerr=tunner_bag1.cv_results_['std_test_score'], \n",
    "            capsize=5,\n",
    "            marker='^')\n",
    "_=ax.set_title('CV 5 fold Error', fontsize=20)"
   ]
  },
  {
   "cell_type": "code",
   "execution_count": 50,
   "id": "regional-challenge",
   "metadata": {},
   "outputs": [
    {
     "data": {
      "text/plain": [
       "{'n_estimators': 500}"
      ]
     },
     "execution_count": 50,
     "metadata": {},
     "output_type": "execute_result"
    }
   ],
   "source": [
    "tunner_bag1.best_params_"
   ]
  },
  {
   "cell_type": "markdown",
   "id": "future-plant",
   "metadata": {},
   "source": [
    "#### Train validation"
   ]
  },
  {
   "cell_type": "code",
   "execution_count": 51,
   "id": "young-forth",
   "metadata": {},
   "outputs": [
    {
     "name": "stdout",
     "output_type": "stream",
     "text": [
      "0.9919417429427633\n"
     ]
    }
   ],
   "source": [
    "print(r2_score(y_train, y_tr_pred1))"
   ]
  },
  {
   "cell_type": "markdown",
   "id": "portable-passage",
   "metadata": {},
   "source": [
    "#### Test validation"
   ]
  },
  {
   "cell_type": "code",
   "execution_count": 52,
   "id": "important-safety",
   "metadata": {},
   "outputs": [],
   "source": [
    "y_te_pred1 = tunner_bag1.predict(X_test)"
   ]
  },
  {
   "cell_type": "code",
   "execution_count": 53,
   "id": "transsexual-fifth",
   "metadata": {},
   "outputs": [
    {
     "name": "stdout",
     "output_type": "stream",
     "text": [
      "0.9675951808198942\n"
     ]
    }
   ],
   "source": [
    "print(r2_score(y_test, y_te_pred1))"
   ]
  },
  {
   "cell_type": "code",
   "execution_count": 54,
   "id": "verified-failure",
   "metadata": {},
   "outputs": [
    {
     "data": {
      "image/png": "[encoded data removed]",
      "text/plain": [
       "<Figure size 1440x576 with 1 Axes>"
      ]
     },
     "metadata": {},
     "output_type": "display_data"
    }
   ],
   "source": [
    "fig = plt.figure(figsize=(20,8))\n",
    "\n",
    "ax = fig.add_subplot(121)\n",
    "ax.scatter(y_te_pred1, y_test, alpha=0.3)\n",
    "ax.plot(y_te_pred1, y_te_pred1, c='g')\n",
    "ax.set_xlabel('y predicha', fontsize=14)\n",
    "ax.set_ylabel('y real', fontsize=14)\n",
    "\n",
    "plt.show()"
   ]
  },
  {
   "cell_type": "markdown",
   "id": "loose-handy",
   "metadata": {},
   "source": [
    "Con 500 estimadores pasa algo muy similar a los 30. Al realizar bagging lo que hacemos es ensamblar estimadores que fitean regresores con subsets random del dataset original y luego agrega las predicciones individuales para armar una predicción final. Esto permite reducir la varianza de las predicciones a través de la combinación de los resultados de varios clasificadores, evitando el sobreajuste."
   ]
  }
 ],
 "metadata": {
  "kernelspec": {
   "display_name": "Python 3",
   "language": "python",
   "name": "python3"
  },
  "language_info": {
   "codemirror_mode": {
    "name": "ipython",
    "version": 3
   },
   "file_extension": ".py",
   "mimetype": "text/x-python",
   "name": "python",
   "nbconvert_exporter": "python",
   "pygments_lexer": "ipython3",
   "version": "3.9.2"
  }
 },
 "nbformat": 4,
 "nbformat_minor": 5
}
