{
 "cells": [
  {
   "cell_type": "markdown",
   "metadata": {},
   "source": [
    "# Introducción"
   ]
  },
  {
   "cell_type": "markdown",
   "metadata": {},
   "source": [
    "Este reporte contiene información referida a la carrera musical del artista Argentino Charly García. Previamente hemos consolidado todo su historial de canciones (tanto solistas como en bandas) en un archivo llamado resultado.txt cargado como 'df_charly'. Asimismo, utilizaremos para el análisis un archivo llamado Albums.xlsx que contiene una marca que indica la categoría de cada uno de los álbumes de Charly García y un último archivo que contiene el Top 99 de mejores canciones del artista. Toda la información ha sido obtenida de la popular plataforma musical Spotify. Luego de trabajar nuestro archivo incorporando toda esta información antes mencionada, nuestro data frame de trabajo queda de la siguiente manera:\n"
   ]
  },
  {
   "cell_type": "code",
   "execution_count": 1,
   "metadata": {},
   "outputs": [],
   "source": [
    "options(jupyter.plot_scale=1)\n",
    "\n",
    "#Instalamos los paquetes necesarios y los cargamos\n",
    "list_of_packages <- c( \"dplyr\", \"tibble\", \"ggplot2\", \"cowplot\", \"tidyr\", \"ggridges\", \"ggbeeswarm\",\n",
    "                      \"GGally\",  \"plotly\", \"treemapify\", \"here\",  \"vcd\", \"colorspace\", \"corrplot\",\n",
    "                      \"readxl\", 'pastecs','kableExtra','IRdisplay'\n",
    "                     )\n",
    "new_packages <- list_of_packages[!(list_of_packages %in% installed.packages()[,\"Package\"])]\n",
    "if(length(new_packages)) install.packages(new_packages)\n",
    "\n",
    "suppressWarnings(suppressMessages(invisible(lapply(list_of_packages, library, character.only = TRUE))))\n",
    "\n",
    "#Leemos el archivo de trabajo resultados.txt\n",
    "PATH <- here('tp 2','Datos')\n",
    "PATH_TP1 <- here('tp1', 'Datos')\n",
    "\n",
    "df_charly<- read.delim(file.path(PATH, 'resultado.txt'),\n",
    "                      header = TRUE, \n",
    "                     )\n",
    "\n",
    "#Leemos el archivo que nos brindara la categoria de los albums\n",
    "albums <- read_excel(\n",
    "            path = file.path(PATH_TP1,\"albums.xlsx\")\n",
    "                   )\n",
    "\n",
    "#Nuestro primer archivo de trabajo tiene la siguiente estructura:\n",
    "#head(df_charly)\n",
    "#El segundo archivo que cuenta con la información de los albums es de la siguiente manera: \n",
    "#head(albums)\n",
    "#Le agregamos al df_charly la información referida a la categoria de los albums. Ya no utilizaremos mas el dataframe de los albums ya que llevamos toda su información al df_charly.\n",
    "#Por último tenemos el siguiente archivo del top 99:\n",
    "cien_mejores <-  read_excel(file.path(PATH,\"100 mejores.xlsx\")) \n",
    "\n",
    "cien_mejores <- cien_mejores  %>% \n",
    "                select (-Artist,-Album,-\"Date Added\") %>% \n",
    "                rename(name = Track) %>% \n",
    "                mutate( name = as.factor(name),\n",
    "                        Top_cien = \"SI\")\n",
    "\n",
    "df_charly <- merge(x = cien_mejores, \n",
    "                  y = df_charly, \n",
    "                  by = \"name\",\n",
    "                  all.x= FALSE,\n",
    "                  all.y = TRUE\n",
    "                 )  %>% \n",
    "            mutate(Top_cien = case_when( is.na(Top_cien) ~ 'NO',\n",
    "                                        TRUE ~ 'SI'\n",
    "                                       )\n",
    "                  )\n",
    "\n",
    "#head(cien_mejores)\n",
    "\n",
    "#Ahora utilizaremos el 'name' para joinear esta tabla con el df_charly e incorporarle al mismo una marca que nos indique si la canción es parte de las 99 mejores o no. Validamos tambien la clave para entender si por diferencias en la escritura de la misma no podremos marcar las 99. Al no contar con una clave numerica del album en el archivo cien mejores, tendremos que usar el nombre, aunque no sea lo mas recomendado. Finalmente, encontramos las siguientes 11 canciones que se encuentran escritas de diferente manera por lo que serán excluidas y nos quedaremos con las 88 mejores, en vez de las 99 originales. \n",
    "#Validamos el archivo que tiene las canciones descargadas de spotify\n",
    "\n",
    "lista_de_canciones <- distinct(tibble::as_tibble((df_charly$name))) \n",
    "lista_de_canciones <- lista_de_canciones  %>% \n",
    "                            merge(cien_mejores, \n",
    "                          by.x = \"value\",\n",
    "                          by.y = 'name',\n",
    "                          all.x= TRUE,\n",
    "                          all.y = FALSE\n",
    "                         )  %>% \n",
    "                         mutate(Top_cien = case_when( is.na(Top_cien) ~ 'NO',\n",
    "                                                  TRUE ~ 'SI'\n",
    "                                                 )\n",
    "                                )\n",
    "\n",
    "lista_de_canciones_si <- lista_de_canciones  %>% \n",
    "                        filter(Top_cien == 'SI')\n",
    "\n",
    "\n",
    "top_cien_no_encontradas <- cien_mejores %>%\n",
    "                         select(-Top_cien)  %>% \n",
    "                          merge(lista_de_canciones_si,\n",
    "                                 by.y = \"value\",\n",
    "                                  by.x = 'name',\n",
    "                                  all.x= TRUE,\n",
    "                                  all.y = FALSE)  %>% \n",
    "                         filter(is.na(Top_cien))  %>%  \n",
    "                         select(-Top_cien)\n",
    "\n",
    "lista_de_canciones_si <- lista_de_canciones  %>% \n",
    "                        filter(Top_cien == 'SI')\n",
    "\n",
    "\n",
    "top_cien_no_encontradas <- cien_mejores %>%\n",
    "                         select(-Top_cien)  %>% \n",
    "                          merge(lista_de_canciones_si,\n",
    "                                 by.y = \"value\",\n",
    "                                 by.x = 'name',\n",
    "                                  all.x= TRUE,\n",
    "                                  all.y = FALSE)  %>% \n",
    "                         filter(is.na(Top_cien))  %>%  \n",
    "                         select(-Top_cien)\n",
    "\n",
    "#Aqui arriba lo que hicimos fue intentar entender con cuantas de las 99 habiamos podido joinear. En top 100 no encontradas estan las 11 que no matchearon\n",
    "\n",
    "# Agregamos al df charly la categoria  \n",
    "albums <- albums  %>% \n",
    "         select(id, categoria)\n",
    "\n",
    "df_charly <- df_charly  %>% \n",
    "            merge(albums, by.x = 'album_id', by.y = 'id', all.x = TRUE)  %>% \n",
    "            rename(categoria_album = categoria)\n",
    "\n"
   ]
  },
  {
   "cell_type": "code",
   "execution_count": 2,
   "metadata": {},
   "outputs": [
    {
     "data": {
      "text/html": [
       "<table>\n",
       "<thead><tr><th scope=col>album_id</th><th scope=col>name</th></tr></thead>\n",
       "<tbody>\n",
       "\t<tr><td>01SHGcb4X59QOezJ2MhqJx                                     </td><td>Mr. Jones o Pequeña Semblanza de una Familia Tipo Americana</td></tr>\n",
       "\t<tr><td>01SHGcb4X59QOezJ2MhqJx                                     </td><td>Lunes Otra Vez                                             </td></tr>\n",
       "</tbody>\n",
       "</table>\n"
      ],
      "text/latex": [
       "\\begin{tabular}{r|ll}\n",
       " album\\_id & name\\\\\n",
       "\\hline\n",
       "\t 01SHGcb4X59QOezJ2MhqJx                                      & Mr. Jones o Pequeña Semblanza de una Familia Tipo Americana\\\\\n",
       "\t 01SHGcb4X59QOezJ2MhqJx                                      & Lunes Otra Vez                                             \\\\\n",
       "\\end{tabular}\n"
      ],
      "text/markdown": [
       "\n",
       "| album_id | name |\n",
       "|---|---|\n",
       "| 01SHGcb4X59QOezJ2MhqJx                                      | Mr. Jones o Pequeña Semblanza de una Familia Tipo Americana |\n",
       "| 01SHGcb4X59QOezJ2MhqJx                                      | Lunes Otra Vez                                              |\n",
       "\n"
      ],
      "text/plain": [
       "  album_id              \n",
       "1 01SHGcb4X59QOezJ2MhqJx\n",
       "2 01SHGcb4X59QOezJ2MhqJx\n",
       "  name                                                       \n",
       "1 Mr. Jones o Pequeña Semblanza de una Familia Tipo Americana\n",
       "2 Lunes Otra Vez                                             "
      ]
     },
     "metadata": {},
     "output_type": "display_data"
    },
    {
     "data": {
      "text/html": [
       "<table>\n",
       "<thead><tr><th scope=col>Top_cien</th><th scope=col>track_number</th><th scope=col>disc_number</th><th scope=col>album_name</th></tr></thead>\n",
       "<tbody>\n",
       "\t<tr><td>SI                     </td><td>8                      </td><td>NA                     </td><td>Confesiones De Invierno</td></tr>\n",
       "\t<tr><td>SI                     </td><td>6                      </td><td>NA                     </td><td>Confesiones De Invierno</td></tr>\n",
       "</tbody>\n",
       "</table>\n"
      ],
      "text/latex": [
       "\\begin{tabular}{r|llll}\n",
       " Top\\_cien & track\\_number & disc\\_number & album\\_name\\\\\n",
       "\\hline\n",
       "\t SI                      & 8                       & NA                      & Confesiones De Invierno\\\\\n",
       "\t SI                      & 6                       & NA                      & Confesiones De Invierno\\\\\n",
       "\\end{tabular}\n"
      ],
      "text/markdown": [
       "\n",
       "| Top_cien | track_number | disc_number | album_name |\n",
       "|---|---|---|---|\n",
       "| SI                      | 8                       | NA                      | Confesiones De Invierno |\n",
       "| SI                      | 6                       | NA                      | Confesiones De Invierno |\n",
       "\n"
      ],
      "text/plain": [
       "  Top_cien track_number disc_number album_name             \n",
       "1 SI       8            NA          Confesiones De Invierno\n",
       "2 SI       6            NA          Confesiones De Invierno"
      ]
     },
     "metadata": {},
     "output_type": "display_data"
    },
    {
     "data": {
      "text/html": [
       "<table>\n",
       "<thead><tr><th scope=col>album_artist</th><th scope=col>id</th><th scope=col>danceability</th><th scope=col>energy</th><th scope=col>key</th></tr></thead>\n",
       "<tbody>\n",
       "\t<tr><td>Sui Generis           </td><td>7s8fyaidK2GOeM40SitjhO</td><td>0.528                 </td><td>0.717                 </td><td>1                     </td></tr>\n",
       "\t<tr><td>Sui Generis           </td><td>7DCumXCLeMSqX8cnMA6ud2</td><td>0.617                 </td><td>0.440                 </td><td>7                     </td></tr>\n",
       "</tbody>\n",
       "</table>\n"
      ],
      "text/latex": [
       "\\begin{tabular}{r|lllll}\n",
       " album\\_artist & id & danceability & energy & key\\\\\n",
       "\\hline\n",
       "\t Sui Generis            & 7s8fyaidK2GOeM40SitjhO & 0.528                  & 0.717                  & 1                     \\\\\n",
       "\t Sui Generis            & 7DCumXCLeMSqX8cnMA6ud2 & 0.617                  & 0.440                  & 7                     \\\\\n",
       "\\end{tabular}\n"
      ],
      "text/markdown": [
       "\n",
       "| album_artist | id | danceability | energy | key |\n",
       "|---|---|---|---|---|\n",
       "| Sui Generis            | 7s8fyaidK2GOeM40SitjhO | 0.528                  | 0.717                  | 1                      |\n",
       "| Sui Generis            | 7DCumXCLeMSqX8cnMA6ud2 | 0.617                  | 0.440                  | 7                      |\n",
       "\n"
      ],
      "text/plain": [
       "  album_artist id                     danceability energy key\n",
       "1 Sui Generis  7s8fyaidK2GOeM40SitjhO 0.528        0.717  1  \n",
       "2 Sui Generis  7DCumXCLeMSqX8cnMA6ud2 0.617        0.440  7  "
      ]
     },
     "metadata": {},
     "output_type": "display_data"
    },
    {
     "data": {
      "text/html": [
       "<table>\n",
       "<thead><tr><th scope=col>loudness</th><th scope=col>mode</th><th scope=col>speechiness</th><th scope=col>acousticness</th><th scope=col>instrumentalness</th><th scope=col>liveness</th><th scope=col>valence</th></tr></thead>\n",
       "<tbody>\n",
       "\t<tr><td>-10.335</td><td>0      </td><td>0.0532 </td><td>0.113  </td><td>0.00279</td><td>0.200  </td><td>0.925  </td></tr>\n",
       "\t<tr><td>-12.251</td><td>1      </td><td>0.0386 </td><td>0.059  </td><td>0.00000</td><td>0.184  </td><td>0.768  </td></tr>\n",
       "</tbody>\n",
       "</table>\n"
      ],
      "text/latex": [
       "\\begin{tabular}{r|lllllll}\n",
       " loudness & mode & speechiness & acousticness & instrumentalness & liveness & valence\\\\\n",
       "\\hline\n",
       "\t -10.335 & 0       & 0.0532  & 0.113   & 0.00279 & 0.200   & 0.925  \\\\\n",
       "\t -12.251 & 1       & 0.0386  & 0.059   & 0.00000 & 0.184   & 0.768  \\\\\n",
       "\\end{tabular}\n"
      ],
      "text/markdown": [
       "\n",
       "| loudness | mode | speechiness | acousticness | instrumentalness | liveness | valence |\n",
       "|---|---|---|---|---|---|---|\n",
       "| -10.335 | 0       | 0.0532  | 0.113   | 0.00279 | 0.200   | 0.925   |\n",
       "| -12.251 | 1       | 0.0386  | 0.059   | 0.00000 | 0.184   | 0.768   |\n",
       "\n"
      ],
      "text/plain": [
       "  loudness mode speechiness acousticness instrumentalness liveness valence\n",
       "1 -10.335  0    0.0532      0.113        0.00279          0.200    0.925  \n",
       "2 -12.251  1    0.0386      0.059        0.00000          0.184    0.768  "
      ]
     },
     "metadata": {},
     "output_type": "display_data"
    },
    {
     "data": {
      "text/html": [
       "<table>\n",
       "<thead><tr><th scope=col>tempo</th><th scope=col>duration_ms</th><th scope=col>time_signature</th><th scope=col>uri</th></tr></thead>\n",
       "<tbody>\n",
       "\t<tr><td>139.050                             </td><td>104373                              </td><td>4                                   </td><td>spotify:track:7s8fyaidK2GOeM40SitjhO</td></tr>\n",
       "\t<tr><td>122.879                             </td><td>190200                              </td><td>4                                   </td><td>spotify:track:7DCumXCLeMSqX8cnMA6ud2</td></tr>\n",
       "</tbody>\n",
       "</table>\n"
      ],
      "text/latex": [
       "\\begin{tabular}{r|llll}\n",
       " tempo & duration\\_ms & time\\_signature & uri\\\\\n",
       "\\hline\n",
       "\t 139.050                              & 104373                               & 4                                    & spotify:track:7s8fyaidK2GOeM40SitjhO\\\\\n",
       "\t 122.879                              & 190200                               & 4                                    & spotify:track:7DCumXCLeMSqX8cnMA6ud2\\\\\n",
       "\\end{tabular}\n"
      ],
      "text/markdown": [
       "\n",
       "| tempo | duration_ms | time_signature | uri |\n",
       "|---|---|---|---|\n",
       "| 139.050                              | 104373                               | 4                                    | spotify:track:7s8fyaidK2GOeM40SitjhO |\n",
       "| 122.879                              | 190200                               | 4                                    | spotify:track:7DCumXCLeMSqX8cnMA6ud2 |\n",
       "\n"
      ],
      "text/plain": [
       "  tempo   duration_ms time_signature uri                                 \n",
       "1 139.050 104373      4              spotify:track:7s8fyaidK2GOeM40SitjhO\n",
       "2 122.879 190200      4              spotify:track:7DCumXCLeMSqX8cnMA6ud2"
      ]
     },
     "metadata": {},
     "output_type": "display_data"
    },
    {
     "data": {
      "text/html": [
       "<table>\n",
       "<thead><tr><th scope=col>analysis_url</th><th scope=col>categoria_album</th></tr></thead>\n",
       "<tbody>\n",
       "\t<tr><td>https://api.spotify.com/v1/audio-analysis/7s8fyaidK2GOeM40SitjhO</td><td>estudio_suigeneris                                              </td></tr>\n",
       "\t<tr><td>https://api.spotify.com/v1/audio-analysis/7DCumXCLeMSqX8cnMA6ud2</td><td>estudio_suigeneris                                              </td></tr>\n",
       "</tbody>\n",
       "</table>\n"
      ],
      "text/latex": [
       "\\begin{tabular}{r|ll}\n",
       " analysis\\_url & categoria\\_album\\\\\n",
       "\\hline\n",
       "\t https://api.spotify.com/v1/audio-analysis/7s8fyaidK2GOeM40SitjhO & estudio\\_suigeneris                                            \\\\\n",
       "\t https://api.spotify.com/v1/audio-analysis/7DCumXCLeMSqX8cnMA6ud2 & estudio\\_suigeneris                                            \\\\\n",
       "\\end{tabular}\n"
      ],
      "text/markdown": [
       "\n",
       "| analysis_url | categoria_album |\n",
       "|---|---|\n",
       "| https://api.spotify.com/v1/audio-analysis/7s8fyaidK2GOeM40SitjhO | estudio_suigeneris                                               |\n",
       "| https://api.spotify.com/v1/audio-analysis/7DCumXCLeMSqX8cnMA6ud2 | estudio_suigeneris                                               |\n",
       "\n"
      ],
      "text/plain": [
       "  analysis_url                                                    \n",
       "1 https://api.spotify.com/v1/audio-analysis/7s8fyaidK2GOeM40SitjhO\n",
       "2 https://api.spotify.com/v1/audio-analysis/7DCumXCLeMSqX8cnMA6ud2\n",
       "  categoria_album   \n",
       "1 estudio_suigeneris\n",
       "2 estudio_suigeneris"
      ]
     },
     "metadata": {},
     "output_type": "display_data"
    }
   ],
   "source": [
    "#Tabla 1\n",
    "head(df_charly[1:2],2)  \n",
    "head(df_charly[3:6],2) \n",
    "head(df_charly[7:11],2) \n",
    "head(df_charly[12:18],2) \n",
    "head(df_charly[19:22],2) \n",
    "head(df_charly[23:24],2) "
   ]
  },
  {
   "cell_type": "markdown",
   "metadata": {},
   "source": [
    "*Tabla 1 - Estructura de la tabla principal*\n"
   ]
  },
  {
   "cell_type": "markdown",
   "metadata": {},
   "source": [
    "Antes de seccionar las variables echamos un vistazo a sus características:"
   ]
  },
  {
   "cell_type": "code",
   "execution_count": 3,
   "metadata": {},
   "outputs": [
    {
     "data": {
      "text/html": [
       "<table>\n",
       "<thead><tr><th></th><th scope=col>danc.</th><th scope=col>energy</th><th scope=col>key</th><th scope=col>loud.</th><th scope=col>mode</th><th scope=col>speech.</th><th scope=col>acous.</th><th scope=col>instr.</th><th scope=col>live.</th><th scope=col>valence</th><th scope=col>tempo</th><th scope=col>dur.</th></tr></thead>\n",
       "<tbody>\n",
       "\t<tr><th scope=row>nbr.val</th><td>578.0</td><td>6e+02</td><td> 578 </td><td>  578</td><td>578.0</td><td>6e+02</td><td>6e+02</td><td>6e+02</td><td>6e+02</td><td>578.0</td><td>  578</td><td>6e+02</td></tr>\n",
       "\t<tr><th scope=row>nbr.null</th><td>  0.0</td><td>0e+00</td><td>  88 </td><td>    0</td><td>135.0</td><td>0e+00</td><td>0e+00</td><td>7e+01</td><td>0e+00</td><td>  1.0</td><td>    0</td><td>0e+00</td></tr>\n",
       "\t<tr><th scope=row>nbr.na</th><td>  0.0</td><td>0e+00</td><td>   0 </td><td>    0</td><td>  0.0</td><td>0e+00</td><td>0e+00</td><td>0e+00</td><td>0e+00</td><td>  0.0</td><td>    0</td><td>0e+00</td></tr>\n",
       "\t<tr><th scope=row>min</th><td>  0.1</td><td>4e-03</td><td>   0 </td><td>  -43</td><td>  0.0</td><td>2e-02</td><td>5e-05</td><td>0e+00</td><td>2e-02</td><td>  0.0</td><td>   47</td><td>2e+04</td></tr>\n",
       "\t<tr><th scope=row>max</th><td>  0.9</td><td>1e+00</td><td>  11 </td><td>   -3</td><td>  1.0</td><td>5e-01</td><td>1e+00</td><td>1e+00</td><td>1e+00</td><td>  1.0</td><td>  210</td><td>2e+06</td></tr>\n",
       "\t<tr><th scope=row>range</th><td>  0.8</td><td>1e+00</td><td>  11 </td><td>   40</td><td>  1.0</td><td>5e-01</td><td>1e+00</td><td>1e+00</td><td>1e+00</td><td>  1.0</td><td>  162</td><td>2e+06</td></tr>\n",
       "\t<tr><th scope=row>sum</th><td>290.4</td><td>3e+02</td><td>2855 </td><td>-6952</td><td>443.0</td><td>3e+01</td><td>2e+02</td><td>7e+01</td><td>2e+02</td><td>243.3</td><td>67348</td><td>1e+08</td></tr>\n",
       "\t<tr><th scope=row>median</th><td>  0.5</td><td>5e-01</td><td>   5 </td><td>  -11</td><td>  1.0</td><td>4e-02</td><td>3e-01</td><td>2e-03</td><td>2e-01</td><td>  0.4</td><td>  115</td><td>2e+05</td></tr>\n",
       "\t<tr><th scope=row>mean</th><td>  0.5</td><td>5e-01</td><td>   5 </td><td>  -12</td><td>  0.8</td><td>5e-02</td><td>4e-01</td><td>1e-01</td><td>3e-01</td><td>  0.4</td><td>  117</td><td>2e+05</td></tr>\n",
       "</tbody>\n",
       "</table>\n"
      ],
      "text/latex": [
       "\\begin{tabular}{r|llllllllllll}\n",
       "  & danc. & energy & key & loud. & mode & speech. & acous. & instr. & live. & valence & tempo & dur.\\\\\n",
       "\\hline\n",
       "\tnbr.val & 578.0 & 6e+02 &  578  &   578 & 578.0 & 6e+02 & 6e+02 & 6e+02 & 6e+02 & 578.0 &   578 & 6e+02\\\\\n",
       "\tnbr.null &   0.0 & 0e+00 &   88  &     0 & 135.0 & 0e+00 & 0e+00 & 7e+01 & 0e+00 &   1.0 &     0 & 0e+00\\\\\n",
       "\tnbr.na &   0.0 & 0e+00 &    0  &     0 &   0.0 & 0e+00 & 0e+00 & 0e+00 & 0e+00 &   0.0 &     0 & 0e+00\\\\\n",
       "\tmin &   0.1 & 4e-03 &    0  &   -43 &   0.0 & 2e-02 & 5e-05 & 0e+00 & 2e-02 &   0.0 &    47 & 2e+04\\\\\n",
       "\tmax &   0.9 & 1e+00 &   11  &    -3 &   1.0 & 5e-01 & 1e+00 & 1e+00 & 1e+00 &   1.0 &   210 & 2e+06\\\\\n",
       "\trange &   0.8 & 1e+00 &   11  &    40 &   1.0 & 5e-01 & 1e+00 & 1e+00 & 1e+00 &   1.0 &   162 & 2e+06\\\\\n",
       "\tsum & 290.4 & 3e+02 & 2855  & -6952 & 443.0 & 3e+01 & 2e+02 & 7e+01 & 2e+02 & 243.3 & 67348 & 1e+08\\\\\n",
       "\tmedian &   0.5 & 5e-01 &    5  &   -11 &   1.0 & 4e-02 & 3e-01 & 2e-03 & 2e-01 &   0.4 &   115 & 2e+05\\\\\n",
       "\tmean &   0.5 & 5e-01 &    5  &   -12 &   0.8 & 5e-02 & 4e-01 & 1e-01 & 3e-01 &   0.4 &   117 & 2e+05\\\\\n",
       "\\end{tabular}\n"
      ],
      "text/markdown": [
       "\n",
       "| <!--/--> | danc. | energy | key | loud. | mode | speech. | acous. | instr. | live. | valence | tempo | dur. |\n",
       "|---|---|---|---|---|---|---|---|---|---|---|---|---|\n",
       "| nbr.val | 578.0 | 6e+02 |  578  |   578 | 578.0 | 6e+02 | 6e+02 | 6e+02 | 6e+02 | 578.0 |   578 | 6e+02 |\n",
       "| nbr.null |   0.0 | 0e+00 |   88  |     0 | 135.0 | 0e+00 | 0e+00 | 7e+01 | 0e+00 |   1.0 |     0 | 0e+00 |\n",
       "| nbr.na |   0.0 | 0e+00 |    0  |     0 |   0.0 | 0e+00 | 0e+00 | 0e+00 | 0e+00 |   0.0 |     0 | 0e+00 |\n",
       "| min |   0.1 | 4e-03 |    0  |   -43 |   0.0 | 2e-02 | 5e-05 | 0e+00 | 2e-02 |   0.0 |    47 | 2e+04 |\n",
       "| max |   0.9 | 1e+00 |   11  |    -3 |   1.0 | 5e-01 | 1e+00 | 1e+00 | 1e+00 |   1.0 |   210 | 2e+06 |\n",
       "| range |   0.8 | 1e+00 |   11  |    40 |   1.0 | 5e-01 | 1e+00 | 1e+00 | 1e+00 |   1.0 |   162 | 2e+06 |\n",
       "| sum | 290.4 | 3e+02 | 2855  | -6952 | 443.0 | 3e+01 | 2e+02 | 7e+01 | 2e+02 | 243.3 | 67348 | 1e+08 |\n",
       "| median |   0.5 | 5e-01 |    5  |   -11 |   1.0 | 4e-02 | 3e-01 | 2e-03 | 2e-01 |   0.4 |   115 | 2e+05 |\n",
       "| mean |   0.5 | 5e-01 |    5  |   -12 |   0.8 | 5e-02 | 4e-01 | 1e-01 | 3e-01 |   0.4 |   117 | 2e+05 |\n",
       "\n"
      ],
      "text/plain": [
       "         danc. energy key  loud. mode  speech. acous. instr. live. valence\n",
       "nbr.val  578.0 6e+02   578   578 578.0 6e+02   6e+02  6e+02  6e+02 578.0  \n",
       "nbr.null   0.0 0e+00    88     0 135.0 0e+00   0e+00  7e+01  0e+00   1.0  \n",
       "nbr.na     0.0 0e+00     0     0   0.0 0e+00   0e+00  0e+00  0e+00   0.0  \n",
       "min        0.1 4e-03     0   -43   0.0 2e-02   5e-05  0e+00  2e-02   0.0  \n",
       "max        0.9 1e+00    11    -3   1.0 5e-01   1e+00  1e+00  1e+00   1.0  \n",
       "range      0.8 1e+00    11    40   1.0 5e-01   1e+00  1e+00  1e+00   1.0  \n",
       "sum      290.4 3e+02  2855 -6952 443.0 3e+01   2e+02  7e+01  2e+02 243.3  \n",
       "median     0.5 5e-01     5   -11   1.0 4e-02   3e-01  2e-03  2e-01   0.4  \n",
       "mean       0.5 5e-01     5   -12   0.8 5e-02   4e-01  1e-01  3e-01   0.4  \n",
       "         tempo dur. \n",
       "nbr.val    578 6e+02\n",
       "nbr.null     0 0e+00\n",
       "nbr.na       0 0e+00\n",
       "min         47 2e+04\n",
       "max        210 2e+06\n",
       "range      162 2e+06\n",
       "sum      67348 1e+08\n",
       "median     115 2e+05\n",
       "mean       117 2e+05"
      ]
     },
     "metadata": {},
     "output_type": "display_data"
    }
   ],
   "source": [
    "#Eliminamos columnas que no utilizaremos para el análisis por no ser columnas de interes\n",
    "\n",
    "df_charly <- df_charly %>% \n",
    "            select(-album_id, -id, -uri, -analysis_url)\n",
    "options(digits=1, pager = T)\n",
    "resumen <- pastecs::stat.desc(df_charly[7:18])\n",
    "\n",
    "resumen <- resumen  %>% \n",
    "           rename('danc.'=danceability,\n",
    "                  'loud.' = loudness,\n",
    "                  'speech.' = speechiness,\n",
    "                  'acous.' = acousticness,\n",
    "                  'instr.' = instrumentalness,\n",
    "                  'live.' = liveness,\n",
    "                  'dur.' = duration_ms\n",
    "                 )\n",
    "#mostramos las variables de resumen mas importantes\n",
    "#Tabla 2\n",
    "head(resumen, 9)"
   ]
  },
  {
   "cell_type": "markdown",
   "metadata": {},
   "source": [
    "*Tabla 2 - Medidas resúmenes de las variables numéricas*\n"
   ]
  },
  {
   "cell_type": "markdown",
   "metadata": {},
   "source": [
    "Hemos creado una matriz de correlaciones entre nuestras variables numéricas para poder entender cómo se relacionan unas con otras. En este corrplot pudimos ver que el nivel de acústica tiene una correlación negativa con la energía. \n",
    "Además, la positividad esta correlacionada con la energía y la bailabilidad. La energía también se comporta de manera similar al volumen, o están altamente correlacionadas. \n",
    "\n",
    "En base a esto seleccionamos la energía, el nivel de acústica, la bailabilidad y duración en ms.\n",
    "\n",
    "El **objetivo** de este análisis es intentar comprender que variables hacen que una canción sea exitosa o no. Si bien no sabemos si contamos con la información suficiente como para determinarlo en base a las variables seleccionadas, intentaremos entenderlo.\n",
    "Por otra parte, además de las variables numéricas seleccionadas anteriormente, decidimos modificar dos variables más para poder mejorar nuestro análisis. La variable numérica liveness decidimos discretearla, llevándola a 0 si es menos de 0.5 y a uno en caso contrario. Y finalmente a la variable categórica 'category' decidimos agruparla dejándola con 4 niveles posibles.\n",
    "\n",
    "Debemos aclarar, que si bien nuestro archivo de éxitos contenía 99 canciones, por el modo en que estaban escritos sus nombres hemos utilizado para marcar nuestras canciones 88. Las 11 restantes tenían una clave (el nombre) que no coincidían con ninguna de las observaciones de nuestro df_charly."
   ]
  },
  {
   "cell_type": "code",
   "execution_count": 4,
   "metadata": {},
   "outputs": [],
   "source": [
    "#Discretizamos livneness en liveness_dis\n",
    "df_charly <- df_charly  %>% \n",
    "            mutate(liveness_dis = case_when( liveness > 0.5 ~ 1,\n",
    "                                             liveness <= 0.5 ~ 0\n",
    "                                            ),\n",
    "                   liveness_dis = as.factor(liveness_dis)\n",
    "                  ) \n",
    "\n",
    "# agrupamos categoria_album\n",
    "df_charly <- df_charly  %>% \n",
    "             separate(categoria_album, c(\"categoria_album_a\", \"borrar\"), \"_\")  %>% \n",
    "            select(-borrar)\n",
    "\n",
    "df_charly <- df_charly  %>%  \n",
    "            select(name, Top_cien, categoria_album_a,  album_name, album_artist, liveness_dis, energy, acousticness, duration_ms, valence)\n",
    "\n"
   ]
  },
  {
   "cell_type": "code",
   "execution_count": 5,
   "metadata": {},
   "outputs": [
    {
     "data": {
      "text/html": [
       "<table>\n",
       "<thead><tr><th scope=col>name</th><th scope=col>Top_cien</th><th scope=col>categoria_album_a</th></tr></thead>\n",
       "<tbody>\n",
       "\t<tr><td>Mr. Jones o Pequeña Semblanza de una Familia Tipo Americana</td><td>SI                                                         </td><td>estudio                                                    </td></tr>\n",
       "\t<tr><td>Lunes Otra Vez                                             </td><td>SI                                                         </td><td>estudio                                                    </td></tr>\n",
       "</tbody>\n",
       "</table>\n"
      ],
      "text/latex": [
       "\\begin{tabular}{r|lll}\n",
       " name & Top\\_cien & categoria\\_album\\_a\\\\\n",
       "\\hline\n",
       "\t Mr. Jones o Pequeña Semblanza de una Familia Tipo Americana & SI                                                          & estudio                                                    \\\\\n",
       "\t Lunes Otra Vez                                              & SI                                                          & estudio                                                    \\\\\n",
       "\\end{tabular}\n"
      ],
      "text/markdown": [
       "\n",
       "| name | Top_cien | categoria_album_a |\n",
       "|---|---|---|\n",
       "| Mr. Jones o Pequeña Semblanza de una Familia Tipo Americana | SI                                                          | estudio                                                     |\n",
       "| Lunes Otra Vez                                              | SI                                                          | estudio                                                     |\n",
       "\n"
      ],
      "text/plain": [
       "  name                                                        Top_cien\n",
       "1 Mr. Jones o Pequeña Semblanza de una Familia Tipo Americana SI      \n",
       "2 Lunes Otra Vez                                              SI      \n",
       "  categoria_album_a\n",
       "1 estudio          \n",
       "2 estudio          "
      ]
     },
     "metadata": {},
     "output_type": "display_data"
    },
    {
     "data": {
      "text/html": [
       "<table>\n",
       "<thead><tr><th scope=col>album_name</th><th scope=col>album_artist</th><th scope=col>liveness_dis</th><th scope=col>energy</th><th scope=col>acousticness</th><th scope=col>duration_ms</th><th scope=col>valence</th></tr></thead>\n",
       "<tbody>\n",
       "\t<tr><td>Confesiones De Invierno</td><td>Sui Generis            </td><td>0                      </td><td>0.7                    </td><td>0.11                   </td><td>104373                 </td><td>0.9                    </td></tr>\n",
       "\t<tr><td>Confesiones De Invierno</td><td>Sui Generis            </td><td>0                      </td><td>0.4                    </td><td>0.06                   </td><td>190200                 </td><td>0.8                    </td></tr>\n",
       "</tbody>\n",
       "</table>\n"
      ],
      "text/latex": [
       "\\begin{tabular}{r|lllllll}\n",
       " album\\_name & album\\_artist & liveness\\_dis & energy & acousticness & duration\\_ms & valence\\\\\n",
       "\\hline\n",
       "\t Confesiones De Invierno & Sui Generis             & 0                       & 0.7                     & 0.11                    & 104373                  & 0.9                    \\\\\n",
       "\t Confesiones De Invierno & Sui Generis             & 0                       & 0.4                     & 0.06                    & 190200                  & 0.8                    \\\\\n",
       "\\end{tabular}\n"
      ],
      "text/markdown": [
       "\n",
       "| album_name | album_artist | liveness_dis | energy | acousticness | duration_ms | valence |\n",
       "|---|---|---|---|---|---|---|\n",
       "| Confesiones De Invierno | Sui Generis             | 0                       | 0.7                     | 0.11                    | 104373                  | 0.9                     |\n",
       "| Confesiones De Invierno | Sui Generis             | 0                       | 0.4                     | 0.06                    | 190200                  | 0.8                     |\n",
       "\n"
      ],
      "text/plain": [
       "  album_name              album_artist liveness_dis energy acousticness\n",
       "1 Confesiones De Invierno Sui Generis  0            0.7    0.11        \n",
       "2 Confesiones De Invierno Sui Generis  0            0.4    0.06        \n",
       "  duration_ms valence\n",
       "1 104373      0.9    \n",
       "2 190200      0.8    "
      ]
     },
     "metadata": {},
     "output_type": "display_data"
    }
   ],
   "source": [
    "#Tabla 3\n",
    "head(df_charly[1:3],2) \n",
    "head(df_charly[4:10],2) "
   ]
  },
  {
   "cell_type": "markdown",
   "metadata": {},
   "source": [
    "*Tabla 3 - Estructura de tabla con columnas seleccionadas*\n"
   ]
  },
  {
   "cell_type": "markdown",
   "metadata": {},
   "source": [
    "---------------\n",
    "# Resultados\n",
    "## Frecuencias\n",
    "\n",
    "### Por album\n",
    "### "
   ]
  },
  {
   "cell_type": "code",
   "execution_count": 6,
   "metadata": {},
   "outputs": [
    {
     "data": {
      "text/html": [
       "<table>\n",
       "<thead><tr><th></th><th scope=col>Album_Name</th><th scope=col>Freq</th></tr></thead>\n",
       "<tbody>\n",
       "\t<tr><th scope=row>9</th><td>Cuarenta Obras Fundamentales (Volumen 1)</td><td>20                                      </td></tr>\n",
       "\t<tr><th scope=row>10</th><td>Cuarenta Obras Fundamentales (Volumen 2)</td><td>20                                      </td></tr>\n",
       "\t<tr><th scope=row>19</th><td>La Hija De La Lagrima                   </td><td>20                                      </td></tr>\n",
       "\t<tr><th scope=row>22</th><td>Obras Cumbres                           </td><td>20                                      </td></tr>\n",
       "\t<tr><th scope=row>35</th><td>Seru Giran (En Vivo)                    </td><td>20                                      </td></tr>\n",
       "\t<tr><th scope=row>37</th><td>Si - Detrás De Las Paredes              </td><td>20                                      </td></tr>\n",
       "</tbody>\n",
       "</table>\n"
      ],
      "text/latex": [
       "\\begin{tabular}{r|ll}\n",
       "  & Album\\_Name & Freq\\\\\n",
       "\\hline\n",
       "\t9 & Cuarenta Obras Fundamentales (Volumen 1) & 20                                      \\\\\n",
       "\t10 & Cuarenta Obras Fundamentales (Volumen 2) & 20                                      \\\\\n",
       "\t19 & La Hija De La Lagrima                    & 20                                      \\\\\n",
       "\t22 & Obras Cumbres                            & 20                                      \\\\\n",
       "\t35 & Seru Giran (En Vivo)                     & 20                                      \\\\\n",
       "\t37 & Si - Detrás De Las Paredes               & 20                                      \\\\\n",
       "\\end{tabular}\n"
      ],
      "text/markdown": [
       "\n",
       "| <!--/--> | Album_Name | Freq |\n",
       "|---|---|---|\n",
       "| 9 | Cuarenta Obras Fundamentales (Volumen 1) | 20                                       |\n",
       "| 10 | Cuarenta Obras Fundamentales (Volumen 2) | 20                                       |\n",
       "| 19 | La Hija De La Lagrima                    | 20                                       |\n",
       "| 22 | Obras Cumbres                            | 20                                       |\n",
       "| 35 | Seru Giran (En Vivo)                     | 20                                       |\n",
       "| 37 | Si - Detrás De Las Paredes               | 20                                       |\n",
       "\n"
      ],
      "text/plain": [
       "   Album_Name                               Freq\n",
       "9  Cuarenta Obras Fundamentales (Volumen 1) 20  \n",
       "10 Cuarenta Obras Fundamentales (Volumen 2) 20  \n",
       "19 La Hija De La Lagrima                    20  \n",
       "22 Obras Cumbres                            20  \n",
       "35 Seru Giran (En Vivo)                     20  \n",
       "37 Si - Detrás De Las Paredes               20  "
      ]
     },
     "metadata": {},
     "output_type": "display_data"
    }
   ],
   "source": [
    "# Tabla 4\n",
    "frecuencia_album_name <- df_charly %>% \n",
    "                      select(album_name) %>% \n",
    "                      table() %>% \n",
    "                      as.data.frame() %>% \n",
    "                      rename('Album_Name' = '.' ) \n",
    "\n",
    "frecuencia_album_name <- frecuencia_album_name[order(frecuencia_album_name$Freq, decreasing = T),]\n",
    "\n",
    "head(frecuencia_album_name,6)  "
   ]
  },
  {
   "cell_type": "markdown",
   "metadata": {},
   "source": [
    "*Tabla 4 - Top 10 de albumes con mas canciones*\n",
    "\n",
    "### Por categoría\n",
    "###"
   ]
  },
  {
   "cell_type": "code",
   "execution_count": 7,
   "metadata": {},
   "outputs": [
    {
     "data": {
      "text/html": [
       "<table>\n",
       "<thead><tr><th></th><th scope=col>Categoria</th><th scope=col>Freq</th></tr></thead>\n",
       "<tbody>\n",
       "\t<tr><th scope=row>1</th><td>estudio</td><td>296    </td></tr>\n",
       "\t<tr><th scope=row>3</th><td>recop  </td><td>168    </td></tr>\n",
       "\t<tr><th scope=row>4</th><td>vivo   </td><td>107    </td></tr>\n",
       "\t<tr><th scope=row>2</th><td>otros  </td><td>  7    </td></tr>\n",
       "</tbody>\n",
       "</table>\n"
      ],
      "text/latex": [
       "\\begin{tabular}{r|ll}\n",
       "  & Categoria & Freq\\\\\n",
       "\\hline\n",
       "\t1 & estudio & 296    \\\\\n",
       "\t3 & recop   & 168    \\\\\n",
       "\t4 & vivo    & 107    \\\\\n",
       "\t2 & otros   &   7    \\\\\n",
       "\\end{tabular}\n"
      ],
      "text/markdown": [
       "\n",
       "| <!--/--> | Categoria | Freq |\n",
       "|---|---|---|\n",
       "| 1 | estudio | 296     |\n",
       "| 3 | recop   | 168     |\n",
       "| 4 | vivo    | 107     |\n",
       "| 2 | otros   |   7     |\n",
       "\n"
      ],
      "text/plain": [
       "  Categoria Freq\n",
       "1 estudio   296 \n",
       "3 recop     168 \n",
       "4 vivo      107 \n",
       "2 otros       7 "
      ]
     },
     "metadata": {},
     "output_type": "display_data"
    }
   ],
   "source": [
    "#Tabla 5\n",
    "frecuencia_categoria <- df_charly %>% \n",
    "                      select(categoria_album_a) %>% \n",
    "                      table() %>% \n",
    "                      as.data.frame() %>% \n",
    "                      rename('Categoria' = '.' )\n",
    "\n",
    "\n",
    "head(frecuencia_categoria[order(frecuencia_categoria$Freq, decreasing = T),], 4) "
   ]
  },
  {
   "cell_type": "markdown",
   "metadata": {},
   "source": [
    "*Tabla 5 - Cantidad de canciones por categoría de Album*"
   ]
  },
  {
   "cell_type": "markdown",
   "metadata": {},
   "source": [
    "### Por Artista\n",
    "### "
   ]
  },
  {
   "cell_type": "code",
   "execution_count": 8,
   "metadata": {},
   "outputs": [
    {
     "data": {
      "text/html": [
       "<table>\n",
       "<thead><tr><th></th><th scope=col>Album_Artist</th><th scope=col>Freq</th></tr></thead>\n",
       "<tbody>\n",
       "\t<tr><th scope=row>2</th><td>Charly García              </td><td>280                        </td></tr>\n",
       "\t<tr><th scope=row>6</th><td>Sui Generis                </td><td>140                        </td></tr>\n",
       "\t<tr><th scope=row>5</th><td>Serú Girán                 </td><td>122                        </td></tr>\n",
       "\t<tr><th scope=row>3</th><td>La Máquina de Hacer Pájaros</td><td> 15                        </td></tr>\n",
       "\t<tr><th scope=row>4</th><td>PorSuiGieco                </td><td> 12                        </td></tr>\n",
       "\t<tr><th scope=row>1</th><td>Billy Bond and The Jets    </td><td>  9                        </td></tr>\n",
       "</tbody>\n",
       "</table>\n"
      ],
      "text/latex": [
       "\\begin{tabular}{r|ll}\n",
       "  & Album\\_Artist & Freq\\\\\n",
       "\\hline\n",
       "\t2 & Charly García               & 280                        \\\\\n",
       "\t6 & Sui Generis                 & 140                        \\\\\n",
       "\t5 & Serú Girán                  & 122                        \\\\\n",
       "\t3 & La Máquina de Hacer Pájaros &  15                        \\\\\n",
       "\t4 & PorSuiGieco                 &  12                        \\\\\n",
       "\t1 & Billy Bond and The Jets     &   9                        \\\\\n",
       "\\end{tabular}\n"
      ],
      "text/markdown": [
       "\n",
       "| <!--/--> | Album_Artist | Freq |\n",
       "|---|---|---|\n",
       "| 2 | Charly García               | 280                         |\n",
       "| 6 | Sui Generis                 | 140                         |\n",
       "| 5 | Serú Girán                  | 122                         |\n",
       "| 3 | La Máquina de Hacer Pájaros |  15                         |\n",
       "| 4 | PorSuiGieco                 |  12                         |\n",
       "| 1 | Billy Bond and The Jets     |   9                         |\n",
       "\n"
      ],
      "text/plain": [
       "  Album_Artist                Freq\n",
       "2 Charly García               280 \n",
       "6 Sui Generis                 140 \n",
       "5 Serú Girán                  122 \n",
       "3 La Máquina de Hacer Pájaros  15 \n",
       "4 PorSuiGieco                  12 \n",
       "1 Billy Bond and The Jets       9 "
      ]
     },
     "metadata": {},
     "output_type": "display_data"
    }
   ],
   "source": [
    "#Tabla 6\n",
    "frecuencia_album_artist <- df_charly %>% \n",
    "                      select(album_artist) %>% \n",
    "                      table() %>% \n",
    "                      as.data.frame() %>% \n",
    "                      rename('Album_Artist' = '.' )\n",
    "\n",
    "head(frecuencia_album_artist[order(frecuencia_album_artist$Freq, decreasing = T),],6 )"
   ]
  },
  {
   "cell_type": "markdown",
   "metadata": {},
   "source": [
    "*Tabla 6 - Cantidad de canciones por Artista*\n",
    "\n",
    "##  Frecuencias conjuntas\n",
    "### "
   ]
  },
  {
   "cell_type": "code",
   "execution_count": 9,
   "metadata": {},
   "outputs": [
    {
     "data": {
      "text/html": [
       "<table>\n",
       "<thead><tr><th></th><th scope=col>categoria_album_a</th><th scope=col>album_name</th><th scope=col>album_artist</th><th scope=col>Freq</th></tr></thead>\n",
       "<tbody>\n",
       "\t<tr><th scope=row>4</th><td>recop                                            </td><td>Cuarenta Obras Fundamentales (Volumen 1)         </td><td>Charly García                                    </td><td>20                                               </td></tr>\n",
       "\t<tr><th scope=row>5</th><td>recop                                            </td><td>Cuarenta Obras Fundamentales (Volumen 2)         </td><td>Charly García                                    </td><td>20                                               </td></tr>\n",
       "\t<tr><th scope=row>12</th><td>estudio                                          </td><td>La Hija De La Lagrima                            </td><td>Charly García                                    </td><td>20                                               </td></tr>\n",
       "\t<tr><th scope=row>22</th><td>estudio                                          </td><td>Yendo De La Cama Al Living                       </td><td>Charly García                                    </td><td>20                                               </td></tr>\n",
       "\t<tr><th scope=row>32</th><td>vivo                                             </td><td>Seru Giran (En Vivo)                             </td><td>Serú Girán                                       </td><td>20                                               </td></tr>\n",
       "\t<tr><th scope=row>34</th><td>vivo                                             </td><td>Yo No Quiero Volverme Tan Loco                   </td><td>Serú Girán                                       </td><td>20                                               </td></tr>\n",
       "\t<tr><th scope=row>39</th><td>recop                                            </td><td>Obras Cumbres                                    </td><td>Sui Generis                                      </td><td>20                                               </td></tr>\n",
       "\t<tr><th scope=row>42</th><td>vivo                                             </td><td>Si - Detrás De Las Paredes                       </td><td>Sui Generis                                      </td><td>20                                               </td></tr>\n",
       "\t<tr><th scope=row>43</th><td>recop                                            </td><td>Sí o Sí - Diario del Rock Argentino - Sui Generis</td><td>Sui Generis                                      </td><td>20                                               </td></tr>\n",
       "\t<tr><th scope=row>27</th><td>recop                                            </td><td>Grandes Éxitos                                   </td><td>Serú Girán                                       </td><td>19                                               </td></tr>\n",
       "</tbody>\n",
       "</table>\n"
      ],
      "text/latex": [
       "\\begin{tabular}{r|llll}\n",
       "  & categoria\\_album\\_a & album\\_name & album\\_artist & Freq\\\\\n",
       "\\hline\n",
       "\t4 & recop                                             & Cuarenta Obras Fundamentales (Volumen 1)          & Charly García                                     & 20                                               \\\\\n",
       "\t5 & recop                                             & Cuarenta Obras Fundamentales (Volumen 2)          & Charly García                                     & 20                                               \\\\\n",
       "\t12 & estudio                                           & La Hija De La Lagrima                             & Charly García                                     & 20                                               \\\\\n",
       "\t22 & estudio                                           & Yendo De La Cama Al Living                        & Charly García                                     & 20                                               \\\\\n",
       "\t32 & vivo                                              & Seru Giran (En Vivo)                              & Serú Girán                                        & 20                                               \\\\\n",
       "\t34 & vivo                                              & Yo No Quiero Volverme Tan Loco                    & Serú Girán                                        & 20                                               \\\\\n",
       "\t39 & recop                                             & Obras Cumbres                                     & Sui Generis                                       & 20                                               \\\\\n",
       "\t42 & vivo                                              & Si - Detrás De Las Paredes                        & Sui Generis                                       & 20                                               \\\\\n",
       "\t43 & recop                                             & Sí o Sí - Diario del Rock Argentino - Sui Generis & Sui Generis                                       & 20                                               \\\\\n",
       "\t27 & recop                                             & Grandes Éxitos                                    & Serú Girán                                        & 19                                               \\\\\n",
       "\\end{tabular}\n"
      ],
      "text/markdown": [
       "\n",
       "| <!--/--> | categoria_album_a | album_name | album_artist | Freq |\n",
       "|---|---|---|---|---|\n",
       "| 4 | recop                                             | Cuarenta Obras Fundamentales (Volumen 1)          | Charly García                                     | 20                                                |\n",
       "| 5 | recop                                             | Cuarenta Obras Fundamentales (Volumen 2)          | Charly García                                     | 20                                                |\n",
       "| 12 | estudio                                           | La Hija De La Lagrima                             | Charly García                                     | 20                                                |\n",
       "| 22 | estudio                                           | Yendo De La Cama Al Living                        | Charly García                                     | 20                                                |\n",
       "| 32 | vivo                                              | Seru Giran (En Vivo)                              | Serú Girán                                        | 20                                                |\n",
       "| 34 | vivo                                              | Yo No Quiero Volverme Tan Loco                    | Serú Girán                                        | 20                                                |\n",
       "| 39 | recop                                             | Obras Cumbres                                     | Sui Generis                                       | 20                                                |\n",
       "| 42 | vivo                                              | Si - Detrás De Las Paredes                        | Sui Generis                                       | 20                                                |\n",
       "| 43 | recop                                             | Sí o Sí - Diario del Rock Argentino - Sui Generis | Sui Generis                                       | 20                                                |\n",
       "| 27 | recop                                             | Grandes Éxitos                                    | Serú Girán                                        | 19                                                |\n",
       "\n"
      ],
      "text/plain": [
       "   categoria_album_a album_name                                       \n",
       "4  recop             Cuarenta Obras Fundamentales (Volumen 1)         \n",
       "5  recop             Cuarenta Obras Fundamentales (Volumen 2)         \n",
       "12 estudio           La Hija De La Lagrima                            \n",
       "22 estudio           Yendo De La Cama Al Living                       \n",
       "32 vivo              Seru Giran (En Vivo)                             \n",
       "34 vivo              Yo No Quiero Volverme Tan Loco                   \n",
       "39 recop             Obras Cumbres                                    \n",
       "42 vivo              Si - Detrás De Las Paredes                       \n",
       "43 recop             Sí o Sí - Diario del Rock Argentino - Sui Generis\n",
       "27 recop             Grandes Éxitos                                   \n",
       "   album_artist  Freq\n",
       "4  Charly García 20  \n",
       "5  Charly García 20  \n",
       "12 Charly García 20  \n",
       "22 Charly García 20  \n",
       "32 Serú Girán    20  \n",
       "34 Serú Girán    20  \n",
       "39 Sui Generis   20  \n",
       "42 Sui Generis   20  \n",
       "43 Sui Generis   20  \n",
       "27 Serú Girán    19  "
      ]
     },
     "metadata": {},
     "output_type": "display_data"
    }
   ],
   "source": [
    "#Tabla 7\n",
    "frecuencia_conjuntas <- df_charly %>% \n",
    "                      select(categoria_album_a, album_name, album_artist) %>% \n",
    "                      table() %>% \n",
    "                      as.data.frame() %>% \n",
    "                      filter(Freq != 0)\n",
    "\n",
    "head(frecuencia_conjuntas[order(frecuencia_conjuntas$Freq, decreasing = T),], 10)  "
   ]
  },
  {
   "cell_type": "markdown",
   "metadata": {},
   "source": [
    "*Tabla 7 - Top 10 de frecuencias conjuntas por Categoría de Album, Album y Artista*\n",
    "\n",
    "## Visualizaciones"
   ]
  },
  {
   "cell_type": "code",
   "execution_count": 10,
   "metadata": {},
   "outputs": [
    {
     "data": {
      "image/png": "[encoded data removed]",
      "text/plain": [
       "plot without title"
      ]
     },
     "metadata": {
      "image/png": {
       "height": 240,
       "width": 600
      }
     },
     "output_type": "display_data"
    }
   ],
   "source": [
    "#Grafico 1\n",
    "# Con frecuencias relativas\n",
    "options(repr.plot.width=5, repr.plot.height=2)\n",
    "\n",
    "theme_set(theme_bw())\n",
    "\n",
    "ggplot(df_charly) + \n",
    "  aes(x = album_artist, y = ..count.. / sum(..count..)) + \n",
    "  geom_bar(width = 0.75) + \n",
    "  coord_flip() + \n",
    "  scale_y_continuous(\"Porcentaje\", labels = scales::percent) +\n",
    "  ggtitle(\"% de canciones por Artista\") +\n",
    "  labs(caption = 'Gráfico 1 - Porcentaje de canciones por artista') +\n",
    "  theme(axis.title.x = element_text(size = 9),\n",
    "        axis.title.y = element_text(size = 9),\n",
    "        plot.title = element_text(size = 10, hjust = 0.5, face = 'bold')\n",
    "       ) "
   ]
  },
  {
   "cell_type": "markdown",
   "metadata": {},
   "source": [
    "Aquí vemos que casi el 50% de canciones de charly son como solista. Dentro de sus bandas, Sui Generis y Serú Giran son las dos con mas canciones. Analizamos ahora que artistas han tenido mayor impacto, viendo la cantidad de canciones exitosas (forman parte del top 88)."
   ]
  },
  {
   "cell_type": "code",
   "execution_count": 11,
   "metadata": {},
   "outputs": [
    {
     "data": {
      "image/png": "[encoded data removed]",
      "text/plain": [
       "plot without title"
      ]
     },
     "metadata": {
      "image/png": {
       "height": 300,
       "width": 720
      }
     },
     "output_type": "display_data"
    }
   ],
   "source": [
    "#Grafico 2\n",
    "# Con frecuencias relativas\n",
    "options(repr.plot.width=6, repr.plot.height=2.5)\n",
    "\n",
    "theme_set(theme_bw())\n",
    "\n",
    "ggplot(df_charly) + \n",
    "  aes(x = album_artist, fill = Top_cien ) + \n",
    "  geom_bar(position = 'fill') + \n",
    "  coord_flip() + \n",
    " scale_y_continuous(\"Porcentaje\", labels = scales::percent) +\n",
    "   ggtitle(\"% de canciones por Artista\", ) + \n",
    "labs(caption = 'Gráfico 2 - Porcentaje de canciones por artista dentro del top 100') +\n",
    "  theme(axis.title.x = element_text(size = 9),\n",
    "        axis.title.y = element_text(size = 9),\n",
    "        plot.title = element_text(size = 10, hjust = 0.5, face = 'bold'))+\n",
    "scale_fill_brewer(palette = \"Pastel1\")"
   ]
  },
  {
   "cell_type": "markdown",
   "metadata": {},
   "source": [
    "Aquí lo que vemos por banda del total de canciones cuantos éxitos tuvieron. Esto nos permite entender cuáles bandas tuvieron mejor reconocimiento teniendo en cuenta la cantidad de canciones total.\n"
   ]
  },
  {
   "cell_type": "code",
   "execution_count": 12,
   "metadata": {},
   "outputs": [
    {
     "data": {
      "image/png": "[encoded data removed]",
      "text/plain": [
       "plot without title"
      ]
     },
     "metadata": {
      "image/png": {
       "height": 300,
       "width": 720
      }
     },
     "output_type": "display_data"
    }
   ],
   "source": [
    "#Grafico 3\n",
    "options(repr.plot.width=6, repr.plot.height=2.5)\n",
    "\n",
    "g <- df_charly %>% \n",
    "  drop_na(categoria_album_a) %>% \n",
    "  ggplot() + \n",
    "  aes(x = categoria_album_a, fill = Top_cien) +\n",
    "  labs(x = \"categoria_album_a \", y = \"Cant. caciones\", \n",
    "       fill = \"Top 100\") +  \n",
    "  geom_bar(position = \"dodge\") +\n",
    "  ggtitle(\"Cant. de Exitos por Categoria de Album\") + \n",
    "labs(caption = 'Gráfico 3 -Cantidad de éxitos por categoría de álbum')+\n",
    "theme(axis.text.x = element_text(angle = 45, hjust = 1)) +\n",
    "  theme(axis.title.x = element_text(size = 9),\n",
    "        axis.title.y = element_text(size = 9),\n",
    "        plot.title = element_text(size = 10, hjust = 0.5, face = 'bold'),\n",
    "        plot.margin=unit(c(0,0,0,2),\"cm\"))+\n",
    "scale_fill_brewer(palette = \"Pastel1\")\n",
    "plot(g)"
   ]
  },
  {
   "cell_type": "markdown",
   "metadata": {},
   "source": [
    "Un álbum de estudio es un álbum musical consistente en una selección de canciones grabadas en un estudio de grabación. La diferencia de un álbum de estudio con un álbum recopilatorio (el cual también suele contener canciones de estudio), es que el álbum de estudio incluye temas nuevos grabados por el artista, mientras que el recopilatorio, precisamente compila material publicado con anterioridad y ya conocido.\n",
    "Al observar que la categoría de los albúmenes recopiladores tiene aproximadamente la misma cantidad de canciones reconocidas como no reconocidas vemos como se organizan en cada álbum.\n",
    "\n"
   ]
  },
  {
   "cell_type": "code",
   "execution_count": 13,
   "metadata": {},
   "outputs": [
    {
     "data": {
      "image/png": "[encoded data removed]",
      "text/plain": [
       "plot without title"
      ]
     },
     "metadata": {
      "image/png": {
       "height": 480,
       "width": 1200
      }
     },
     "output_type": "display_data"
    }
   ],
   "source": [
    "#Grafico 4\n",
    "options(repr.plot.width=10, repr.plot.height=4)\n",
    "\n",
    "g <- df_charly %>% \n",
    "  filter(categoria_album_a == \"recop\") %>%\n",
    "  drop_na(album_name) %>% \n",
    "  ggplot() + \n",
    "  aes(x = album_name, fill = Top_cien) +\n",
    "  labs(x = \"\",\n",
    "       y = \"Cant. canciones\", \n",
    "       fill = \"Top 100\") +\n",
    "labs( caption = 'Gráfico 4- Cantidad de éxitos por Album para la cat \"Recop\" ') +\n",
    "  geom_bar(position = \"dodge\") +\n",
    "  ggtitle(\"Cant. de Exitos por Album de categoria Recop\") +\n",
    "scale_fill_brewer(palette = \"Pastel1\") +\n",
    "coord_flip() +\n",
    " theme(axis.title.x = element_text(size = 9),\n",
    "        axis.title.y = element_text(size = 7),\n",
    "        plot.title = element_text(size = 10, hjust = 0.5, face = 'bold'),\n",
    "       axis.text.x = element_text(angle = 45, hjust = 1)\n",
    "      ) \n",
    "\n",
    "plot(g)"
   ]
  },
  {
   "cell_type": "markdown",
   "metadata": {},
   "source": [
    "De este gráfico podemos concluir que en la mayoría de los álbumes recopilatorios las cancines reconocidas se combinan con las no reconocidas superando la mitad del álbum. Esto puede ser una estrategía de venta.\n",
    "Para entender el comportamiento que tiene las variables cuantitativas seleccionadas con respecto a las variables cualitativas comenzamos realizando un BoxPlot:\n"
   ]
  },
  {
   "cell_type": "code",
   "execution_count": 14,
   "metadata": {},
   "outputs": [
    {
     "data": {
      "image/png": "[encoded data removed]",
      "text/plain": [
       "plot without title"
      ]
     },
     "metadata": {
      "image/png": {
       "height": 240,
       "width": 600
      }
     },
     "output_type": "display_data"
    }
   ],
   "source": [
    "#Grafico 5\n",
    "\n",
    "options(repr.plot.width=5, repr.plot.height=2)\n",
    "\n",
    "ggplot(df_charly) +\n",
    "  aes(x = energy, y = album_artist) +\n",
    "  geom_boxplot(show.legend = F) +\n",
    "  labs(x = \"Energía de las canciones\",\n",
    "       y = \"Artistas\",\n",
    "      caption = 'Gráfico 5 - Boxplot de la energía de las canciones')  +\n",
    "scale_fill_brewer(palette = \"Pastel1\") + \n",
    " ggtitle(\"BoxPlot de la Energia por Artista\" )  +\n",
    " theme(axis.title.x = element_text(size = 9),\n",
    "        axis.title.y = element_text(size = 9),\n",
    "        plot.title = element_text(size = 10, hjust = 0.5, face = 'bold'),\n",
    "       axis.text.x = element_text(angle = 45, hjust = 1)\n",
    "      ) \n"
   ]
  },
  {
   "cell_type": "markdown",
   "metadata": {},
   "source": [
    "Aquí podemos ver como la banda PorSuiGieco tiene una energía notablemente menor que el resto."
   ]
  },
  {
   "cell_type": "code",
   "execution_count": 15,
   "metadata": {},
   "outputs": [
    {
     "data": {
      "image/png": "[encoded data removed]",
      "text/plain": [
       "plot without title"
      ]
     },
     "metadata": {
      "image/png": {
       "height": 240,
       "width": 600
      }
     },
     "output_type": "display_data"
    }
   ],
   "source": [
    "#Grafico 6\n",
    "\n",
    "options(repr.plot.width=5, repr.plot.height=2)\n",
    "ggplot(df_charly) +\n",
    "  aes(x = acousticness, y = album_artist) +\n",
    "  geom_boxplot(show.legend = F) +\n",
    "  labs(x = \"Acústica\", \n",
    "       y = \"Artistas\") +\n",
    "labs(caption = 'Gráfico 6 - Boxplot del nivel de acústica de las canciones')  +\n",
    "scale_fill_brewer(palette = \"Pastel1\") +\n",
    " ggtitle(\"BoxPlot del nivel de acústica por Artista\" )  +\n",
    " theme(axis.title.x = element_text(size = 9),\n",
    "        axis.title.y = element_text(size = 9),\n",
    "        plot.title = element_text(size = 10, hjust = 0.5, face = 'bold'),\n",
    "       axis.text.x = element_text(angle = 45, hjust = 1)\n",
    "      ) \n"
   ]
  },
  {
   "cell_type": "markdown",
   "metadata": {},
   "source": [
    "Este boxplot nos muestra que LMDHP tiene un nivel de acústica menor que el resto. En el otro extremo se encuentra PorSuiGieco con un nivel de acústica alto."
   ]
  },
  {
   "cell_type": "code",
   "execution_count": 16,
   "metadata": {},
   "outputs": [
    {
     "data": {
      "image/png": "[encoded data removed]",
      "text/plain": [
       "plot without title"
      ]
     },
     "metadata": {
      "image/png": {
       "height": 240,
       "width": 600
      }
     },
     "output_type": "display_data"
    }
   ],
   "source": [
    "#Grafico 7\n",
    "options(repr.plot.width=5, repr.plot.height=2)\n",
    "\n",
    "ggplot(df_charly) +\n",
    "  aes(x = duration_ms, y = album_artist) +\n",
    "  geom_boxplot(show.legend = F) +\n",
    "  labs(x = \"Duracion\", \n",
    "       y = \"Artistas\") +\n",
    "labs(caption = 'Gráfico 7 - Boxplot de la duración')  +\n",
    "scale_fill_brewer(palette = \"Pastel1\") +\n",
    " ggtitle(\"BoxPlot de la duración por Artista\" )  +\n",
    " theme(axis.title.x = element_text(size = 9),\n",
    "        axis.title.y = element_text(size = 9),\n",
    "        plot.title = element_text(size = 10, hjust = 0.5, face = 'bold'),\n",
    "       axis.text.x = element_text(angle = 45, hjust = 1)\n",
    "      ) \n"
   ]
  },
  {
   "cell_type": "markdown",
   "metadata": {},
   "source": [
    "Este boxplot no nos muestra ninguna cuestión atípica en cuando a la duración de las canciones por cada artista."
   ]
  },
  {
   "cell_type": "code",
   "execution_count": 17,
   "metadata": {},
   "outputs": [
    {
     "data": {
      "image/png": "[encoded data removed]",
      "text/plain": [
       "plot without title"
      ]
     },
     "metadata": {
      "image/png": {
       "height": 240,
       "width": 600
      }
     },
     "output_type": "display_data"
    }
   ],
   "source": [
    "#Grafico 8\n",
    "options(repr.plot.width=5, repr.plot.height=2)\n",
    "ggplot(df_charly) +\n",
    "  aes(x = valence, y = album_artist) +\n",
    "  geom_boxplot(show.legend = F) +\n",
    "   labs(x = \"Positividad\", \n",
    "        y = \"Artistas\" ) +\n",
    "labs(caption = 'Gráfico 8 - Boxplot de la positividad')  +\n",
    "scale_fill_brewer(palette = \"Pastel1\") +\n",
    " ggtitle(\"BoxPlot de la Positividad por Artista\" ) +\n",
    " theme(axis.title.x = element_text(size = 9),\n",
    "        axis.title.y = element_text(size = 9),\n",
    "        plot.title = element_text(size = 10, hjust = 0.5, face = 'bold'),\n",
    "       axis.text.x = element_text(angle = 45, hjust = 1)\n",
    "      ) \n"
   ]
  },
  {
   "cell_type": "markdown",
   "metadata": {},
   "source": [
    "Después de haber evaluado el comportamiento de las variables cuantitativas por artista, se puede notar una anomalía en el artista PorSuiGieco que tiene energía y positividad en niveles mucho más bajos que el resto mientras que el nivel de acústica tiene valores notablemente más altos. Esto puede explicar la ausencia de sus canciones en el top 88. \n"
   ]
  },
  {
   "cell_type": "code",
   "execution_count": 18,
   "metadata": {},
   "outputs": [
    {
     "data": {
      "image/png": "[encoded data removed]",
      "text/plain": [
       "plot without title"
      ]
     },
     "metadata": {
      "image/png": {
       "height": 300,
       "width": 720
      }
     },
     "output_type": "display_data"
    }
   ],
   "source": [
    "#Grafico 9 \n",
    "options(repr.plot.width=6, repr.plot.height=2.5)\n",
    "\n",
    "ggplot(df_charly) +\n",
    "  aes(x = energy, y = valence ,color = liveness_dis) +\n",
    "  geom_point() +\n",
    "  ggtitle(\"Energia vs Positividad - Categorizado por En vivo\") + \n",
    "labs(caption = 'Gráfico 9 - Scatter plot de la postividad vs la energía considerando si se grabó en vivo') + \n",
    "scale_fill_brewer(palette = \"Pastel1\") +\n",
    " theme(axis.title.x = element_text(size = 9),\n",
    "        axis.title.y = element_text(size = 9),\n",
    "        plot.title = element_text(size = 10, hjust = 0.5, face = 'bold'),\n",
    "       axis.text.x = element_text(angle = 45, hjust = 1)\n",
    "      ) "
   ]
  },
  {
   "cell_type": "markdown",
   "metadata": {},
   "source": [
    "Este gráfico de puntos nos muestra algo que nos esperábamos, que es que a medida que la positividad de la canción es más alta también lo es su energía. El hecho de que la canción haya sido grabada en vivo, hace que no tengamos tantas canciones en vivo que tengan su energía menor a 0.25 y se encuentran en su mayoría por arriba de ese valor."
   ]
  },
  {
   "cell_type": "code",
   "execution_count": 19,
   "metadata": {},
   "outputs": [
    {
     "data": {
      "image/png": "[encoded data removed]",
      "text/plain": [
       "plot without title"
      ]
     },
     "metadata": {
      "image/png": {
       "height": 300,
       "width": 720
      }
     },
     "output_type": "display_data"
    }
   ],
   "source": [
    "#Grafico 9\n",
    "\n",
    "options(repr.plot.width=6, repr.plot.height=2.5)\n",
    "\n",
    "\n",
    "ggplot(df_charly) +\n",
    "  aes(x = energy, y = valence ,color = categoria_album_a) +\n",
    "  geom_point() +\n",
    "  ggtitle(\"Energia vs Positividad - Categorizado por Categoria de Album\") +\n",
    " labs(caption = 'Gráfico 10 - Scatter plot de la postividad vs la energía considerando la categoría')+\n",
    "  scale_fill_brewer(palette = \"Pastel1\") +\n",
    " theme(axis.title.x = element_text(size = 9),\n",
    "        axis.title.y = element_text(size = 9),\n",
    "        plot.title = element_text(size = 10, hjust = 0.5, face = 'bold'),\n",
    "       axis.text.x = element_text(angle = 45, hjust = 1)\n",
    "      ) "
   ]
  },
  {
   "cell_type": "markdown",
   "metadata": {},
   "source": [
    "Vemos ahora lo mismo que antes, pero con los colores marcando el tipo de álbum. No encontramos nada destacable con respecto a estas dos medidas cuando consideramos la categoría del álbum en que se encuentran."
   ]
  },
  {
   "cell_type": "code",
   "execution_count": 20,
   "metadata": {},
   "outputs": [
    {
     "data": {
      "image/png": "[encoded data removed]",
      "text/plain": [
       "plot without title"
      ]
     },
     "metadata": {
      "image/png": {
       "height": 300,
       "width": 840
      }
     },
     "output_type": "display_data"
    }
   ],
   "source": [
    "#Grafico 11\n",
    "options(repr.plot.width=7, repr.plot.height=2.5)\n",
    "\n",
    "ggplot(df_charly) +\n",
    "  aes(x = energy, y = acousticness, color = liveness_dis) +\n",
    "  geom_point() +\n",
    "ggtitle(\"Energia vs Nivel de Arcustica - Categorizado por En vivo\") +\n",
    "labs(caption = 'Gráfico 11 - Scatter plot del nivel de acústica vs la energía considerando si fue grabada en vivo o no') +\n",
    "scale_fill_brewer(palette = \"Pastel1\") +\n",
    " theme(axis.title.x = element_text(size = 9),\n",
    "        axis.title.y = element_text(size = 9),\n",
    "        plot.title = element_text(size = 10, hjust = 0.5, face = 'bold'),\n",
    "       axis.text.x = element_text(angle = 45, hjust = 1)\n",
    "      ) \n"
   ]
  },
  {
   "cell_type": "markdown",
   "metadata": {},
   "source": [
    "Aquí podemos ver que cuando el nivel de acústica es alto, la energía es mas baja y viceversa. Es decir, están inversamente relacionadas. Cuando consideramos si fue grabada en vivo o no, no encontramos nada destacable."
   ]
  },
  {
   "cell_type": "code",
   "execution_count": 21,
   "metadata": {},
   "outputs": [
    {
     "data": {
      "image/png": "[encoded data removed]",
      "text/plain": [
       "plot without title"
      ]
     },
     "metadata": {
      "image/png": {
       "height": 300,
       "width": 840
      }
     },
     "output_type": "display_data"
    }
   ],
   "source": [
    "#Grafico 12\n",
    "options(repr.plot.width=7, repr.plot.height=2.5)\n",
    "ggplot(df_charly) +\n",
    "  aes(x = energy, y = acousticness ,color = categoria_album_a) +\n",
    "  geom_point() +\n",
    "ggtitle(\"Energia vs Nivel de Acústica - Categorizado por Cat. del Album\") +\n",
    "labs(caption = 'Gráfico 12 - Scatter plot del nivel de acústica vs la energía considerando la categoría del album') +\n",
    "  scale_fill_brewer(palette = \"Pastel1\") +\n",
    " theme(axis.title.x = element_text(size = 9),\n",
    "        axis.title.y = element_text(size = 9),\n",
    "        plot.title = element_text(size = 10, hjust = 0.5, face = 'bold'),\n",
    "       axis.text.x = element_text(angle = 45, hjust = 1)\n",
    "      ) "
   ]
  },
  {
   "cell_type": "markdown",
   "metadata": {},
   "source": [
    "Aquí observamos lo mismo que antes, una vez más, la categoría del álbum no tiene influencia en ninguna de estas dos variables numéricas. Podemos destacar también, que tenemos muchas canciones con niveles de acústica bajos, focalizados cerca del cero."
   ]
  },
  {
   "cell_type": "code",
   "execution_count": 22,
   "metadata": {},
   "outputs": [
    {
     "data": {
      "image/png": "[encoded data removed]",
      "text/plain": [
       "plot without title"
      ]
     },
     "metadata": {
      "image/png": {
       "height": 300,
       "width": 960
      }
     },
     "output_type": "display_data"
    }
   ],
   "source": [
    "#Grafico 13\n",
    "options(repr.plot.width=8, repr.plot.height=2.5)\n",
    "\n",
    "ggplot(df_charly) +\n",
    "  aes(x = valence, y = acousticness, color = liveness_dis) +\n",
    "  geom_point() +\n",
    "ggtitle(\"Positividad vs Nivel de Arcustica - Categorizado por En vivo\") +\n",
    "labs(caption = 'Gráfico 13 - Scatter plot del nivel de acústica vs la positividad considerando si fue grabado en vivo o no')+\n",
    "scale_fill_brewer(palette = \"Pastel1\") +\n",
    " theme(axis.title.x = element_text(size = 9),\n",
    "        axis.title.y = element_text(size = 9),\n",
    "        plot.title = element_text(size = 10, hjust = 0.5, face = 'bold'),\n",
    "       axis.text.x = element_text(angle = 45, hjust = 1)\n",
    "      ) \n"
   ]
  },
  {
   "cell_type": "markdown",
   "metadata": {},
   "source": [
    "Cuando analizamos esta dos variables numéricas en conjunto, ya no encontramos una relacion tan concreta como si vimos entre la energía y la positivdad. Algo que si podemos destacar es que hay pocas canciones con valores altos de positividad y de acústica mientras que si tenemos canciones que tienen valores bajos en ambas (cercanos al 0)."
   ]
  },
  {
   "cell_type": "code",
   "execution_count": 23,
   "metadata": {},
   "outputs": [
    {
     "data": {
      "image/png": "[encoded data removed]",
      "text/plain": [
       "plot without title"
      ]
     },
     "metadata": {
      "image/png": {
       "height": 300,
       "width": 960
      }
     },
     "output_type": "display_data"
    }
   ],
   "source": [
    "#Grafico 14\n",
    "options(repr.plot.width=8, repr.plot.height=2.5)\n",
    "\n",
    "ggplot(df_charly) +\n",
    "  aes(x = valence, y = acousticness ,color = categoria_album_a) +\n",
    "  geom_point() +\n",
    "ggtitle(\"Positividad vs Nivel de Arcustica - Categorizado por Cat. del Album\")+\n",
    "labs(caption = 'Gráfico 14 - Scatter plot del nivel de acústica vs la positividad considerando si la categoría del album')+\n",
    " scale_fill_brewer(palette = \"Pastel1\") +\n",
    " theme(axis.title.x = element_text(size = 9),\n",
    "        axis.title.y = element_text(size = 9),\n",
    "        plot.title = element_text(size = 10, hjust = 0.5, face = 'bold'),\n",
    "       axis.text.x = element_text(angle = 45, hjust = 1)\n",
    "      ) \n"
   ]
  },
  {
   "cell_type": "markdown",
   "metadata": {},
   "source": [
    "Cuando analizamos lo mencionado antes pero ahora considerando el tipo de álbum no podemos sacar ninguna conclusión que resalte a simple vista.\n"
   ]
  },
  {
   "cell_type": "markdown",
   "metadata": {},
   "source": [
    "## Conclusiones"
   ]
  },
  {
   "cell_type": "markdown",
   "metadata": {},
   "source": [
    "En la primera parte de trabajo analizamos la cantidad de canciones por artista, la cual indica que la mayoría de las canciones de este dataframe la tiene Charly como solista. Esto concuerda con el tiempo que lleva Charly como solista en relación al tiempo que formo parte de una banda. Luego indagamos en cuantos éxitos tuvo cada artista en relación a la cantidad de canciones publicadas. Sorprendiéndonos con La máquina de hacer pájaros que tuvo más del 50 % de éxito. Pero aun lo que más nos atrapo de esta primera parte es como estaban distribuidos los éxitos dentro de las categorías, exponiendo la estrategia de marketing que utilizan cuando conformaron los álbumes recopilatorios. En los cuales, combinan canciones de éxito con canciones no exitosas seguramente para asegurarse la venta. \n",
    "\n",
    "En la segunda parte, trabajamos con las variables cuantitativas elegidas dedicándonos a estudiar si existía un comportamiento particular en las canciones exitosas. Notando en los Box Plots que PorSuiGieco, que no tuvo éxitos, se comportaba de manera sesgada con respecto a todas las variables cuantitativas elegidas. Por último, mediante a los scatter plots , pudimos confirma un realización positiva o negativa de algunas variables, no las pudimos vincular con un patrón con Calidad de vivo, ni con la categoría del álbum,  ni si eran exitosa o no.\n",
    "\n",
    "Concluyendo que no podemos asegurar que rango tiene que poseer una variable para que una canción sea exitosa, ya que no encontramos en los datos un patrón que lo indique. Esto se debe a que hay variables exógenas, como nivel de popularidad, que afectan al éxito de una canción. Pero si notamos que en el contexto actual en el cual no se compra más disco y son populares plataformas como Spotify, no pueden usar más la estrategia de marketing mencionada, y la misma quedara para los libros.\n"
   ]
  }
 ],
 "metadata": {
  "kernelspec": {
   "display_name": "R",
   "language": "R",
   "name": "ir"
  },
  "language_info": {
   "codemirror_mode": "r",
   "file_extension": ".r",
   "mimetype": "text/x-r-source",
   "name": "R",
   "pygments_lexer": "r",
   "version": "3.6.1"
  }
 },
 "nbformat": 4,
 "nbformat_minor": 4
}
