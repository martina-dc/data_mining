{
 "cells": [
  {
   "cell_type": "code",
   "execution_count": 93,
   "metadata": {},
   "outputs": [],
   "source": [
    "list_of_packages = c(\"tidyverse\",\"kableExtra\", \"DescTools\", \"dplyr\", \"knitr\", \"IRdisplay\", \"easypackages\", \"here\", \"data.table\", \"tibble\")\n",
    "new_packages = list_of_packages[!(list_of_packages %in% installed.packages()[,\"Package\"])]\n",
    "if(length(new_packages)) install.packages(new_packages)\n",
    "\n",
    "suppressWarnings(suppressMessages(easypackages::libraries(list_of_packages)))"
   ]
  },
  {
   "cell_type": "code",
   "execution_count": 59,
   "metadata": {},
   "outputs": [],
   "source": [
    "path = here('tp1', 'Datos', 'lmdhp','album_la_maquina_de_hacer_pajaros')"
   ]
  },
  {
   "cell_type": "code",
   "execution_count": 63,
   "metadata": {},
   "outputs": [
    {
     "data": {
      "text/html": [
       "<ol class=list-inline>\n",
       "\t<li>'Ah Te Vi Entre Las Luces.txt'</li>\n",
       "\t<li>'Boletos, Pases Y Abonos.txt'</li>\n",
       "\t<li>'Bubulina.txt'</li>\n",
       "\t<li>'Como Mata el Viento Norte.txt'</li>\n",
       "\t<li>'No Puedo Verme Mas.txt'</li>\n",
       "\t<li>'Por Probar El Vino Y El Agua Salada.txt'</li>\n",
       "\t<li>'Rock And Roll.txt'</li>\n",
       "</ol>\n"
      ],
      "text/latex": [
       "\\begin{enumerate*}\n",
       "\\item 'Ah Te Vi Entre Las Luces.txt'\n",
       "\\item 'Boletos, Pases Y Abonos.txt'\n",
       "\\item 'Bubulina.txt'\n",
       "\\item 'Como Mata el Viento Norte.txt'\n",
       "\\item 'No Puedo Verme Mas.txt'\n",
       "\\item 'Por Probar El Vino Y El Agua Salada.txt'\n",
       "\\item 'Rock And Roll.txt'\n",
       "\\end{enumerate*}\n"
      ],
      "text/markdown": [
       "1. 'Ah Te Vi Entre Las Luces.txt'\n",
       "2. 'Boletos, Pases Y Abonos.txt'\n",
       "3. 'Bubulina.txt'\n",
       "4. 'Como Mata el Viento Norte.txt'\n",
       "5. 'No Puedo Verme Mas.txt'\n",
       "6. 'Por Probar El Vino Y El Agua Salada.txt'\n",
       "7. 'Rock And Roll.txt'\n",
       "\n",
       "\n"
      ],
      "text/plain": [
       "[1] \"Ah Te Vi Entre Las Luces.txt\"           \n",
       "[2] \"Boletos, Pases Y Abonos.txt\"            \n",
       "[3] \"Bubulina.txt\"                           \n",
       "[4] \"Como Mata el Viento Norte.txt\"          \n",
       "[5] \"No Puedo Verme Mas.txt\"                 \n",
       "[6] \"Por Probar El Vino Y El Agua Salada.txt\"\n",
       "[7] \"Rock And Roll.txt\"                      "
      ]
     },
     "metadata": {},
     "output_type": "display_data"
    }
   ],
   "source": [
    "list_of_files = list.files(path = c('Datos/lmdhp/album_la_maquina_de_hacer_pajaros'),\n",
    "                          pattern = \"\\\\.txt$\")\n"
   ]
  },
  {
   "cell_type": "code",
   "execution_count": 109,
   "metadata": {},
   "outputs": [],
   "source": [
    "df = tibble()\n",
    "\n",
    "for (f in list_of_files){\n",
    "   \n",
    "    file = read.table(file.path(path, f), header = TRUE, sep = \"\\t\")\n",
    "    file = rename(file, columna = names(file))\n",
    "    file = separate(file, col = 'columna', sep = ':', into = c('id', 'dato') )\n",
    "    file = pivot_wider(file, id_cols = 'id', names_from = 'id', values_from = 'dato')\n",
    "    df = rbind(df, file)\n",
    "    \n",
    "   \n",
    "}\n",
    "\n"
   ]
  }
 ],
 "metadata": {
  "kernelspec": {
   "display_name": "R",
   "language": "R",
   "name": "ir"
  },
  "language_info": {
   "codemirror_mode": "r",
   "file_extension": ".r",
   "mimetype": "text/x-r-source",
   "name": "R",
   "pygments_lexer": "r",
   "version": "3.6.1"
  }
 },
 "nbformat": 4,
 "nbformat_minor": 4
}
