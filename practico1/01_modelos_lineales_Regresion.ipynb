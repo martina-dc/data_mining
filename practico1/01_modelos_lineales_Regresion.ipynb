{
 "cells": [
  {
   "cell_type": "markdown",
   "id": "three-tournament",
   "metadata": {},
   "source": [
    "# Tarea 1 - Regresión"
   ]
  },
  {
   "cell_type": "markdown",
   "id": "metropolitan-kernel",
   "metadata": {},
   "source": [
    "- Di Carlo, Martina\n",
    "- Pastrana Analía\n",
    "- Suárez Gilda"
   ]
  },
  {
   "cell_type": "code",
   "execution_count": 1,
   "id": "annoying-burning",
   "metadata": {},
   "outputs": [],
   "source": [
    "import pandas as pd\n",
    "\n",
    "#modeling\n",
    "from sklearn.model_selection import train_test_split\n",
    "from sklearn.linear_model import Lasso\n",
    "from sklearn.metrics import mean_squared_error, r2_score\n",
    "\n",
    "#roots\n",
    "from pyprojroot import here\n",
    "\n",
    "#gráficos\n",
    "import seaborn as sns\n",
    "import matplotlib.pyplot as plt\n",
    "\n",
    "#dates\n",
    "from datetime import date, timedelta"
   ]
  },
  {
   "cell_type": "code",
   "execution_count": 2,
   "id": "vertical-panama",
   "metadata": {},
   "outputs": [],
   "source": [
    "path = here('Martu') / 'Maestria' / 'data_mining' / 'practico' / 'Datos' /'original' /'Rossman'\n",
    "path_save = here('Martu') / 'Maestria' / 'data_mining' / 'practico' / 'Datos' / 'generated'"
   ]
  },
  {
   "cell_type": "code",
   "execution_count": 3,
   "id": "demanding-wrong",
   "metadata": {},
   "outputs": [],
   "source": [
    "#El dataset Rossman_train.csv contiene los datos para realizar las predicciones de las ventas, presentes en la variable “Sales”.\n",
    "rossman_train = pd.read_csv(path / 'Rossman_train.csv',\n",
    "                                      sep=',',\n",
    "                            quotechar= '\"',\n",
    "                            low_memory=False\n",
    "                                     )"
   ]
  },
  {
   "cell_type": "code",
   "execution_count": 4,
   "id": "labeled-retention",
   "metadata": {},
   "outputs": [
    {
     "data": {
      "text/html": [
       "<div>\n",
       "<style scoped>\n",
       "    .dataframe tbody tr th:only-of-type {\n",
       "        vertical-align: middle;\n",
       "    }\n",
       "\n",
       "    .dataframe tbody tr th {\n",
       "        vertical-align: top;\n",
       "    }\n",
       "\n",
       "    .dataframe thead th {\n",
       "        text-align: right;\n",
       "    }\n",
       "</style>\n",
       "<table border=\"1\" class=\"dataframe\">\n",
       "  <thead>\n",
       "    <tr style=\"text-align: right;\">\n",
       "      <th></th>\n",
       "      <th>Store</th>\n",
       "      <th>DayOfWeek</th>\n",
       "      <th>Date</th>\n",
       "      <th>Sales</th>\n",
       "      <th>Customers</th>\n",
       "      <th>Open</th>\n",
       "      <th>Promo</th>\n",
       "      <th>StateHoliday</th>\n",
       "      <th>SchoolHoliday</th>\n",
       "    </tr>\n",
       "  </thead>\n",
       "  <tbody>\n",
       "    <tr>\n",
       "      <th>0</th>\n",
       "      <td>1</td>\n",
       "      <td>5</td>\n",
       "      <td>2015-07-31</td>\n",
       "      <td>5263</td>\n",
       "      <td>555</td>\n",
       "      <td>1</td>\n",
       "      <td>1</td>\n",
       "      <td>0</td>\n",
       "      <td>1</td>\n",
       "    </tr>\n",
       "    <tr>\n",
       "      <th>1</th>\n",
       "      <td>2</td>\n",
       "      <td>5</td>\n",
       "      <td>2015-07-31</td>\n",
       "      <td>6064</td>\n",
       "      <td>625</td>\n",
       "      <td>1</td>\n",
       "      <td>1</td>\n",
       "      <td>0</td>\n",
       "      <td>1</td>\n",
       "    </tr>\n",
       "    <tr>\n",
       "      <th>2</th>\n",
       "      <td>3</td>\n",
       "      <td>5</td>\n",
       "      <td>2015-07-31</td>\n",
       "      <td>8314</td>\n",
       "      <td>821</td>\n",
       "      <td>1</td>\n",
       "      <td>1</td>\n",
       "      <td>0</td>\n",
       "      <td>1</td>\n",
       "    </tr>\n",
       "    <tr>\n",
       "      <th>3</th>\n",
       "      <td>4</td>\n",
       "      <td>5</td>\n",
       "      <td>2015-07-31</td>\n",
       "      <td>13995</td>\n",
       "      <td>1498</td>\n",
       "      <td>1</td>\n",
       "      <td>1</td>\n",
       "      <td>0</td>\n",
       "      <td>1</td>\n",
       "    </tr>\n",
       "    <tr>\n",
       "      <th>4</th>\n",
       "      <td>5</td>\n",
       "      <td>5</td>\n",
       "      <td>2015-07-31</td>\n",
       "      <td>4822</td>\n",
       "      <td>559</td>\n",
       "      <td>1</td>\n",
       "      <td>1</td>\n",
       "      <td>0</td>\n",
       "      <td>1</td>\n",
       "    </tr>\n",
       "  </tbody>\n",
       "</table>\n",
       "</div>"
      ],
      "text/plain": [
       "   Store  DayOfWeek        Date  Sales  Customers  Open  Promo StateHoliday  \\\n",
       "0      1          5  2015-07-31   5263        555     1      1            0   \n",
       "1      2          5  2015-07-31   6064        625     1      1            0   \n",
       "2      3          5  2015-07-31   8314        821     1      1            0   \n",
       "3      4          5  2015-07-31  13995       1498     1      1            0   \n",
       "4      5          5  2015-07-31   4822        559     1      1            0   \n",
       "\n",
       "   SchoolHoliday  \n",
       "0              1  \n",
       "1              1  \n",
       "2              1  \n",
       "3              1  \n",
       "4              1  "
      ]
     },
     "execution_count": 4,
     "metadata": {},
     "output_type": "execute_result"
    }
   ],
   "source": [
    "rossman_train.head() "
   ]
  },
  {
   "cell_type": "markdown",
   "id": "american-birmingham",
   "metadata": {},
   "source": [
    "## EDA"
   ]
  },
  {
   "cell_type": "code",
   "execution_count": 5,
   "id": "frequent-discretion",
   "metadata": {},
   "outputs": [
    {
     "name": "stdout",
     "output_type": "stream",
     "text": [
      "<class 'pandas.core.frame.DataFrame'>\n",
      "RangeIndex: 1017209 entries, 0 to 1017208\n",
      "Data columns (total 9 columns):\n",
      " #   Column         Non-Null Count    Dtype \n",
      "---  ------         --------------    ----- \n",
      " 0   Store          1017209 non-null  int64 \n",
      " 1   DayOfWeek      1017209 non-null  int64 \n",
      " 2   Date           1017209 non-null  object\n",
      " 3   Sales          1017209 non-null  int64 \n",
      " 4   Customers      1017209 non-null  int64 \n",
      " 5   Open           1017209 non-null  int64 \n",
      " 6   Promo          1017209 non-null  int64 \n",
      " 7   StateHoliday   1017209 non-null  object\n",
      " 8   SchoolHoliday  1017209 non-null  int64 \n",
      "dtypes: int64(7), object(2)\n",
      "memory usage: 69.8+ MB\n"
     ]
    }
   ],
   "source": [
    "rossman_train.info()"
   ]
  },
  {
   "cell_type": "code",
   "execution_count": 6,
   "id": "friendly-heather",
   "metadata": {},
   "outputs": [
    {
     "data": {
      "text/plain": [
       "1017209"
      ]
     },
     "execution_count": 6,
     "metadata": {},
     "output_type": "execute_result"
    }
   ],
   "source": [
    "rossman_train.shape[0]"
   ]
  },
  {
   "cell_type": "markdown",
   "id": "historic-parker",
   "metadata": {},
   "source": [
    "Vemos que no tenemos datos nulos."
   ]
  },
  {
   "cell_type": "markdown",
   "id": "falling-filename",
   "metadata": {},
   "source": [
    "### Store"
   ]
  },
  {
   "cell_type": "code",
   "execution_count": 7,
   "id": "incoming-arrest",
   "metadata": {},
   "outputs": [
    {
     "data": {
      "text/plain": [
       "0          1\n",
       "1          2\n",
       "2          3\n",
       "3          4\n",
       "4          5\n",
       "        ... \n",
       "1110    1111\n",
       "1111    1112\n",
       "1112    1113\n",
       "1113    1114\n",
       "1114    1115\n",
       "Name: Store, Length: 1115, dtype: int64"
      ]
     },
     "execution_count": 7,
     "metadata": {},
     "output_type": "execute_result"
    }
   ],
   "source": [
    "rossman_train.Store.drop_duplicates()"
   ]
  },
  {
   "cell_type": "code",
   "execution_count": 8,
   "id": "substantial-oregon",
   "metadata": {},
   "outputs": [
    {
     "name": "stdout",
     "output_type": "stream",
     "text": [
      "Tenemos 1115 tiendas distintas en nuestro DF de train\n"
     ]
    }
   ],
   "source": [
    "print(f'Tenemos {max(rossman_train.Store)} tiendas distintas en nuestro DF de train')"
   ]
  },
  {
   "cell_type": "code",
   "execution_count": 9,
   "id": "forty-estonia",
   "metadata": {},
   "outputs": [
    {
     "data": {
      "text/html": [
       "<div>\n",
       "<style scoped>\n",
       "    .dataframe tbody tr th:only-of-type {\n",
       "        vertical-align: middle;\n",
       "    }\n",
       "\n",
       "    .dataframe tbody tr th {\n",
       "        vertical-align: top;\n",
       "    }\n",
       "\n",
       "    .dataframe thead th {\n",
       "        text-align: right;\n",
       "    }\n",
       "</style>\n",
       "<table border=\"1\" class=\"dataframe\">\n",
       "  <thead>\n",
       "    <tr style=\"text-align: right;\">\n",
       "      <th></th>\n",
       "      <th>Store</th>\n",
       "      <th>counts</th>\n",
       "    </tr>\n",
       "  </thead>\n",
       "  <tbody>\n",
       "    <tr>\n",
       "      <th>0</th>\n",
       "      <td>1</td>\n",
       "      <td>942</td>\n",
       "    </tr>\n",
       "    <tr>\n",
       "      <th>1</th>\n",
       "      <td>2</td>\n",
       "      <td>942</td>\n",
       "    </tr>\n",
       "    <tr>\n",
       "      <th>2</th>\n",
       "      <td>3</td>\n",
       "      <td>942</td>\n",
       "    </tr>\n",
       "    <tr>\n",
       "      <th>3</th>\n",
       "      <td>4</td>\n",
       "      <td>942</td>\n",
       "    </tr>\n",
       "    <tr>\n",
       "      <th>4</th>\n",
       "      <td>5</td>\n",
       "      <td>942</td>\n",
       "    </tr>\n",
       "    <tr>\n",
       "      <th>...</th>\n",
       "      <td>...</td>\n",
       "      <td>...</td>\n",
       "    </tr>\n",
       "    <tr>\n",
       "      <th>1110</th>\n",
       "      <td>1111</td>\n",
       "      <td>942</td>\n",
       "    </tr>\n",
       "    <tr>\n",
       "      <th>1111</th>\n",
       "      <td>1112</td>\n",
       "      <td>942</td>\n",
       "    </tr>\n",
       "    <tr>\n",
       "      <th>1112</th>\n",
       "      <td>1113</td>\n",
       "      <td>942</td>\n",
       "    </tr>\n",
       "    <tr>\n",
       "      <th>1113</th>\n",
       "      <td>1114</td>\n",
       "      <td>942</td>\n",
       "    </tr>\n",
       "    <tr>\n",
       "      <th>1114</th>\n",
       "      <td>1115</td>\n",
       "      <td>942</td>\n",
       "    </tr>\n",
       "  </tbody>\n",
       "</table>\n",
       "<p>1115 rows × 2 columns</p>\n",
       "</div>"
      ],
      "text/plain": [
       "      Store  counts\n",
       "0         1     942\n",
       "1         2     942\n",
       "2         3     942\n",
       "3         4     942\n",
       "4         5     942\n",
       "...     ...     ...\n",
       "1110   1111     942\n",
       "1111   1112     942\n",
       "1112   1113     942\n",
       "1113   1114     942\n",
       "1114   1115     942\n",
       "\n",
       "[1115 rows x 2 columns]"
      ]
     },
     "execution_count": 9,
     "metadata": {},
     "output_type": "execute_result"
    }
   ],
   "source": [
    "counts_tienda = rossman_train.groupby(by = 'Store', dropna = False).size().reset_index(name='counts')\n",
    "counts_tienda"
   ]
  },
  {
   "cell_type": "markdown",
   "id": "formal-consent",
   "metadata": {},
   "source": [
    "Parece que muchos stores tienen 942 registros. Validemoslo:"
   ]
  },
  {
   "cell_type": "code",
   "execution_count": 10,
   "id": "placed-commerce",
   "metadata": {},
   "outputs": [
    {
     "data": {
      "text/html": [
       "<div>\n",
       "<style scoped>\n",
       "    .dataframe tbody tr th:only-of-type {\n",
       "        vertical-align: middle;\n",
       "    }\n",
       "\n",
       "    .dataframe tbody tr th {\n",
       "        vertical-align: top;\n",
       "    }\n",
       "\n",
       "    .dataframe thead th {\n",
       "        text-align: right;\n",
       "    }\n",
       "</style>\n",
       "<table border=\"1\" class=\"dataframe\">\n",
       "  <thead>\n",
       "    <tr style=\"text-align: right;\">\n",
       "      <th></th>\n",
       "      <th>Store</th>\n",
       "      <th>counts</th>\n",
       "    </tr>\n",
       "  </thead>\n",
       "  <tbody>\n",
       "    <tr>\n",
       "      <th>12</th>\n",
       "      <td>13</td>\n",
       "      <td>758</td>\n",
       "    </tr>\n",
       "    <tr>\n",
       "      <th>19</th>\n",
       "      <td>20</td>\n",
       "      <td>758</td>\n",
       "    </tr>\n",
       "    <tr>\n",
       "      <th>21</th>\n",
       "      <td>22</td>\n",
       "      <td>758</td>\n",
       "    </tr>\n",
       "    <tr>\n",
       "      <th>31</th>\n",
       "      <td>32</td>\n",
       "      <td>758</td>\n",
       "    </tr>\n",
       "    <tr>\n",
       "      <th>35</th>\n",
       "      <td>36</td>\n",
       "      <td>758</td>\n",
       "    </tr>\n",
       "    <tr>\n",
       "      <th>...</th>\n",
       "      <td>...</td>\n",
       "      <td>...</td>\n",
       "    </tr>\n",
       "    <tr>\n",
       "      <th>1093</th>\n",
       "      <td>1094</td>\n",
       "      <td>758</td>\n",
       "    </tr>\n",
       "    <tr>\n",
       "      <th>1101</th>\n",
       "      <td>1102</td>\n",
       "      <td>758</td>\n",
       "    </tr>\n",
       "    <tr>\n",
       "      <th>1103</th>\n",
       "      <td>1104</td>\n",
       "      <td>758</td>\n",
       "    </tr>\n",
       "    <tr>\n",
       "      <th>1106</th>\n",
       "      <td>1107</td>\n",
       "      <td>758</td>\n",
       "    </tr>\n",
       "    <tr>\n",
       "      <th>1108</th>\n",
       "      <td>1109</td>\n",
       "      <td>758</td>\n",
       "    </tr>\n",
       "  </tbody>\n",
       "</table>\n",
       "<p>181 rows × 2 columns</p>\n",
       "</div>"
      ],
      "text/plain": [
       "      Store  counts\n",
       "12       13     758\n",
       "19       20     758\n",
       "21       22     758\n",
       "31       32     758\n",
       "35       36     758\n",
       "...     ...     ...\n",
       "1093   1094     758\n",
       "1101   1102     758\n",
       "1103   1104     758\n",
       "1106   1107     758\n",
       "1108   1109     758\n",
       "\n",
       "[181 rows x 2 columns]"
      ]
     },
     "execution_count": 10,
     "metadata": {},
     "output_type": "execute_result"
    }
   ],
   "source": [
    "not_942 = counts_tienda.counts != 942\n",
    "counts_tienda[not_942]"
   ]
  },
  {
   "cell_type": "markdown",
   "id": "funny-algebra",
   "metadata": {},
   "source": [
    "Son 181 que no tienen 942 observaciones. El resto parecen tener todas 758. Lo validamos:"
   ]
  },
  {
   "cell_type": "code",
   "execution_count": 11,
   "id": "declared-affair",
   "metadata": {},
   "outputs": [
    {
     "data": {
      "text/html": [
       "<div>\n",
       "<style scoped>\n",
       "    .dataframe tbody tr th:only-of-type {\n",
       "        vertical-align: middle;\n",
       "    }\n",
       "\n",
       "    .dataframe tbody tr th {\n",
       "        vertical-align: top;\n",
       "    }\n",
       "\n",
       "    .dataframe thead th {\n",
       "        text-align: right;\n",
       "    }\n",
       "</style>\n",
       "<table border=\"1\" class=\"dataframe\">\n",
       "  <thead>\n",
       "    <tr style=\"text-align: right;\">\n",
       "      <th></th>\n",
       "      <th>Store</th>\n",
       "      <th>counts</th>\n",
       "    </tr>\n",
       "  </thead>\n",
       "  <tbody>\n",
       "    <tr>\n",
       "      <th>12</th>\n",
       "      <td>13</td>\n",
       "      <td>758</td>\n",
       "    </tr>\n",
       "    <tr>\n",
       "      <th>19</th>\n",
       "      <td>20</td>\n",
       "      <td>758</td>\n",
       "    </tr>\n",
       "    <tr>\n",
       "      <th>21</th>\n",
       "      <td>22</td>\n",
       "      <td>758</td>\n",
       "    </tr>\n",
       "    <tr>\n",
       "      <th>31</th>\n",
       "      <td>32</td>\n",
       "      <td>758</td>\n",
       "    </tr>\n",
       "    <tr>\n",
       "      <th>35</th>\n",
       "      <td>36</td>\n",
       "      <td>758</td>\n",
       "    </tr>\n",
       "    <tr>\n",
       "      <th>...</th>\n",
       "      <td>...</td>\n",
       "      <td>...</td>\n",
       "    </tr>\n",
       "    <tr>\n",
       "      <th>1093</th>\n",
       "      <td>1094</td>\n",
       "      <td>758</td>\n",
       "    </tr>\n",
       "    <tr>\n",
       "      <th>1101</th>\n",
       "      <td>1102</td>\n",
       "      <td>758</td>\n",
       "    </tr>\n",
       "    <tr>\n",
       "      <th>1103</th>\n",
       "      <td>1104</td>\n",
       "      <td>758</td>\n",
       "    </tr>\n",
       "    <tr>\n",
       "      <th>1106</th>\n",
       "      <td>1107</td>\n",
       "      <td>758</td>\n",
       "    </tr>\n",
       "    <tr>\n",
       "      <th>1108</th>\n",
       "      <td>1109</td>\n",
       "      <td>758</td>\n",
       "    </tr>\n",
       "  </tbody>\n",
       "</table>\n",
       "<p>180 rows × 2 columns</p>\n",
       "</div>"
      ],
      "text/plain": [
       "      Store  counts\n",
       "12       13     758\n",
       "19       20     758\n",
       "21       22     758\n",
       "31       32     758\n",
       "35       36     758\n",
       "...     ...     ...\n",
       "1093   1094     758\n",
       "1101   1102     758\n",
       "1103   1104     758\n",
       "1106   1107     758\n",
       "1108   1109     758\n",
       "\n",
       "[180 rows x 2 columns]"
      ]
     },
     "execution_count": 11,
     "metadata": {},
     "output_type": "execute_result"
    }
   ],
   "source": [
    "yes_758 = counts_tienda.counts == 758\n",
    "counts_tienda[yes_758]"
   ]
  },
  {
   "cell_type": "markdown",
   "id": "stable-scope",
   "metadata": {},
   "source": [
    "Vemos que solo una tienda no aparece ni 942 ni 758 veces. Vemos cual es:"
   ]
  },
  {
   "cell_type": "code",
   "execution_count": 12,
   "id": "orange-security",
   "metadata": {},
   "outputs": [
    {
     "data": {
      "text/html": [
       "<div>\n",
       "<style scoped>\n",
       "    .dataframe tbody tr th:only-of-type {\n",
       "        vertical-align: middle;\n",
       "    }\n",
       "\n",
       "    .dataframe tbody tr th {\n",
       "        vertical-align: top;\n",
       "    }\n",
       "\n",
       "    .dataframe thead th {\n",
       "        text-align: right;\n",
       "    }\n",
       "</style>\n",
       "<table border=\"1\" class=\"dataframe\">\n",
       "  <thead>\n",
       "    <tr style=\"text-align: right;\">\n",
       "      <th></th>\n",
       "      <th>Store</th>\n",
       "      <th>counts</th>\n",
       "    </tr>\n",
       "  </thead>\n",
       "  <tbody>\n",
       "    <tr>\n",
       "      <th>987</th>\n",
       "      <td>988</td>\n",
       "      <td>941</td>\n",
       "    </tr>\n",
       "  </tbody>\n",
       "</table>\n",
       "</div>"
      ],
      "text/plain": [
       "     Store  counts\n",
       "987    988     941"
      ]
     },
     "execution_count": 12,
     "metadata": {},
     "output_type": "execute_result"
    }
   ],
   "source": [
    "counts_tienda[~yes_758 & not_942]"
   ]
  },
  {
   "cell_type": "markdown",
   "id": "better-southeast",
   "metadata": {},
   "source": [
    "Es el store 988."
   ]
  },
  {
   "cell_type": "markdown",
   "id": "italian-serbia",
   "metadata": {},
   "source": [
    "### Date"
   ]
  },
  {
   "cell_type": "markdown",
   "id": "studied-figure",
   "metadata": {},
   "source": [
    "Pasamos el dato de fecha de object a tipo datetime:"
   ]
  },
  {
   "cell_type": "code",
   "execution_count": 13,
   "id": "third-liquid",
   "metadata": {},
   "outputs": [],
   "source": [
    "rossman_train[\"Date\"] = pd.to_datetime(rossman_train[\"Date\"])"
   ]
  },
  {
   "cell_type": "code",
   "execution_count": 14,
   "id": "hidden-strategy",
   "metadata": {},
   "outputs": [
    {
     "data": {
      "text/plain": [
       "2015-01-30    1115\n",
       "2015-03-19    1115\n",
       "2015-05-14    1115\n",
       "2014-03-10    1115\n",
       "2013-01-04    1115\n",
       "              ... \n",
       "2014-10-02     935\n",
       "2014-10-09     935\n",
       "2014-09-01     935\n",
       "2014-11-11     935\n",
       "2014-08-21     935\n",
       "Name: Date, Length: 942, dtype: int64"
      ]
     },
     "execution_count": 14,
     "metadata": {},
     "output_type": "execute_result"
    }
   ],
   "source": [
    "rossman_train[\"Date\"].value_counts()"
   ]
  },
  {
   "cell_type": "markdown",
   "id": "responsible-stake",
   "metadata": {},
   "source": [
    "Evidentemente tenemos 1 registro por tienda por día."
   ]
  },
  {
   "cell_type": "markdown",
   "id": "occasional-programmer",
   "metadata": {},
   "source": [
    "### StateHoliday"
   ]
  },
  {
   "cell_type": "code",
   "execution_count": 15,
   "id": "broke-index",
   "metadata": {},
   "outputs": [
    {
     "data": {
      "text/plain": [
       "0    986159\n",
       "a     20260\n",
       "b      6690\n",
       "c      4100\n",
       "Name: StateHoliday, dtype: int64"
      ]
     },
     "execution_count": 15,
     "metadata": {},
     "output_type": "execute_result"
    }
   ],
   "source": [
    "rossman_train.StateHoliday.value_counts()"
   ]
  },
  {
   "cell_type": "code",
   "execution_count": 16,
   "id": "alert-raleigh",
   "metadata": {},
   "outputs": [
    {
     "data": {
      "text/plain": [
       "0"
      ]
     },
     "execution_count": 16,
     "metadata": {},
     "output_type": "execute_result"
    }
   ],
   "source": [
    "rossman_train.StateHoliday.isna().sum()"
   ]
  },
  {
   "cell_type": "markdown",
   "id": "intense-ecology",
   "metadata": {},
   "source": [
    "Vemos que tenemos 986159 casos sin el dato correcto de StateHoliday. "
   ]
  },
  {
   "cell_type": "code",
   "execution_count": 17,
   "id": "extra-timing",
   "metadata": {},
   "outputs": [],
   "source": [
    "df = rossman_train.copy()"
   ]
  },
  {
   "cell_type": "markdown",
   "id": "according-beverage",
   "metadata": {},
   "source": [
    "## Open"
   ]
  },
  {
   "cell_type": "code",
   "execution_count": 18,
   "id": "ordered-conflict",
   "metadata": {},
   "outputs": [
    {
     "data": {
      "text/plain": [
       "1    844392\n",
       "0    172817\n",
       "Name: Open, dtype: int64"
      ]
     },
     "execution_count": 18,
     "metadata": {},
     "output_type": "execute_result"
    }
   ],
   "source": [
    "df.Open.value_counts()"
   ]
  },
  {
   "cell_type": "code",
   "execution_count": 19,
   "id": "critical-travel",
   "metadata": {},
   "outputs": [
    {
     "data": {
      "text/html": [
       "<div>\n",
       "<style scoped>\n",
       "    .dataframe tbody tr th:only-of-type {\n",
       "        vertical-align: middle;\n",
       "    }\n",
       "\n",
       "    .dataframe tbody tr th {\n",
       "        vertical-align: top;\n",
       "    }\n",
       "\n",
       "    .dataframe thead th {\n",
       "        text-align: right;\n",
       "    }\n",
       "</style>\n",
       "<table border=\"1\" class=\"dataframe\">\n",
       "  <thead>\n",
       "    <tr style=\"text-align: right;\">\n",
       "      <th></th>\n",
       "      <th>Store</th>\n",
       "      <th>DayOfWeek</th>\n",
       "      <th>Date</th>\n",
       "      <th>Sales</th>\n",
       "      <th>Customers</th>\n",
       "      <th>Open</th>\n",
       "      <th>Promo</th>\n",
       "      <th>StateHoliday</th>\n",
       "      <th>SchoolHoliday</th>\n",
       "    </tr>\n",
       "  </thead>\n",
       "  <tbody>\n",
       "  </tbody>\n",
       "</table>\n",
       "</div>"
      ],
      "text/plain": [
       "Empty DataFrame\n",
       "Columns: [Store, DayOfWeek, Date, Sales, Customers, Open, Promo, StateHoliday, SchoolHoliday]\n",
       "Index: []"
      ]
     },
     "execution_count": 19,
     "metadata": {},
     "output_type": "execute_result"
    }
   ],
   "source": [
    "df.query(\"Open == 0 & Sales != 0\")"
   ]
  },
  {
   "cell_type": "markdown",
   "id": "charitable-clone",
   "metadata": {},
   "source": [
    "_______________________________\n",
    "## 1) \n",
    "Separar los datos de ventas por tienda y por dia. Esto significa asociar las ventas de cada tienda con igual id en un contenedor. Luego, de forma independiente al procedimiento anterior, obtener el promedio de ventas de cada día. Realizar un plot de las ventas de los primeros 60 días de la tienda 1 y del promedio de ventas también de los primeros 60 días. Los ejes deben ser Tiempo vs. Ventas en ambos casos."
   ]
  },
  {
   "cell_type": "code",
   "execution_count": 20,
   "id": "orange-fourth",
   "metadata": {},
   "outputs": [],
   "source": [
    "dicc_x_tienda = {id: df[df.Store == id] for id in df.Store.unique()}"
   ]
  },
  {
   "cell_type": "code",
   "execution_count": 21,
   "id": "tight-commissioner",
   "metadata": {},
   "outputs": [],
   "source": [
    "store_1 = df.Store == 1\n",
    "fecha_max_60 = timedelta(days = 60) + min(df[store_1].Date)\n",
    "first_60 = df.Date <= fecha_max_60"
   ]
  },
  {
   "cell_type": "code",
   "execution_count": 22,
   "id": "departmental-documentary",
   "metadata": {},
   "outputs": [],
   "source": [
    "mean_sales_60 = df.loc[first_60].groupby(by = [ 'Date'])['Sales'].mean().reset_index()\n"
   ]
  },
  {
   "cell_type": "code",
   "execution_count": 23,
   "id": "adequate-former",
   "metadata": {},
   "outputs": [
    {
     "data": {
      "image/png": "[encoded data removed]",
      "text/plain": [
       "<Figure size 864x288 with 1 Axes>"
      ]
     },
     "metadata": {
      "needs_background": "light"
     },
     "output_type": "display_data"
    }
   ],
   "source": [
    "fig, ax = plt.subplots(figsize=(12, 4))\n",
    "sns.lineplot(data = dicc_x_tienda[1].loc[first_60],\n",
    "            x = 'Date',\n",
    "            y = 'Sales',\n",
    "            color = 'blue',\n",
    "            label='Ventas tienda 1')\n",
    "sns.lineplot(data = mean_sales_60,\n",
    "            x = 'Date',\n",
    "            y = 'Sales',\n",
    "            color = 'steelblue',\n",
    "            label='Ventas promedio')\n",
    "plt.xlabel(\"Tiempo\")\n",
    "plt.xticks(rotation=45)\n",
    "plt.ylabel(\"Ventas\")\n",
    "plt.show()"
   ]
  },
  {
   "cell_type": "markdown",
   "id": "bizarre-laptop",
   "metadata": {},
   "source": [
    "### 2) Train y Test  \n",
    "Dividir los datos originales en Train y Test. Seleccionar los últimos 10 días\n",
    "para realizar tests sobre el modelo. (0.25 pts)"
   ]
  },
  {
   "cell_type": "code",
   "execution_count": 24,
   "id": "palestinian-stable",
   "metadata": {},
   "outputs": [],
   "source": [
    "fecha_min_10 =  max(df[store_1].Date) - timedelta(days = 10)\n",
    "last_10 = df.Date > fecha_min_10"
   ]
  },
  {
   "cell_type": "code",
   "execution_count": 25,
   "id": "third-endorsement",
   "metadata": {},
   "outputs": [
    {
     "data": {
      "text/html": [
       "<div>\n",
       "<style scoped>\n",
       "    .dataframe tbody tr th:only-of-type {\n",
       "        vertical-align: middle;\n",
       "    }\n",
       "\n",
       "    .dataframe tbody tr th {\n",
       "        vertical-align: top;\n",
       "    }\n",
       "\n",
       "    .dataframe thead th {\n",
       "        text-align: right;\n",
       "    }\n",
       "</style>\n",
       "<table border=\"1\" class=\"dataframe\">\n",
       "  <thead>\n",
       "    <tr style=\"text-align: right;\">\n",
       "      <th></th>\n",
       "      <th>Store</th>\n",
       "      <th>DayOfWeek</th>\n",
       "      <th>Date</th>\n",
       "      <th>Sales</th>\n",
       "      <th>Customers</th>\n",
       "      <th>Open</th>\n",
       "      <th>Promo</th>\n",
       "      <th>SchoolHoliday</th>\n",
       "      <th>StateHoliday_0</th>\n",
       "      <th>StateHoliday_a</th>\n",
       "      <th>StateHoliday_b</th>\n",
       "      <th>StateHoliday_c</th>\n",
       "    </tr>\n",
       "  </thead>\n",
       "  <tbody>\n",
       "    <tr>\n",
       "      <th>0</th>\n",
       "      <td>1</td>\n",
       "      <td>5</td>\n",
       "      <td>2015-07-31</td>\n",
       "      <td>5263</td>\n",
       "      <td>555</td>\n",
       "      <td>1</td>\n",
       "      <td>1</td>\n",
       "      <td>1</td>\n",
       "      <td>1</td>\n",
       "      <td>0</td>\n",
       "      <td>0</td>\n",
       "      <td>0</td>\n",
       "    </tr>\n",
       "    <tr>\n",
       "      <th>1</th>\n",
       "      <td>2</td>\n",
       "      <td>5</td>\n",
       "      <td>2015-07-31</td>\n",
       "      <td>6064</td>\n",
       "      <td>625</td>\n",
       "      <td>1</td>\n",
       "      <td>1</td>\n",
       "      <td>1</td>\n",
       "      <td>1</td>\n",
       "      <td>0</td>\n",
       "      <td>0</td>\n",
       "      <td>0</td>\n",
       "    </tr>\n",
       "    <tr>\n",
       "      <th>2</th>\n",
       "      <td>3</td>\n",
       "      <td>5</td>\n",
       "      <td>2015-07-31</td>\n",
       "      <td>8314</td>\n",
       "      <td>821</td>\n",
       "      <td>1</td>\n",
       "      <td>1</td>\n",
       "      <td>1</td>\n",
       "      <td>1</td>\n",
       "      <td>0</td>\n",
       "      <td>0</td>\n",
       "      <td>0</td>\n",
       "    </tr>\n",
       "    <tr>\n",
       "      <th>3</th>\n",
       "      <td>4</td>\n",
       "      <td>5</td>\n",
       "      <td>2015-07-31</td>\n",
       "      <td>13995</td>\n",
       "      <td>1498</td>\n",
       "      <td>1</td>\n",
       "      <td>1</td>\n",
       "      <td>1</td>\n",
       "      <td>1</td>\n",
       "      <td>0</td>\n",
       "      <td>0</td>\n",
       "      <td>0</td>\n",
       "    </tr>\n",
       "    <tr>\n",
       "      <th>4</th>\n",
       "      <td>5</td>\n",
       "      <td>5</td>\n",
       "      <td>2015-07-31</td>\n",
       "      <td>4822</td>\n",
       "      <td>559</td>\n",
       "      <td>1</td>\n",
       "      <td>1</td>\n",
       "      <td>1</td>\n",
       "      <td>1</td>\n",
       "      <td>0</td>\n",
       "      <td>0</td>\n",
       "      <td>0</td>\n",
       "    </tr>\n",
       "  </tbody>\n",
       "</table>\n",
       "</div>"
      ],
      "text/plain": [
       "   Store  DayOfWeek       Date  Sales  Customers  Open  Promo  SchoolHoliday  \\\n",
       "0      1          5 2015-07-31   5263        555     1      1              1   \n",
       "1      2          5 2015-07-31   6064        625     1      1              1   \n",
       "2      3          5 2015-07-31   8314        821     1      1              1   \n",
       "3      4          5 2015-07-31  13995       1498     1      1              1   \n",
       "4      5          5 2015-07-31   4822        559     1      1              1   \n",
       "\n",
       "   StateHoliday_0  StateHoliday_a  StateHoliday_b  StateHoliday_c  \n",
       "0               1               0               0               0  \n",
       "1               1               0               0               0  \n",
       "2               1               0               0               0  \n",
       "3               1               0               0               0  \n",
       "4               1               0               0               0  "
      ]
     },
     "execution_count": 25,
     "metadata": {},
     "output_type": "execute_result"
    }
   ],
   "source": [
    "df = pd.get_dummies(df, columns=['StateHoliday'])\n",
    "df.head()"
   ]
  },
  {
   "cell_type": "code",
   "execution_count": 26,
   "id": "ordered-error",
   "metadata": {},
   "outputs": [],
   "source": [
    "df_original = df[~ last_10]\n",
    "df_test = df[last_10]"
   ]
  },
  {
   "cell_type": "code",
   "execution_count": 27,
   "id": "incorporate-affiliation",
   "metadata": {},
   "outputs": [],
   "source": [
    "X = df_original.drop(['Sales', 'Date'], axis =  1).copy()\n",
    "y = df_original.Sales\n",
    "\n",
    "X_train, X_test, y_train, y_test = train_test_split(X, y)"
   ]
  },
  {
   "cell_type": "code",
   "execution_count": 28,
   "id": "extraordinary-mambo",
   "metadata": {},
   "outputs": [
    {
     "data": {
      "text/html": [
       "<div>\n",
       "<style scoped>\n",
       "    .dataframe tbody tr th:only-of-type {\n",
       "        vertical-align: middle;\n",
       "    }\n",
       "\n",
       "    .dataframe tbody tr th {\n",
       "        vertical-align: top;\n",
       "    }\n",
       "\n",
       "    .dataframe thead th {\n",
       "        text-align: right;\n",
       "    }\n",
       "</style>\n",
       "<table border=\"1\" class=\"dataframe\">\n",
       "  <thead>\n",
       "    <tr style=\"text-align: right;\">\n",
       "      <th></th>\n",
       "      <th>Store</th>\n",
       "      <th>DayOfWeek</th>\n",
       "      <th>Customers</th>\n",
       "      <th>Open</th>\n",
       "      <th>Promo</th>\n",
       "      <th>SchoolHoliday</th>\n",
       "      <th>StateHoliday_0</th>\n",
       "      <th>StateHoliday_a</th>\n",
       "      <th>StateHoliday_b</th>\n",
       "      <th>StateHoliday_c</th>\n",
       "    </tr>\n",
       "  </thead>\n",
       "  <tbody>\n",
       "    <tr>\n",
       "      <th>337509</th>\n",
       "      <td>187</td>\n",
       "      <td>7</td>\n",
       "      <td>0</td>\n",
       "      <td>0</td>\n",
       "      <td>0</td>\n",
       "      <td>0</td>\n",
       "      <td>1</td>\n",
       "      <td>0</td>\n",
       "      <td>0</td>\n",
       "      <td>0</td>\n",
       "    </tr>\n",
       "    <tr>\n",
       "      <th>104548</th>\n",
       "      <td>854</td>\n",
       "      <td>3</td>\n",
       "      <td>680</td>\n",
       "      <td>1</td>\n",
       "      <td>1</td>\n",
       "      <td>0</td>\n",
       "      <td>1</td>\n",
       "      <td>0</td>\n",
       "      <td>0</td>\n",
       "      <td>0</td>\n",
       "    </tr>\n",
       "    <tr>\n",
       "      <th>883530</th>\n",
       "      <td>121</td>\n",
       "      <td>2</td>\n",
       "      <td>649</td>\n",
       "      <td>1</td>\n",
       "      <td>1</td>\n",
       "      <td>0</td>\n",
       "      <td>1</td>\n",
       "      <td>0</td>\n",
       "      <td>0</td>\n",
       "      <td>0</td>\n",
       "    </tr>\n",
       "    <tr>\n",
       "      <th>283693</th>\n",
       "      <td>678</td>\n",
       "      <td>2</td>\n",
       "      <td>886</td>\n",
       "      <td>1</td>\n",
       "      <td>1</td>\n",
       "      <td>0</td>\n",
       "      <td>1</td>\n",
       "      <td>0</td>\n",
       "      <td>0</td>\n",
       "      <td>0</td>\n",
       "    </tr>\n",
       "    <tr>\n",
       "      <th>731633</th>\n",
       "      <td>979</td>\n",
       "      <td>6</td>\n",
       "      <td>566</td>\n",
       "      <td>1</td>\n",
       "      <td>0</td>\n",
       "      <td>0</td>\n",
       "      <td>1</td>\n",
       "      <td>0</td>\n",
       "      <td>0</td>\n",
       "      <td>0</td>\n",
       "    </tr>\n",
       "  </tbody>\n",
       "</table>\n",
       "</div>"
      ],
      "text/plain": [
       "        Store  DayOfWeek  Customers  Open  Promo  SchoolHoliday  \\\n",
       "337509    187          7          0     0      0              0   \n",
       "104548    854          3        680     1      1              0   \n",
       "883530    121          2        649     1      1              0   \n",
       "283693    678          2        886     1      1              0   \n",
       "731633    979          6        566     1      0              0   \n",
       "\n",
       "        StateHoliday_0  StateHoliday_a  StateHoliday_b  StateHoliday_c  \n",
       "337509               1               0               0               0  \n",
       "104548               1               0               0               0  \n",
       "883530               1               0               0               0  \n",
       "283693               1               0               0               0  \n",
       "731633               1               0               0               0  "
      ]
     },
     "execution_count": 28,
     "metadata": {},
     "output_type": "execute_result"
    }
   ],
   "source": [
    "X_train.head()"
   ]
  },
  {
   "cell_type": "code",
   "execution_count": 29,
   "id": "dominican-progressive",
   "metadata": {},
   "outputs": [
    {
     "data": {
      "text/plain": [
       "337509       0\n",
       "104548    6840\n",
       "883530    5714\n",
       "283693    7665\n",
       "731633    4773\n",
       "Name: Sales, dtype: int64"
      ]
     },
     "execution_count": 29,
     "metadata": {},
     "output_type": "execute_result"
    }
   ],
   "source": [
    "y_train.head()"
   ]
  },
  {
   "cell_type": "markdown",
   "id": "golden-edwards",
   "metadata": {},
   "source": [
    "### 3)  Modelo de Regresión Lineal  \n",
    "Seleccione y entrene un modelo de regresión lineal. Justifique brevemente porque eligió dicho modelo. Informe los scores de train y test del modelo. (1.0 pts)\n"
   ]
  },
  {
   "cell_type": "markdown",
   "id": "large-soldier",
   "metadata": {},
   "source": [
    "Explicar brevemente porque elegimos este modelo"
   ]
  },
  {
   "cell_type": "code",
   "execution_count": 30,
   "id": "amateur-success",
   "metadata": {},
   "outputs": [
    {
     "data": {
      "text/plain": [
       "Lasso()"
      ]
     },
     "execution_count": 30,
     "metadata": {},
     "output_type": "execute_result"
    }
   ],
   "source": [
    "lr = Lasso()\n",
    "lr.fit(X_train.values, y_train.values)"
   ]
  },
  {
   "cell_type": "code",
   "execution_count": 31,
   "id": "driven-sydney",
   "metadata": {},
   "outputs": [
    {
     "name": "stdout",
     "output_type": "stream",
     "text": [
      "MSE: 2184959.918439884\n",
      "R2: 0.8530437252300871\n"
     ]
    }
   ],
   "source": [
    "y_pred = lr.predict(X_test.values)\n",
    "print(f'MSE: {mean_squared_error(y_test, y_pred)}')\n",
    "print(f'R2: {r2_score(y_test, y_pred)}')"
   ]
  },
  {
   "cell_type": "markdown",
   "id": "hungry-headquarters",
   "metadata": {},
   "source": [
    "### 4) \n",
    "Considere que la variable open = 0 implica y = 0. Realice nuevamente 3 y compare los resultados. Comente, brevemente e informe los scores del modelo. (1.5 pts)"
   ]
  },
  {
   "cell_type": "code",
   "execution_count": 32,
   "id": "welcome-robin",
   "metadata": {},
   "outputs": [
    {
     "data": {
      "text/plain": [
       "251515"
      ]
     },
     "execution_count": 32,
     "metadata": {},
     "output_type": "execute_result"
    }
   ],
   "source": [
    "X_test.shape[0]"
   ]
  },
  {
   "cell_type": "code",
   "execution_count": 33,
   "id": "accompanied-incidence",
   "metadata": {},
   "outputs": [
    {
     "data": {
      "text/plain": [
       "251515"
      ]
     },
     "execution_count": 33,
     "metadata": {},
     "output_type": "execute_result"
    }
   ],
   "source": [
    "len(y_pred)"
   ]
  },
  {
   "cell_type": "code",
   "execution_count": 37,
   "id": "dense-hampshire",
   "metadata": {},
   "outputs": [
    {
     "name": "stderr",
     "output_type": "stream",
     "text": [
      "C:\\Users\\dicarlom\\Miniconda3\\envs\\data_mining\\lib\\site-packages\\pandas\\core\\indexing.py:1676: SettingWithCopyWarning: \n",
      "A value is trying to be set on a copy of a slice from a DataFrame.\n",
      "Try using .loc[row_indexer,col_indexer] = value instead\n",
      "\n",
      "See the caveats in the documentation: https://pandas.pydata.org/pandas-docs/stable/user_guide/indexing.html#returning-a-view-versus-a-copy\n",
      "  self._setitem_single_column(ilocs[0], value, pi)\n"
     ]
    }
   ],
   "source": [
    "X_test.loc[:, 'predicted'] = y_pred"
   ]
  },
  {
   "cell_type": "code",
   "execution_count": 38,
   "id": "responsible-bacteria",
   "metadata": {},
   "outputs": [
    {
     "name": "stderr",
     "output_type": "stream",
     "text": [
      "C:\\Users\\dicarlom\\Miniconda3\\envs\\data_mining\\lib\\site-packages\\pandas\\core\\indexing.py:1720: SettingWithCopyWarning: \n",
      "A value is trying to be set on a copy of a slice from a DataFrame.\n",
      "Try using .loc[row_indexer,col_indexer] = value instead\n",
      "\n",
      "See the caveats in the documentation: https://pandas.pydata.org/pandas-docs/stable/user_guide/indexing.html#returning-a-view-versus-a-copy\n",
      "  self._setitem_single_column(loc, value, pi)\n"
     ]
    }
   ],
   "source": [
    "X_test.loc[X_test['Open'] == 0, 'predicted'] = 0"
   ]
  },
  {
   "cell_type": "code",
   "execution_count": 39,
   "id": "stopped-presence",
   "metadata": {},
   "outputs": [
    {
     "data": {
      "text/plain": [
       "0.0"
      ]
     },
     "execution_count": 39,
     "metadata": {},
     "output_type": "execute_result"
    }
   ],
   "source": [
    "X_test.query('Open == 0').predicted.sum()"
   ]
  },
  {
   "cell_type": "code",
   "execution_count": 40,
   "id": "changing-yorkshire",
   "metadata": {},
   "outputs": [
    {
     "data": {
      "text/html": [
       "<div>\n",
       "<style scoped>\n",
       "    .dataframe tbody tr th:only-of-type {\n",
       "        vertical-align: middle;\n",
       "    }\n",
       "\n",
       "    .dataframe tbody tr th {\n",
       "        vertical-align: top;\n",
       "    }\n",
       "\n",
       "    .dataframe thead th {\n",
       "        text-align: right;\n",
       "    }\n",
       "</style>\n",
       "<table border=\"1\" class=\"dataframe\">\n",
       "  <thead>\n",
       "    <tr style=\"text-align: right;\">\n",
       "      <th></th>\n",
       "      <th>Store</th>\n",
       "      <th>DayOfWeek</th>\n",
       "      <th>Customers</th>\n",
       "      <th>Open</th>\n",
       "      <th>Promo</th>\n",
       "      <th>SchoolHoliday</th>\n",
       "      <th>StateHoliday_0</th>\n",
       "      <th>StateHoliday_a</th>\n",
       "      <th>StateHoliday_b</th>\n",
       "      <th>StateHoliday_c</th>\n",
       "      <th>predicted</th>\n",
       "    </tr>\n",
       "  </thead>\n",
       "  <tbody>\n",
       "    <tr>\n",
       "      <th>930994</th>\n",
       "      <td>755</td>\n",
       "      <td>2</td>\n",
       "      <td>969</td>\n",
       "      <td>1</td>\n",
       "      <td>1</td>\n",
       "      <td>0</td>\n",
       "      <td>1</td>\n",
       "      <td>0</td>\n",
       "      <td>0</td>\n",
       "      <td>0</td>\n",
       "      <td>8982.920459</td>\n",
       "    </tr>\n",
       "  </tbody>\n",
       "</table>\n",
       "</div>"
      ],
      "text/plain": [
       "        Store  DayOfWeek  Customers  Open  Promo  SchoolHoliday  \\\n",
       "930994    755          2        969     1      1              0   \n",
       "\n",
       "        StateHoliday_0  StateHoliday_a  StateHoliday_b  StateHoliday_c  \\\n",
       "930994               1               0               0               0   \n",
       "\n",
       "          predicted  \n",
       "930994  8982.920459  "
      ]
     },
     "execution_count": 40,
     "metadata": {},
     "output_type": "execute_result"
    }
   ],
   "source": [
    "X_test.head(1)"
   ]
  },
  {
   "cell_type": "code",
   "execution_count": 41,
   "id": "wireless-attendance",
   "metadata": {},
   "outputs": [
    {
     "name": "stdout",
     "output_type": "stream",
     "text": [
      "MSE: 2173856.4191093715\n",
      "R2: 0.8537905256106119\n"
     ]
    }
   ],
   "source": [
    "print(f'MSE: {mean_squared_error(y_test, X_test.predicted)}')\n",
    "print(f'R2: {r2_score(y_test, X_test.predicted)}')"
   ]
  },
  {
   "cell_type": "markdown",
   "id": "sharp-address",
   "metadata": {},
   "source": [
    "A la vista del resultado podemos afirmar que el ajuste inicial era bueno con un R cuadrado de  0.85  y es cercano a 1, en concreto, el 85% de la variabilidad de la variable Y a su promedio es explicado por el modelo de regresión ajustado. Podemos concluir que el modelo lineal es adecuado para describir la relación\n",
    "que existe entre estas variables.Cuando probamos con open == 0, target -> 0 vemos que mejora un poco la predicción."
   ]
  },
  {
   "cell_type": "markdown",
   "id": "extreme-trinidad",
   "metadata": {},
   "source": [
    "### 5) Predicción sobre los datos de test. \n",
    "Genere un plot que contraste las ventas verdaderas contra las ventas predichas por el modelo vs. la fecha. Realice\n",
    "esto con el promedio de ventas por día y para las tiendas 1 y 100. (1.0 pts)"
   ]
  },
  {
   "cell_type": "markdown",
   "id": "tutorial-replication",
   "metadata": {},
   "source": [
    "#### Predicciones sobre test"
   ]
  },
  {
   "cell_type": "code",
   "execution_count": 35,
   "id": "minor-slovenia",
   "metadata": {},
   "outputs": [],
   "source": [
    "pred_test = lr_bis.predict(df_test.drop(['Sales', 'Date'], axis =  1).copy().values)"
   ]
  },
  {
   "cell_type": "code",
   "execution_count": 36,
   "id": "small-spending",
   "metadata": {},
   "outputs": [
    {
     "data": {
      "text/plain": [
       "[6464.204674076895,\n",
       " 6888.37360721196,\n",
       " 8076.379717439458,\n",
       " 12180.303940218231,\n",
       " 6487.713256795634,\n",
       " 6669.394197202942,\n",
       " 11670.523993074416,\n",
       " 8148.200844565239,\n",
       " 7262.9346169704195,\n",
       " 7226.376363922746]"
      ]
     },
     "execution_count": 36,
     "metadata": {},
     "output_type": "execute_result"
    }
   ],
   "source": [
    "list_test_pred = pred_test.tolist()\n",
    "list_test_pred[:10]"
   ]
  },
  {
   "cell_type": "markdown",
   "id": "intensive-package",
   "metadata": {},
   "source": [
    "#### Datos reales de test"
   ]
  },
  {
   "cell_type": "code",
   "execution_count": 37,
   "id": "double-archives",
   "metadata": {},
   "outputs": [
    {
     "data": {
      "text/html": [
       "<div>\n",
       "<style scoped>\n",
       "    .dataframe tbody tr th:only-of-type {\n",
       "        vertical-align: middle;\n",
       "    }\n",
       "\n",
       "    .dataframe tbody tr th {\n",
       "        vertical-align: top;\n",
       "    }\n",
       "\n",
       "    .dataframe thead th {\n",
       "        text-align: right;\n",
       "    }\n",
       "</style>\n",
       "<table border=\"1\" class=\"dataframe\">\n",
       "  <thead>\n",
       "    <tr style=\"text-align: right;\">\n",
       "      <th></th>\n",
       "      <th>Store</th>\n",
       "      <th>DayOfWeek</th>\n",
       "      <th>Date</th>\n",
       "      <th>Sales</th>\n",
       "      <th>Customers</th>\n",
       "      <th>Open</th>\n",
       "      <th>Promo</th>\n",
       "      <th>SchoolHoliday</th>\n",
       "      <th>StateHoliday_0</th>\n",
       "      <th>StateHoliday_a</th>\n",
       "      <th>StateHoliday_b</th>\n",
       "      <th>StateHoliday_c</th>\n",
       "    </tr>\n",
       "  </thead>\n",
       "  <tbody>\n",
       "    <tr>\n",
       "      <th>0</th>\n",
       "      <td>1</td>\n",
       "      <td>5</td>\n",
       "      <td>2015-07-31</td>\n",
       "      <td>5263</td>\n",
       "      <td>555</td>\n",
       "      <td>1</td>\n",
       "      <td>1</td>\n",
       "      <td>1</td>\n",
       "      <td>1</td>\n",
       "      <td>0</td>\n",
       "      <td>0</td>\n",
       "      <td>0</td>\n",
       "    </tr>\n",
       "    <tr>\n",
       "      <th>1</th>\n",
       "      <td>2</td>\n",
       "      <td>5</td>\n",
       "      <td>2015-07-31</td>\n",
       "      <td>6064</td>\n",
       "      <td>625</td>\n",
       "      <td>1</td>\n",
       "      <td>1</td>\n",
       "      <td>1</td>\n",
       "      <td>1</td>\n",
       "      <td>0</td>\n",
       "      <td>0</td>\n",
       "      <td>0</td>\n",
       "    </tr>\n",
       "    <tr>\n",
       "      <th>2</th>\n",
       "      <td>3</td>\n",
       "      <td>5</td>\n",
       "      <td>2015-07-31</td>\n",
       "      <td>8314</td>\n",
       "      <td>821</td>\n",
       "      <td>1</td>\n",
       "      <td>1</td>\n",
       "      <td>1</td>\n",
       "      <td>1</td>\n",
       "      <td>0</td>\n",
       "      <td>0</td>\n",
       "      <td>0</td>\n",
       "    </tr>\n",
       "    <tr>\n",
       "      <th>3</th>\n",
       "      <td>4</td>\n",
       "      <td>5</td>\n",
       "      <td>2015-07-31</td>\n",
       "      <td>13995</td>\n",
       "      <td>1498</td>\n",
       "      <td>1</td>\n",
       "      <td>1</td>\n",
       "      <td>1</td>\n",
       "      <td>1</td>\n",
       "      <td>0</td>\n",
       "      <td>0</td>\n",
       "      <td>0</td>\n",
       "    </tr>\n",
       "    <tr>\n",
       "      <th>4</th>\n",
       "      <td>5</td>\n",
       "      <td>5</td>\n",
       "      <td>2015-07-31</td>\n",
       "      <td>4822</td>\n",
       "      <td>559</td>\n",
       "      <td>1</td>\n",
       "      <td>1</td>\n",
       "      <td>1</td>\n",
       "      <td>1</td>\n",
       "      <td>0</td>\n",
       "      <td>0</td>\n",
       "      <td>0</td>\n",
       "    </tr>\n",
       "  </tbody>\n",
       "</table>\n",
       "</div>"
      ],
      "text/plain": [
       "   Store  DayOfWeek       Date  Sales  Customers  Open  Promo  SchoolHoliday  \\\n",
       "0      1          5 2015-07-31   5263        555     1      1              1   \n",
       "1      2          5 2015-07-31   6064        625     1      1              1   \n",
       "2      3          5 2015-07-31   8314        821     1      1              1   \n",
       "3      4          5 2015-07-31  13995       1498     1      1              1   \n",
       "4      5          5 2015-07-31   4822        559     1      1              1   \n",
       "\n",
       "   StateHoliday_0  StateHoliday_a  StateHoliday_b  StateHoliday_c  \n",
       "0               1               0               0               0  \n",
       "1               1               0               0               0  \n",
       "2               1               0               0               0  \n",
       "3               1               0               0               0  \n",
       "4               1               0               0               0  "
      ]
     },
     "execution_count": 37,
     "metadata": {},
     "output_type": "execute_result"
    }
   ],
   "source": [
    "df_test.head()"
   ]
  },
  {
   "cell_type": "markdown",
   "id": "sticky-spiritual",
   "metadata": {},
   "source": [
    "#### DF con datos reales mas predicciones"
   ]
  },
  {
   "cell_type": "code",
   "execution_count": 38,
   "id": "leading-lodge",
   "metadata": {},
   "outputs": [
    {
     "data": {
      "text/html": [
       "<div>\n",
       "<style scoped>\n",
       "    .dataframe tbody tr th:only-of-type {\n",
       "        vertical-align: middle;\n",
       "    }\n",
       "\n",
       "    .dataframe tbody tr th {\n",
       "        vertical-align: top;\n",
       "    }\n",
       "\n",
       "    .dataframe thead th {\n",
       "        text-align: right;\n",
       "    }\n",
       "</style>\n",
       "<table border=\"1\" class=\"dataframe\">\n",
       "  <thead>\n",
       "    <tr style=\"text-align: right;\">\n",
       "      <th></th>\n",
       "      <th>Store</th>\n",
       "      <th>DayOfWeek</th>\n",
       "      <th>Date</th>\n",
       "      <th>Sales</th>\n",
       "      <th>Predicted_Sales</th>\n",
       "      <th>Customers</th>\n",
       "      <th>Open</th>\n",
       "      <th>Promo</th>\n",
       "      <th>SchoolHoliday</th>\n",
       "      <th>StateHoliday_0</th>\n",
       "      <th>StateHoliday_a</th>\n",
       "      <th>StateHoliday_b</th>\n",
       "      <th>StateHoliday_c</th>\n",
       "    </tr>\n",
       "  </thead>\n",
       "  <tbody>\n",
       "    <tr>\n",
       "      <th>0</th>\n",
       "      <td>1</td>\n",
       "      <td>5</td>\n",
       "      <td>2015-07-31</td>\n",
       "      <td>5263</td>\n",
       "      <td>6464.204674</td>\n",
       "      <td>555</td>\n",
       "      <td>1</td>\n",
       "      <td>1</td>\n",
       "      <td>1</td>\n",
       "      <td>1</td>\n",
       "      <td>0</td>\n",
       "      <td>0</td>\n",
       "      <td>0</td>\n",
       "    </tr>\n",
       "    <tr>\n",
       "      <th>1</th>\n",
       "      <td>2</td>\n",
       "      <td>5</td>\n",
       "      <td>2015-07-31</td>\n",
       "      <td>6064</td>\n",
       "      <td>6888.373607</td>\n",
       "      <td>625</td>\n",
       "      <td>1</td>\n",
       "      <td>1</td>\n",
       "      <td>1</td>\n",
       "      <td>1</td>\n",
       "      <td>0</td>\n",
       "      <td>0</td>\n",
       "      <td>0</td>\n",
       "    </tr>\n",
       "    <tr>\n",
       "      <th>2</th>\n",
       "      <td>3</td>\n",
       "      <td>5</td>\n",
       "      <td>2015-07-31</td>\n",
       "      <td>8314</td>\n",
       "      <td>8076.379717</td>\n",
       "      <td>821</td>\n",
       "      <td>1</td>\n",
       "      <td>1</td>\n",
       "      <td>1</td>\n",
       "      <td>1</td>\n",
       "      <td>0</td>\n",
       "      <td>0</td>\n",
       "      <td>0</td>\n",
       "    </tr>\n",
       "    <tr>\n",
       "      <th>3</th>\n",
       "      <td>4</td>\n",
       "      <td>5</td>\n",
       "      <td>2015-07-31</td>\n",
       "      <td>13995</td>\n",
       "      <td>12180.303940</td>\n",
       "      <td>1498</td>\n",
       "      <td>1</td>\n",
       "      <td>1</td>\n",
       "      <td>1</td>\n",
       "      <td>1</td>\n",
       "      <td>0</td>\n",
       "      <td>0</td>\n",
       "      <td>0</td>\n",
       "    </tr>\n",
       "    <tr>\n",
       "      <th>4</th>\n",
       "      <td>5</td>\n",
       "      <td>5</td>\n",
       "      <td>2015-07-31</td>\n",
       "      <td>4822</td>\n",
       "      <td>6487.713257</td>\n",
       "      <td>559</td>\n",
       "      <td>1</td>\n",
       "      <td>1</td>\n",
       "      <td>1</td>\n",
       "      <td>1</td>\n",
       "      <td>0</td>\n",
       "      <td>0</td>\n",
       "      <td>0</td>\n",
       "    </tr>\n",
       "  </tbody>\n",
       "</table>\n",
       "</div>"
      ],
      "text/plain": [
       "   Store  DayOfWeek       Date  Sales  Predicted_Sales  Customers  Open  \\\n",
       "0      1          5 2015-07-31   5263      6464.204674        555     1   \n",
       "1      2          5 2015-07-31   6064      6888.373607        625     1   \n",
       "2      3          5 2015-07-31   8314      8076.379717        821     1   \n",
       "3      4          5 2015-07-31  13995     12180.303940       1498     1   \n",
       "4      5          5 2015-07-31   4822      6487.713257        559     1   \n",
       "\n",
       "   Promo  SchoolHoliday  StateHoliday_0  StateHoliday_a  StateHoliday_b  \\\n",
       "0      1              1               1               0               0   \n",
       "1      1              1               1               0               0   \n",
       "2      1              1               1               0               0   \n",
       "3      1              1               1               0               0   \n",
       "4      1              1               1               0               0   \n",
       "\n",
       "   StateHoliday_c  \n",
       "0               0  \n",
       "1               0  \n",
       "2               0  \n",
       "3               0  \n",
       "4               0  "
      ]
     },
     "execution_count": 38,
     "metadata": {},
     "output_type": "execute_result"
    }
   ],
   "source": [
    "df_test.insert(4, 'Predicted_Sales', list_test_pred , True)\n",
    "df_test.head()"
   ]
  },
  {
   "cell_type": "code",
   "execution_count": 39,
   "id": "chinese-bracket",
   "metadata": {},
   "outputs": [],
   "source": [
    "def plot_pred_vs_real(df, real, predicted, label_real, label_predicted, c_real, c_predicted):\n",
    "\n",
    "    fig, ax = plt.subplots(figsize=(12, 4))\n",
    "\n",
    "    sns.lineplot(data = df,\n",
    "                x = 'Date',\n",
    "                y = real,\n",
    "                color = c_real,\n",
    "                label=label_real)\n",
    "\n",
    "    sns.lineplot(data = df,\n",
    "                x = 'Date',\n",
    "                y = predicted,\n",
    "                color = c_predicted,\n",
    "                label=label_predicted)\n",
    "\n",
    "    plt.xlabel(\"Tiempo\")\n",
    "    plt.xticks(rotation=45)\n",
    "    plt.ylabel(\"Ventas\")\n",
    "    plt.show()"
   ]
  },
  {
   "cell_type": "markdown",
   "id": "median-december",
   "metadata": {},
   "source": [
    "### Predicted vs promedio ventas por día "
   ]
  },
  {
   "cell_type": "code",
   "execution_count": 40,
   "id": "rapid-spice",
   "metadata": {},
   "outputs": [
    {
     "data": {
      "image/png": "[encoded data removed]",
      "text/plain": [
       "<Figure size 864x288 with 1 Axes>"
      ]
     },
     "metadata": {
      "needs_background": "light"
     },
     "output_type": "display_data"
    }
   ],
   "source": [
    "test_gruped_mean = df_test.groupby(by = ['Date'])[['Sales', 'Predicted_Sales']].mean().reset_index()\n",
    "plot_pred_vs_real(test_gruped_mean, \n",
    "                  'Sales', \n",
    "                  'Predicted_Sales', \n",
    "                  'Promedio valores reales', \n",
    "                  'Promedio predicciones',\n",
    "                  'deepskyblue',\n",
    "                  'mediumvioletred')"
   ]
  },
  {
   "cell_type": "markdown",
   "id": "requested-kinase",
   "metadata": {},
   "source": [
    "### Predicted vs tienda 1"
   ]
  },
  {
   "cell_type": "code",
   "execution_count": 41,
   "id": "durable-physiology",
   "metadata": {},
   "outputs": [
    {
     "data": {
      "image/png": "[encoded data removed]",
      "text/plain": [
       "<Figure size 864x288 with 1 Axes>"
      ]
     },
     "metadata": {
      "needs_background": "light"
     },
     "output_type": "display_data"
    }
   ],
   "source": [
    "tienda_1 = df_test.Store == 1\n",
    "plot_pred_vs_real(df_test[tienda_1], \n",
    "                  'Sales', \n",
    "                  'Predicted_Sales', \n",
    "                  'Valores Reales tienda 1', \n",
    "                  'Predicciones tienda 1',\n",
    "                  'deepskyblue',\n",
    "                 'hotpink')"
   ]
  },
  {
   "cell_type": "markdown",
   "id": "extra-tuition",
   "metadata": {},
   "source": [
    "### Predicted vs tienda 100"
   ]
  },
  {
   "cell_type": "code",
   "execution_count": 42,
   "id": "surprised-vault",
   "metadata": {},
   "outputs": [
    {
     "data": {
      "image/png": "[encoded data removed]",
      "text/plain": [
       "<Figure size 864x288 with 1 Axes>"
      ]
     },
     "metadata": {
      "needs_background": "light"
     },
     "output_type": "display_data"
    }
   ],
   "source": [
    "tienda_100 = df_test.Store == 100\n",
    "plot_pred_vs_real(df_test[tienda_100], \n",
    "                  'Sales', \n",
    "                  'Predicted_Sales', \n",
    "                  'Valores Reales tienda 100', \n",
    "                  'Predicciones tienda 100',\n",
    "                  'deepskyblue',\n",
    "                  'orchid')\n",
    "                 "
   ]
  },
  {
   "cell_type": "markdown",
   "id": "virgin-music",
   "metadata": {},
   "source": [
    "## 6) Opcional Rossman Store"
   ]
  },
  {
   "cell_type": "code",
   "execution_count": 43,
   "id": "stuck-final",
   "metadata": {},
   "outputs": [],
   "source": [
    "#El dataset Rossman_store.csv contiene información extra para la consigna opcional.\n",
    "rossman_store = pd.read_csv(path / 'Rossman_store.csv',\n",
    "                                     header=0, \n",
    "                                      sep=','\n",
    "                                     )"
   ]
  },
  {
   "cell_type": "code",
   "execution_count": 44,
   "id": "forty-choir",
   "metadata": {},
   "outputs": [
    {
     "data": {
      "text/html": [
       "<div>\n",
       "<style scoped>\n",
       "    .dataframe tbody tr th:only-of-type {\n",
       "        vertical-align: middle;\n",
       "    }\n",
       "\n",
       "    .dataframe tbody tr th {\n",
       "        vertical-align: top;\n",
       "    }\n",
       "\n",
       "    .dataframe thead th {\n",
       "        text-align: right;\n",
       "    }\n",
       "</style>\n",
       "<table border=\"1\" class=\"dataframe\">\n",
       "  <thead>\n",
       "    <tr style=\"text-align: right;\">\n",
       "      <th></th>\n",
       "      <th>Store</th>\n",
       "      <th>StoreType</th>\n",
       "      <th>Assortment</th>\n",
       "      <th>CompetitionDistance</th>\n",
       "      <th>CompetitionOpenSinceMonth</th>\n",
       "      <th>CompetitionOpenSinceYear</th>\n",
       "      <th>Promo2</th>\n",
       "      <th>Promo2SinceWeek</th>\n",
       "      <th>Promo2SinceYear</th>\n",
       "      <th>PromoInterval</th>\n",
       "    </tr>\n",
       "  </thead>\n",
       "  <tbody>\n",
       "    <tr>\n",
       "      <th>0</th>\n",
       "      <td>1</td>\n",
       "      <td>c</td>\n",
       "      <td>a</td>\n",
       "      <td>1270.0</td>\n",
       "      <td>9.0</td>\n",
       "      <td>2008.0</td>\n",
       "      <td>0</td>\n",
       "      <td>NaN</td>\n",
       "      <td>NaN</td>\n",
       "      <td>NaN</td>\n",
       "    </tr>\n",
       "  </tbody>\n",
       "</table>\n",
       "</div>"
      ],
      "text/plain": [
       "   Store StoreType Assortment  CompetitionDistance  CompetitionOpenSinceMonth  \\\n",
       "0      1         c          a               1270.0                        9.0   \n",
       "\n",
       "   CompetitionOpenSinceYear  Promo2  Promo2SinceWeek  Promo2SinceYear  \\\n",
       "0                    2008.0       0              NaN              NaN   \n",
       "\n",
       "  PromoInterval  \n",
       "0           NaN  "
      ]
     },
     "execution_count": 44,
     "metadata": {},
     "output_type": "execute_result"
    }
   ],
   "source": [
    "rossman_store.head(1)"
   ]
  },
  {
   "cell_type": "code",
   "execution_count": 45,
   "id": "noble-cursor",
   "metadata": {},
   "outputs": [
    {
     "data": {
      "text/html": [
       "<div>\n",
       "<style scoped>\n",
       "    .dataframe tbody tr th:only-of-type {\n",
       "        vertical-align: middle;\n",
       "    }\n",
       "\n",
       "    .dataframe tbody tr th {\n",
       "        vertical-align: top;\n",
       "    }\n",
       "\n",
       "    .dataframe thead th {\n",
       "        text-align: right;\n",
       "    }\n",
       "</style>\n",
       "<table border=\"1\" class=\"dataframe\">\n",
       "  <thead>\n",
       "    <tr style=\"text-align: right;\">\n",
       "      <th></th>\n",
       "      <th>Store</th>\n",
       "      <th>DayOfWeek</th>\n",
       "      <th>Date</th>\n",
       "      <th>Sales</th>\n",
       "      <th>Customers</th>\n",
       "      <th>Open</th>\n",
       "      <th>Promo</th>\n",
       "      <th>SchoolHoliday</th>\n",
       "      <th>StateHoliday_0</th>\n",
       "      <th>StateHoliday_a</th>\n",
       "      <th>StateHoliday_b</th>\n",
       "      <th>StateHoliday_c</th>\n",
       "    </tr>\n",
       "  </thead>\n",
       "  <tbody>\n",
       "    <tr>\n",
       "      <th>0</th>\n",
       "      <td>1</td>\n",
       "      <td>5</td>\n",
       "      <td>2015-07-31</td>\n",
       "      <td>5263</td>\n",
       "      <td>555</td>\n",
       "      <td>1</td>\n",
       "      <td>1</td>\n",
       "      <td>1</td>\n",
       "      <td>1</td>\n",
       "      <td>0</td>\n",
       "      <td>0</td>\n",
       "      <td>0</td>\n",
       "    </tr>\n",
       "  </tbody>\n",
       "</table>\n",
       "</div>"
      ],
      "text/plain": [
       "   Store  DayOfWeek       Date  Sales  Customers  Open  Promo  SchoolHoliday  \\\n",
       "0      1          5 2015-07-31   5263        555     1      1              1   \n",
       "\n",
       "   StateHoliday_0  StateHoliday_a  StateHoliday_b  StateHoliday_c  \n",
       "0               1               0               0               0  "
      ]
     },
     "execution_count": 45,
     "metadata": {},
     "output_type": "execute_result"
    }
   ],
   "source": [
    "df.head(1)"
   ]
  },
  {
   "cell_type": "code",
   "execution_count": 46,
   "id": "sudden-senate",
   "metadata": {},
   "outputs": [],
   "source": [
    "df = df.merge(rossman_store[['Store', 'StoreType','Assortment']], \n",
    "              how = 'inner',\n",
    "              left_on = 'Store',\n",
    "              right_on = 'Store')\n"
   ]
  },
  {
   "cell_type": "code",
   "execution_count": 68,
   "id": "extra-receptor",
   "metadata": {},
   "outputs": [],
   "source": [
    "df['clase'] = 'StoreType_' +df['StoreType'].astype(str) + '_Assortment_' + df['Assortment'].astype(str)"
   ]
  },
  {
   "cell_type": "code",
   "execution_count": 69,
   "id": "vocational-basketball",
   "metadata": {},
   "outputs": [
    {
     "data": {
      "text/plain": [
       "StoreType_a_Assortment_a    346389\n",
       "StoreType_a_Assortment_c    205238\n",
       "StoreType_d_Assortment_c    199328\n",
       "StoreType_d_Assortment_a    113584\n",
       "StoreType_c_Assortment_a     70878\n",
       "StoreType_c_Assortment_c     65962\n",
       "StoreType_b_Assortment_b      8294\n",
       "StoreType_b_Assortment_a      6594\n",
       "StoreType_b_Assortment_c       942\n",
       "Name: clase, dtype: int64"
      ]
     },
     "execution_count": 69,
     "metadata": {},
     "output_type": "execute_result"
    }
   ],
   "source": [
    "df['clase'].value_counts()"
   ]
  },
  {
   "cell_type": "code",
   "execution_count": 77,
   "id": "statewide-procurement",
   "metadata": {},
   "outputs": [],
   "source": [
    "dicc_st_ass = {id: df[df.clase == id] for id in df.clase.unique()}"
   ]
  },
  {
   "cell_type": "code",
   "execution_count": 85,
   "id": "alien-spell",
   "metadata": {},
   "outputs": [],
   "source": [
    "dicc_pred_st_ass = {}\n",
    "for key in dicc_st_ass:\n",
    "    \n",
    "    fecha_min_10 =  max(dicc_st_ass[key].Date) - timedelta(days = 10)\n",
    "    last_10 = dicc_st_ass[key].Date > fecha_min_10\n",
    "    \n",
    "    dataset = dicc_st_ass[key]\n",
    "    dataset_original = dataset[~ last_10]\n",
    "    dataset_test = dataset[last_10]\n",
    "    \n",
    "    X1 = dataset_original.drop(['Sales', 'Date', 'StoreType','Assortment', 'class','clase'], axis =  1).copy()\n",
    "    y1 = dataset_original.Sales\n",
    "\n",
    "    X1_train, X1_test, y1_train, y1_test = train_test_split(X1, y1)\n",
    "    \n",
    "    lasso = Lasso()\n",
    "    lasso.fit(X1_train.values, y1_train.values)\n",
    "    dicc = {}\n",
    "    dicc['valores_predichos'] = lasso.predict(X1_test.values)\n",
    "    dicc['MSE'] = mean_squared_error(y1_test, dicc['valores_predichos'])\n",
    "    dicc['R2'] = r2_score(y1_test, dicc['valores_predichos'])\n",
    "    \n",
    "    dicc_pred_st_ass[key] = dicc\n"
   ]
  },
  {
   "cell_type": "code",
   "execution_count": 98,
   "id": "extra-compression",
   "metadata": {},
   "outputs": [
    {
     "name": "stdout",
     "output_type": "stream",
     "text": [
      "El MSE de nuestro modelo StoreType_c_Assortment_a es 995217.175 \n",
      "El MSE de nuestro modelo StoreType_c_Assortment_a es 0.918 \n",
      "--------------\n",
      "El MSE de nuestro modelo StoreType_a_Assortment_a es 1189399.181 \n",
      "El MSE de nuestro modelo StoreType_a_Assortment_a es 0.914 \n",
      "--------------\n",
      "El MSE de nuestro modelo StoreType_c_Assortment_c es 1277025.731 \n",
      "El MSE de nuestro modelo StoreType_c_Assortment_c es 0.918 \n",
      "--------------\n",
      "El MSE de nuestro modelo StoreType_a_Assortment_c es 1631121.395 \n",
      "El MSE de nuestro modelo StoreType_a_Assortment_c es 0.911 \n",
      "--------------\n",
      "El MSE de nuestro modelo StoreType_d_Assortment_a es 971496.316 \n",
      "El MSE de nuestro modelo StoreType_d_Assortment_a es 0.91 \n",
      "--------------\n",
      "El MSE de nuestro modelo StoreType_d_Assortment_c es 1380088.197 \n",
      "El MSE de nuestro modelo StoreType_d_Assortment_c es 0.892 \n",
      "--------------\n",
      "El MSE de nuestro modelo StoreType_b_Assortment_a es 1703223.795 \n",
      "El MSE de nuestro modelo StoreType_b_Assortment_a es 0.95 \n",
      "--------------\n",
      "El MSE de nuestro modelo StoreType_b_Assortment_b es 1617329.413 \n",
      "El MSE de nuestro modelo StoreType_b_Assortment_b es 0.891 \n",
      "--------------\n",
      "El MSE de nuestro modelo StoreType_b_Assortment_c es 1696309.325 \n",
      "El MSE de nuestro modelo StoreType_b_Assortment_c es 0.822 \n",
      "--------------\n"
     ]
    }
   ],
   "source": [
    "for key in dicc_pred_st_ass:\n",
    "    MSE = dicc_pred_st_ass[key]['MSE']\n",
    "    r2 = dicc_pred_st_ass[key]['R2']\n",
    "    print(f'El MSE de nuestro modelo {key} es {round(MSE,3)} ')\n",
    "    print(f'El MSE de nuestro modelo {key} es {round(r2,3)} ')\n",
    "    print('--------------')\n"
   ]
  },
  {
   "cell_type": "markdown",
   "id": "steady-display",
   "metadata": {},
   "source": [
    "Podemos ver aqui que claramente cada clase de store tiene un comportamiento distinto, por lo que este experimento de crear 9 modelos mejora los valores del modelo creado antes, generando mejores predicciones."
   ]
  }
 ],
 "metadata": {
  "kernelspec": {
   "display_name": "Python 3",
   "language": "python",
   "name": "python3"
  },
  "language_info": {
   "codemirror_mode": {
    "name": "ipython",
    "version": 3
   },
   "file_extension": ".py",
   "mimetype": "text/x-python",
   "name": "python",
   "nbconvert_exporter": "python",
   "pygments_lexer": "ipython3",
   "version": "3.9.2"
  }
 },
 "nbformat": 4,
 "nbformat_minor": 5
}
