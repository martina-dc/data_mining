{
 "cells": [
  {
   "cell_type": "markdown",
   "metadata": {},
   "source": [
    "# Instacart Market Basket Analysys\n",
    "Si no tenemos los paquetes instalados, los instalamos "
   ]
  },
  {
   "cell_type": "code",
   "execution_count": 1,
   "metadata": {},
   "outputs": [],
   "source": [
    "list_of_packages = c(\"tidyr\", \"arules\", \"knitr\", \"arulesViz\", \"here\", \"tidyverse\", \"ggplot2\", \"ggthemes\", \"repr\", \"methods\")\n",
    "new_packages = list_of_packages[!(list_of_packages %in% installed.packages()[,\"Package\"])]\n",
    "if(length(new_packages)) install.packages(new_packages)\n"
   ]
  },
  {
   "cell_type": "markdown",
   "metadata": {},
   "source": [
    "Importamos los paquetes instalados\n"
   ]
  },
  {
   "cell_type": "code",
   "execution_count": 2,
   "metadata": {},
   "outputs": [],
   "source": [
    "suppressWarnings(suppressMessages(easypackages::libraries(list_of_packages)))"
   ]
  },
  {
   "cell_type": "markdown",
   "metadata": {},
   "source": [
    "Cargamos los archivos de trabajo"
   ]
  },
  {
   "cell_type": "code",
   "execution_count": 3,
   "metadata": {},
   "outputs": [],
   "source": [
    "path =  here::here(\"datos\", \"instacart-market-basket-analysis\")\n",
    "\n",
    "name_orders = \"orders.csv\"\n",
    "name_dep = \"departments.csv\"\n",
    "\n",
    "name_op_train = \"order_products__train.csv\"\n",
    "name_products = \"products.csv\"\n",
    "name_sample = \"sample_submission.csv\"\n",
    "\n",
    "b_orders = read.csv(file = file.path(path, name_orders),\n",
    "                  sep = \",\")\n",
    "b_dep = read.csv(file = file.path(path, name_dep),\n",
    "                  sep = \",\")\n",
    "b_op_train = read.csv(file = file.path(path, name_op_train),\n",
    "                  sep = \",\")\n",
    "b_products = read.csv(file = file.path(path, name_products),\n",
    "                  sep = \",\")\n",
    "b_sample = read.csv(file = file.path(path, name_sample),\n",
    "                  sep = \",\")\n"
   ]
  },
  {
   "cell_type": "markdown",
   "metadata": {},
   "source": [
    "Asignamos los archivos a los df"
   ]
  },
  {
   "cell_type": "code",
   "execution_count": 4,
   "metadata": {},
   "outputs": [],
   "source": [
    "df_orders = b_orders\n",
    "df_dep = b_orders\n",
    "df_op_train = b_op_train\n",
    "df_products =  b_products\n",
    "df_sample =  b_sample\n"
   ]
  },
  {
   "cell_type": "markdown",
   "metadata": {},
   "source": [
    "Los archivos llamados df_op son los que tienen la información de las ordenes de compra con los productos comprados, teniendo una fila por producto vendido. Analizamos la estructura:"
   ]
  },
  {
   "cell_type": "code",
   "execution_count": 5,
   "metadata": {},
   "outputs": [
    {
     "name": "stdout",
     "output_type": "stream",
     "text": [
      "[1] \"/n df_op_train\"\n",
      "'data.frame':\t1384617 obs. of  4 variables:\n",
      " $ order_id         : int  1 1 1 1 1 1 1 1 36 36 ...\n",
      " $ product_id       : int  49302 11109 10246 49683 43633 13176 47209 22035 39612 19660 ...\n",
      " $ add_to_cart_order: int  1 2 3 4 5 6 7 8 1 2 ...\n",
      " $ reordered        : int  1 1 0 0 1 0 0 1 0 1 ...\n",
      "NULL\n",
      "[1] \"/n\"\n",
      "    order_id         product_id    add_to_cart_order   reordered     \n",
      " Min.   :      1   Min.   :    1   Min.   : 1.000    Min.   :0.0000  \n",
      " 1st Qu.: 843370   1st Qu.:13380   1st Qu.: 3.000    1st Qu.:0.0000  \n",
      " Median :1701880   Median :25298   Median : 7.000    Median :1.0000  \n",
      " Mean   :1706298   Mean   :25556   Mean   : 8.758    Mean   :0.5986  \n",
      " 3rd Qu.:2568023   3rd Qu.:37940   3rd Qu.:12.000    3rd Qu.:1.0000  \n",
      " Max.   :3421070   Max.   :49688   Max.   :80.000    Max.   :1.0000  \n"
     ]
    }
   ],
   "source": [
    "print('/n df_op_train')\n",
    "print(str(df_op_train))\n",
    "print('/n')\n",
    "print(summary(df_op_train))"
   ]
  },
  {
   "cell_type": "code",
   "execution_count": 6,
   "metadata": {},
   "outputs": [
    {
     "data": {
      "text/html": [
       "<table>\n",
       "<thead><tr><th scope=col>order_id</th><th scope=col>product_id</th><th scope=col>add_to_cart_order</th><th scope=col>reordered</th></tr></thead>\n",
       "<tbody>\n",
       "\t<tr><td>1    </td><td>49302</td><td>1    </td><td>1    </td></tr>\n",
       "\t<tr><td>1    </td><td>11109</td><td>2    </td><td>1    </td></tr>\n",
       "\t<tr><td>1    </td><td>10246</td><td>3    </td><td>0    </td></tr>\n",
       "\t<tr><td>1    </td><td>49683</td><td>4    </td><td>0    </td></tr>\n",
       "\t<tr><td>1    </td><td>43633</td><td>5    </td><td>1    </td></tr>\n",
       "\t<tr><td>1    </td><td>13176</td><td>6    </td><td>0    </td></tr>\n",
       "</tbody>\n",
       "</table>\n"
      ],
      "text/latex": [
       "\\begin{tabular}{r|llll}\n",
       " order\\_id & product\\_id & add\\_to\\_cart\\_order & reordered\\\\\n",
       "\\hline\n",
       "\t 1     & 49302 & 1     & 1    \\\\\n",
       "\t 1     & 11109 & 2     & 1    \\\\\n",
       "\t 1     & 10246 & 3     & 0    \\\\\n",
       "\t 1     & 49683 & 4     & 0    \\\\\n",
       "\t 1     & 43633 & 5     & 1    \\\\\n",
       "\t 1     & 13176 & 6     & 0    \\\\\n",
       "\\end{tabular}\n"
      ],
      "text/markdown": [
       "\n",
       "| order_id | product_id | add_to_cart_order | reordered |\n",
       "|---|---|---|---|\n",
       "| 1     | 49302 | 1     | 1     |\n",
       "| 1     | 11109 | 2     | 1     |\n",
       "| 1     | 10246 | 3     | 0     |\n",
       "| 1     | 49683 | 4     | 0     |\n",
       "| 1     | 43633 | 5     | 1     |\n",
       "| 1     | 13176 | 6     | 0     |\n",
       "\n"
      ],
      "text/plain": [
       "  order_id product_id add_to_cart_order reordered\n",
       "1 1        49302      1                 1        \n",
       "2 1        11109      2                 1        \n",
       "3 1        10246      3                 0        \n",
       "4 1        49683      4                 0        \n",
       "5 1        43633      5                 1        \n",
       "6 1        13176      6                 0        "
      ]
     },
     "metadata": {},
     "output_type": "display_data"
    }
   ],
   "source": [
    "head(df_op_train)"
   ]
  },
  {
   "cell_type": "code",
   "execution_count": 7,
   "metadata": {},
   "outputs": [
    {
     "data": {
      "text/html": [
       "1384617"
      ],
      "text/latex": [
       "1384617"
      ],
      "text/markdown": [
       "1384617"
      ],
      "text/plain": [
       "[1] 1384617"
      ]
     },
     "metadata": {},
     "output_type": "display_data"
    }
   ],
   "source": [
    "nrow(df_op_train)"
   ]
  },
  {
   "cell_type": "code",
   "execution_count": 8,
   "metadata": {},
   "outputs": [
    {
     "data": {
      "text/html": [
       "<table>\n",
       "<thead><tr><th scope=col>product_id</th><th scope=col>product_name</th><th scope=col>aisle_id</th><th scope=col>department_id</th></tr></thead>\n",
       "<tbody>\n",
       "\t<tr><td>1                         </td><td>Chocolate Sandwich Cookies</td><td>61                        </td><td>19                        </td></tr>\n",
       "</tbody>\n",
       "</table>\n"
      ],
      "text/latex": [
       "\\begin{tabular}{r|llll}\n",
       " product\\_id & product\\_name & aisle\\_id & department\\_id\\\\\n",
       "\\hline\n",
       "\t 1                          & Chocolate Sandwich Cookies & 61                         & 19                        \\\\\n",
       "\\end{tabular}\n"
      ],
      "text/markdown": [
       "\n",
       "| product_id | product_name | aisle_id | department_id |\n",
       "|---|---|---|---|\n",
       "| 1                          | Chocolate Sandwich Cookies | 61                         | 19                         |\n",
       "\n"
      ],
      "text/plain": [
       "  product_id product_name               aisle_id department_id\n",
       "1 1          Chocolate Sandwich Cookies 61       19           "
      ]
     },
     "metadata": {},
     "output_type": "display_data"
    }
   ],
   "source": [
    "head(df_products,1)\n"
   ]
  },
  {
   "cell_type": "markdown",
   "metadata": {},
   "source": [
    "Para tener mayor interpretación de las reglas, en vez del product_id utilizaremos la descripción."
   ]
  },
  {
   "cell_type": "code",
   "execution_count": 9,
   "metadata": {},
   "outputs": [],
   "source": [
    "df_op_train = merge(df_op_train, df_products, by = \"product_id\", all.x = T, all.y = F) "
   ]
  },
  {
   "cell_type": "markdown",
   "metadata": {},
   "source": [
    "Analizamos ahora la cantidad de pedidos, y la cantidad de elementos por pedido"
   ]
  },
  {
   "cell_type": "code",
   "execution_count": 10,
   "metadata": {},
   "outputs": [
    {
     "name": "stderr",
     "output_type": "stream",
     "text": [
      "Warning message:\n",
      "\"Ignoring unknown parameters: binwidth, bins, pad\""
     ]
    },
    {
     "data": {
      "image/png": "[encoded data removed]",
      "text/plain": [
       "plot without title"
      ]
     },
     "metadata": {},
     "output_type": "display_data"
    }
   ],
   "source": [
    "options(repr.plot.width=6.2, repr.plot.height=3.2)\n",
    "options(dplyr.summarise.inform = FALSE)\n",
    "\n",
    "p = df_op_train %>% \n",
    "    group_by(order_id) %>% \n",
    "    summarise(n = last(add_to_cart_order)) %>% \n",
    "    ggplot(aes(x = n)) +\n",
    "    geom_histogram(stat = 'count', \n",
    "                   fill = 'lightblue',\n",
    "                   ) +\n",
    "                    theme_bw() +\n",
    "                    theme(plot.margin = margin(.8,.8,.8,.8, \"cm\")) \n",
    "\n",
    "suppressMessages(p)"
   ]
  },
  {
   "cell_type": "markdown",
   "metadata": {},
   "source": [
    "Seleccionaremos ahora las ordenes que tengan los 100 productos mas vendidos"
   ]
  },
  {
   "cell_type": "code",
   "execution_count": 11,
   "metadata": {},
   "outputs": [
    {
     "name": "stdout",
     "output_type": "stream",
     "text": [
      "[1] \"Eliminamos 1069039 filas y nos quedamos con 315578\"\n"
     ]
    }
   ],
   "source": [
    "top_100 = df_op_train %>% \n",
    "         group_by(product_id) %>% \n",
    "         summarise(n = n()) %>% \n",
    "         top_n(100, wt = n) \n",
    "\n",
    "\n",
    "top_100 = top_100[order(-top_100$n),]\n",
    "df_op_train_filtered = df_op_train %>% \n",
    "                         filter(product_id %in% top_100$product_id)\n",
    "print(paste0('Eliminamos ', as.character(nrow(df_op_train)-nrow(df_op_train_filtered)), ' filas y nos quedamos con ', as.character(nrow(df_op_train_filtered) )) )"
   ]
  },
  {
   "cell_type": "code",
   "execution_count": 12,
   "metadata": {},
   "outputs": [
    {
     "name": "stderr",
     "output_type": "stream",
     "text": [
      "Warning message:\n",
      "\"Ignoring unknown parameters: binwidth, bins, pad\""
     ]
    },
    {
     "data": {
      "image/png": "[encoded data removed]",
      "text/plain": [
       "plot without title"
      ]
     },
     "metadata": {},
     "output_type": "display_data"
    }
   ],
   "source": [
    "options(repr.plot.width=6.2, repr.plot.height=3.2)\n",
    "options(dplyr.summarise.inform = FALSE)\n",
    "\n",
    "p1 = df_op_train_filtered %>% \n",
    "    group_by(order_id) %>% \n",
    "    summarise(n = last(add_to_cart_order)) %>% \n",
    "    ggplot(aes(x = n)) +\n",
    "    geom_histogram(stat = 'count', \n",
    "                   fill = 'lightgrey',\n",
    "                   ) +\n",
    "                    theme_bw() +\n",
    "                    theme(plot.margin = margin(.8,.8,.8,.8, \"cm\")) \n",
    "\n",
    "suppressMessages(p1)"
   ]
  },
  {
   "cell_type": "code",
   "execution_count": 13,
   "metadata": {},
   "outputs": [
    {
     "data": {
      "text/html": [
       "6"
      ],
      "text/latex": [
       "6"
      ],
      "text/markdown": [
       "6"
      ],
      "text/plain": [
       "[1] 6"
      ]
     },
     "metadata": {},
     "output_type": "display_data"
    }
   ],
   "source": [
    "median(df_op_train_filtered$add_to_cart_order)"
   ]
  },
  {
   "cell_type": "code",
   "execution_count": 14,
   "metadata": {},
   "outputs": [
    {
     "data": {
      "text/plain": [
       "   Min. 1st Qu.  Median    Mean 3rd Qu.    Max. \n",
       "  1.000   3.000   6.000   7.812  11.000  79.000 "
      ]
     },
     "metadata": {},
     "output_type": "display_data"
    }
   ],
   "source": [
    "summary(df_op_train_filtered$add_to_cart_order)"
   ]
  },
  {
   "cell_type": "markdown",
   "metadata": {},
   "source": [
    "Filtramos el DF en con el 75% de las observaciones y nos quedamos con todas las ordenes que tengan 11 productos o menos."
   ]
  },
  {
   "cell_type": "code",
   "execution_count": 15,
   "metadata": {},
   "outputs": [
    {
     "data": {
      "text/html": [
       "315578"
      ],
      "text/latex": [
       "315578"
      ],
      "text/markdown": [
       "315578"
      ],
      "text/plain": [
       "[1] 315578"
      ]
     },
     "metadata": {},
     "output_type": "display_data"
    }
   ],
   "source": [
    "nrow(df_op_train_filtered)"
   ]
  },
  {
   "cell_type": "code",
   "execution_count": 16,
   "metadata": {},
   "outputs": [],
   "source": [
    "id_orders = df_op_train_filtered %>% \n",
    "            group_by(order_id) %>% \n",
    "            summarise(n = last(add_to_cart_order)) %>% \n",
    "            filter(n <= 11) %>% \n",
    "            select(-n)\n",
    "\n",
    "df_op_train_filtered = merge(df_op_train_filtered, id_orders, by = \"order_id\", all.x = F, all.y = F) %>% \n",
    "                      select(-reordered)"
   ]
  },
  {
   "cell_type": "code",
   "execution_count": 17,
   "metadata": {},
   "outputs": [
    {
     "name": "stdout",
     "output_type": "stream",
     "text": [
      "[1] 247674\n",
      "   Min. 1st Qu.  Median    Mean 3rd Qu.    Max. \n",
      "  1.000   3.000   5.000   6.494   9.000  77.000 \n"
     ]
    }
   ],
   "source": [
    "print(nrow(df_op_train_filtered))\n",
    "print(summary(df_op_train_filtered$add_to_cart_order))"
   ]
  },
  {
   "cell_type": "markdown",
   "metadata": {},
   "source": [
    "Vamos a trasponer el df para que nos queden columnas categoricas por orden donde diga si o no contiene a ese producto."
   ]
  },
  {
   "cell_type": "code",
   "execution_count": 18,
   "metadata": {},
   "outputs": [
    {
     "data": {
      "text/html": [
       "101"
      ],
      "text/latex": [
       "101"
      ],
      "text/markdown": [
       "101"
      ],
      "text/plain": [
       "[1] 101"
      ]
     },
     "metadata": {},
     "output_type": "display_data"
    }
   ],
   "source": [
    "productos = data.frame(unique(df_op_train_filtered$product_id)) %>% \n",
    "            rename('product_id' = unique.df_op_train_filtered.product_id.)\n",
    "nrow(productos)"
   ]
  },
  {
   "cell_type": "markdown",
   "metadata": {},
   "source": [
    "Nos quedaran 101 columnas de productos"
   ]
  },
  {
   "cell_type": "code",
   "execution_count": 21,
   "metadata": {},
   "outputs": [],
   "source": [
    "\n",
    "q_productos = df_op_train_filtered %>% \n",
    "            group_by(order_id) %>% \n",
    "            summarise(cantidad_productos = last(add_to_cart_order))\n"
   ]
  },
  {
   "cell_type": "code",
   "execution_count": 22,
   "metadata": {},
   "outputs": [],
   "source": [
    "df_op = df_op_train_filtered %>% \n",
    "        mutate(bandera = 1) %>%\n",
    "        select(-add_to_cart_order) %>% \n",
    "        pivot_wider(names_from = product_name, values_from = bandera)"
   ]
  },
  {
   "cell_type": "code",
   "execution_count": 23,
   "metadata": {},
   "outputs": [],
   "source": [
    "df_op = merge(q_productos, df_op, by = \"order_id\", all.x = F, all.y = T)\n",
    "\n",
    "df_op[is.na(df_op)] =  0\n",
    "\n",
    "df_op = df_op %>% \n",
    "        mutate(cantidad_productos = as.factor(cantidad_productos))\n",
    "\n",
    "df_op[sapply(df_op, is.numeric)] <- lapply(df_op[sapply(df_op, is.numeric)], \n",
    "                                       as.factor)"
   ]
  },
  {
   "cell_type": "markdown",
   "metadata": {},
   "source": [
    "Tenemos entonces nuestro DF que nos permitira obtener las relgas de asociación\n"
   ]
  },
  {
   "cell_type": "code",
   "execution_count": 24,
   "metadata": {},
   "outputs": [
    {
     "data": {
      "text/html": [
       "<table>\n",
       "<thead><tr><th scope=col>order_id</th><th scope=col>cantidad_productos</th><th scope=col>product_id</th><th scope=col>aisle_id</th><th scope=col>department_id</th><th scope=col>Organic Whole String Cheese</th><th scope=col>Cucumber Kirby</th><th scope=col>Organic Hass Avocado</th><th scope=col>Bag of Organic Bananas</th><th scope=col>Asparagus</th><th scope=col>...</th><th scope=col>Orange Bell Pepper</th><th scope=col>Organic Large Extra Fancy Fuji Apple</th><th scope=col>Organic Navel Orange</th><th scope=col>Organic Blackberries</th><th scope=col>Yellow Onions</th><th scope=col>Green Onions</th><th scope=col>Organic Kiwi</th><th scope=col>Grated Parmesan</th><th scope=col>2% Reduced Fat Milk</th><th scope=col>Organic D'Anjou Pears</th></tr></thead>\n",
       "<tbody>\n",
       "\t<tr><td>1    </td><td>6    </td><td>22035</td><td>21   </td><td>16   </td><td>1    </td><td>0    </td><td>0    </td><td>0    </td><td>0    </td><td>...  </td><td>0    </td><td>0    </td><td>0    </td><td>0    </td><td>0    </td><td>0    </td><td>0    </td><td>0    </td><td>0    </td><td>0    </td></tr>\n",
       "\t<tr><td>1    </td><td>6    </td><td>49683</td><td>83   </td><td>4    </td><td>0    </td><td>1    </td><td>0    </td><td>0    </td><td>0    </td><td>...  </td><td>0    </td><td>0    </td><td>0    </td><td>0    </td><td>0    </td><td>0    </td><td>0    </td><td>0    </td><td>0    </td><td>0    </td></tr>\n",
       "\t<tr><td>1    </td><td>6    </td><td>47209</td><td>24   </td><td>4    </td><td>0    </td><td>0    </td><td>1    </td><td>0    </td><td>0    </td><td>...  </td><td>0    </td><td>0    </td><td>0    </td><td>0    </td><td>0    </td><td>0    </td><td>0    </td><td>0    </td><td>0    </td><td>0    </td></tr>\n",
       "\t<tr><td>1    </td><td>6    </td><td>13176</td><td>24   </td><td>4    </td><td>0    </td><td>0    </td><td>0    </td><td>1    </td><td>0    </td><td>...  </td><td>0    </td><td>0    </td><td>0    </td><td>0    </td><td>0    </td><td>0    </td><td>0    </td><td>0    </td><td>0    </td><td>0    </td></tr>\n",
       "\t<tr><td>36   </td><td>2    </td><td>46979</td><td>83   </td><td>4    </td><td>0    </td><td>0    </td><td>0    </td><td>0    </td><td>1    </td><td>...  </td><td>0    </td><td>0    </td><td>0    </td><td>0    </td><td>0    </td><td>0    </td><td>0    </td><td>0    </td><td>0    </td><td>0    </td></tr>\n",
       "\t<tr><td>36   </td><td>2    </td><td>49235</td><td>53   </td><td>16   </td><td>0    </td><td>0    </td><td>0    </td><td>0    </td><td>0    </td><td>...  </td><td>0    </td><td>0    </td><td>0    </td><td>0    </td><td>0    </td><td>0    </td><td>0    </td><td>0    </td><td>0    </td><td>0    </td></tr>\n",
       "</tbody>\n",
       "</table>\n"
      ],
      "text/latex": [
       "\\begin{tabular}{r|llllllllllllllllllllllllllllllllllllllllllllllllllllllllllllllllllllllllllllllllllllllllllllllllllllllllll}\n",
       " order\\_id & cantidad\\_productos & product\\_id & aisle\\_id & department\\_id & Organic Whole String Cheese & Cucumber Kirby & Organic Hass Avocado & Bag of Organic Bananas & Asparagus & ... & Orange Bell Pepper & Organic Large Extra Fancy Fuji Apple & Organic Navel Orange & Organic Blackberries & Yellow Onions & Green Onions & Organic Kiwi & Grated Parmesan & 2\\% Reduced Fat Milk & Organic D'Anjou Pears\\\\\n",
       "\\hline\n",
       "\t 1     & 6     & 22035 & 21    & 16    & 1     & 0     & 0     & 0     & 0     & ...   & 0     & 0     & 0     & 0     & 0     & 0     & 0     & 0     & 0     & 0    \\\\\n",
       "\t 1     & 6     & 49683 & 83    & 4     & 0     & 1     & 0     & 0     & 0     & ...   & 0     & 0     & 0     & 0     & 0     & 0     & 0     & 0     & 0     & 0    \\\\\n",
       "\t 1     & 6     & 47209 & 24    & 4     & 0     & 0     & 1     & 0     & 0     & ...   & 0     & 0     & 0     & 0     & 0     & 0     & 0     & 0     & 0     & 0    \\\\\n",
       "\t 1     & 6     & 13176 & 24    & 4     & 0     & 0     & 0     & 1     & 0     & ...   & 0     & 0     & 0     & 0     & 0     & 0     & 0     & 0     & 0     & 0    \\\\\n",
       "\t 36    & 2     & 46979 & 83    & 4     & 0     & 0     & 0     & 0     & 1     & ...   & 0     & 0     & 0     & 0     & 0     & 0     & 0     & 0     & 0     & 0    \\\\\n",
       "\t 36    & 2     & 49235 & 53    & 16    & 0     & 0     & 0     & 0     & 0     & ...   & 0     & 0     & 0     & 0     & 0     & 0     & 0     & 0     & 0     & 0    \\\\\n",
       "\\end{tabular}\n"
      ],
      "text/markdown": [
       "\n",
       "| order_id | cantidad_productos | product_id | aisle_id | department_id | Organic Whole String Cheese | Cucumber Kirby | Organic Hass Avocado | Bag of Organic Bananas | Asparagus | ... | Orange Bell Pepper | Organic Large Extra Fancy Fuji Apple | Organic Navel Orange | Organic Blackberries | Yellow Onions | Green Onions | Organic Kiwi | Grated Parmesan | 2% Reduced Fat Milk | Organic D'Anjou Pears |\n",
       "|---|---|---|---|---|---|---|---|---|---|---|---|---|---|---|---|---|---|---|---|---|\n",
       "| 1     | 6     | 22035 | 21    | 16    | 1     | 0     | 0     | 0     | 0     | ...   | 0     | 0     | 0     | 0     | 0     | 0     | 0     | 0     | 0     | 0     |\n",
       "| 1     | 6     | 49683 | 83    | 4     | 0     | 1     | 0     | 0     | 0     | ...   | 0     | 0     | 0     | 0     | 0     | 0     | 0     | 0     | 0     | 0     |\n",
       "| 1     | 6     | 47209 | 24    | 4     | 0     | 0     | 1     | 0     | 0     | ...   | 0     | 0     | 0     | 0     | 0     | 0     | 0     | 0     | 0     | 0     |\n",
       "| 1     | 6     | 13176 | 24    | 4     | 0     | 0     | 0     | 1     | 0     | ...   | 0     | 0     | 0     | 0     | 0     | 0     | 0     | 0     | 0     | 0     |\n",
       "| 36    | 2     | 46979 | 83    | 4     | 0     | 0     | 0     | 0     | 1     | ...   | 0     | 0     | 0     | 0     | 0     | 0     | 0     | 0     | 0     | 0     |\n",
       "| 36    | 2     | 49235 | 53    | 16    | 0     | 0     | 0     | 0     | 0     | ...   | 0     | 0     | 0     | 0     | 0     | 0     | 0     | 0     | 0     | 0     |\n",
       "\n"
      ],
      "text/plain": [
       "  order_id cantidad_productos product_id aisle_id department_id\n",
       "1 1        6                  22035      21       16           \n",
       "2 1        6                  49683      83       4            \n",
       "3 1        6                  47209      24       4            \n",
       "4 1        6                  13176      24       4            \n",
       "5 36       2                  46979      83       4            \n",
       "6 36       2                  49235      53       16           \n",
       "  Organic Whole String Cheese Cucumber Kirby Organic Hass Avocado\n",
       "1 1                           0              0                   \n",
       "2 0                           1              0                   \n",
       "3 0                           0              1                   \n",
       "4 0                           0              0                   \n",
       "5 0                           0              0                   \n",
       "6 0                           0              0                   \n",
       "  Bag of Organic Bananas Asparagus ... Orange Bell Pepper\n",
       "1 0                      0         ... 0                 \n",
       "2 0                      0         ... 0                 \n",
       "3 0                      0         ... 0                 \n",
       "4 1                      0         ... 0                 \n",
       "5 0                      1         ... 0                 \n",
       "6 0                      0         ... 0                 \n",
       "  Organic Large Extra Fancy Fuji Apple Organic Navel Orange\n",
       "1 0                                    0                   \n",
       "2 0                                    0                   \n",
       "3 0                                    0                   \n",
       "4 0                                    0                   \n",
       "5 0                                    0                   \n",
       "6 0                                    0                   \n",
       "  Organic Blackberries Yellow Onions Green Onions Organic Kiwi Grated Parmesan\n",
       "1 0                    0             0            0            0              \n",
       "2 0                    0             0            0            0              \n",
       "3 0                    0             0            0            0              \n",
       "4 0                    0             0            0            0              \n",
       "5 0                    0             0            0            0              \n",
       "6 0                    0             0            0            0              \n",
       "  2% Reduced Fat Milk Organic D'Anjou Pears\n",
       "1 0                   0                    \n",
       "2 0                   0                    \n",
       "3 0                   0                    \n",
       "4 0                   0                    \n",
       "5 0                   0                    \n",
       "6 0                   0                    "
      ]
     },
     "metadata": {},
     "output_type": "display_data"
    }
   ],
   "source": [
    "head(df_op)"
   ]
  },
  {
   "cell_type": "markdown",
   "metadata": {},
   "source": [
    "Convertimos nuestro df en una tabla del tipo \"transactions\". Luego, buscamos sólo las reglas con al menos 2 productos, un soporte mínimo del 10% y una confianza mínima del 80%."
   ]
  },
  {
   "cell_type": "code",
   "execution_count": 25,
   "metadata": {},
   "outputs": [
    {
     "data": {
      "text/plain": [
       "transactions in sparse format with\n",
       " 247674 transactions (rows) and\n",
       " 381 items (columns)"
      ]
     },
     "metadata": {},
     "output_type": "display_data"
    }
   ],
   "source": [
    "trx = as(df_op[, -1], \"transactions\")\n",
    "trx"
   ]
  },
  {
   "cell_type": "code",
   "execution_count": 26,
   "metadata": {},
   "outputs": [],
   "source": [
    "reglas = apriori(data = trx, \n",
    "                 control = list(verbose = F),\n",
    "                 parameter = list( minlen = 2, \n",
    "                                   supp   = 0.1, \n",
    "                                   conf   = 0.8, \n",
    "                                   maxlen = 20,\n",
    "                                 target =\"frequent itemset\" )\n",
    "                                  )"
   ]
  },
  {
   "cell_type": "code",
   "execution_count": 27,
   "metadata": {},
   "outputs": [
    {
     "name": "stdout",
     "output_type": "stream",
     "text": [
      "Formal class 'itemsets' [package \"arules\"] with 4 slots\n",
      "  ..@ items   :Formal class 'itemMatrix' [package \"arules\"] with 3 slots\n",
      "  .. .. ..@ data       :Formal class 'ngCMatrix' [package \"Matrix\"] with 5 slots\n",
      "  .. .. .. .. ..@ i       : int [1:21622703] 2 213 2 185 2 231 2 265 2 227 ...\n",
      "  .. .. .. .. ..@ p       : int [1:5459088] 0 2 4 6 8 10 12 14 16 18 ...\n",
      "  .. .. .. .. ..@ Dim     : int [1:2] 381 5459087\n",
      "  .. .. .. .. ..@ Dimnames:List of 2\n",
      "  .. .. .. .. .. ..$ : NULL\n",
      "  .. .. .. .. .. ..$ : NULL\n",
      "  .. .. .. .. ..@ factors : list()\n",
      "  .. .. ..@ itemInfo   :'data.frame':\t381 obs. of  3 variables:\n",
      "  .. .. .. ..$ labels   : chr [1:381] \"cantidad_productos=1\" \"cantidad_productos=2\" \"cantidad_productos=3\" \"cantidad_productos=4\" ...\n",
      "  .. .. .. ..$ variables: Factor w/ 105 levels \"100% Whole Wheat Bread\",..: 12 12 12 12 12 12 12 12 12 12 ...\n",
      "  .. .. .. ..$ levels   : Factor w/ 163 levels \"0\",\"1\",\"10\",\"10749\",..: 2 30 71 102 134 143 147 149 158 3 ...\n",
      "  .. .. ..@ itemsetInfo:'data.frame':\t0 obs. of  0 variables\n",
      "  ..@ tidLists: NULL\n",
      "  ..@ quality :'data.frame':\t5459087 obs. of  3 variables:\n",
      "  .. ..$ support                 : num [1:5459087] 0.101 0.101 0.104 0.104 0.105 ...\n",
      "  .. ..$ transIdenticalToItemsets: num [1:5459087] 0 0 0 0 0 0 0 0 0 0 ...\n",
      "  .. ..$ count                   : int [1:5459087] 24934 25131 25673 25754 26020 25978 26026 26019 26214 26207 ...\n",
      "  ..@ info    :List of 4\n",
      "  .. ..$ data         : symbol trx\n",
      "  .. ..$ ntransactions: int 247674\n",
      "  .. ..$ support      : num 0.1\n",
      "  .. ..$ confidence   : num 1\n"
     ]
    }
   ],
   "source": [
    "str(reglas)"
   ]
  },
  {
   "cell_type": "code",
   "execution_count": 28,
   "metadata": {},
   "outputs": [
    {
     "data": {
      "text/plain": [
       "set of 5459087 itemsets\n",
       "\n",
       "most frequent items:\n",
       "Feta Cheese Crumbles=0        Russet Potato=0      Unsalted Butter=0 \n",
       "                202186                 202183                 202183 \n",
       "           Red Onion=0  Organic Black Beans=0                (Other) \n",
       "                202180                 202180               20611791 \n",
       "\n",
       "element (itemset/transaction) length distribution:sizes\n",
       "      2       3       4 \n",
       "   5759  202127 5251201 \n",
       "\n",
       "   Min. 1st Qu.  Median    Mean 3rd Qu.    Max. \n",
       "  2.000   4.000   4.000   3.961   4.000   4.000 \n",
       "\n",
       "summary of quality measures:\n",
       "    support       transIdenticalToItemsets     count       \n",
       " Min.   :0.1000   Min.   :0                Min.   : 24768  \n",
       " 1st Qu.:0.9172   1st Qu.:0                1st Qu.:227163  \n",
       " Median :0.9612   Median :0                Median :238076  \n",
       " Mean   :0.8079   Mean   :0                Mean   :200100  \n",
       " 3rd Qu.:0.9707   3rd Qu.:0                3rd Qu.:240405  \n",
       " Max.   :0.9915   Max.   :0                Max.   :245579  \n",
       "\n",
       "includes transaction ID lists: FALSE \n",
       "\n",
       "mining info:\n",
       " data ntransactions support confidence\n",
       "  trx        247674     0.1          1"
      ]
     },
     "metadata": {},
     "output_type": "display_data"
    }
   ],
   "source": [
    "summary(reglas)"
   ]
  },
  {
   "cell_type": "code",
   "execution_count": null,
   "metadata": {},
   "outputs": [],
   "source": [
    "inspect(reglas)"
   ]
  }
 ],
 "metadata": {
  "kernelspec": {
   "display_name": "R",
   "language": "R",
   "name": "ir"
  },
  "language_info": {
   "codemirror_mode": "r",
   "file_extension": ".r",
   "mimetype": "text/x-r-source",
   "name": "R",
   "pygments_lexer": "r",
   "version": "3.6.1"
  }
 },
 "nbformat": 4,
 "nbformat_minor": 4
}
