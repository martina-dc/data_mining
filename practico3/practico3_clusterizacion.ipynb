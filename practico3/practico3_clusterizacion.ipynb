{
 "cells": [
  {
   "cell_type": "markdown",
   "id": "third-ambassador",
   "metadata": {},
   "source": [
    "# Tarea 3 - Clusterización"
   ]
  },
  {
   "cell_type": "markdown",
   "id": "integral-polyester",
   "metadata": {},
   "source": [
    "- Di Carlo, Martina\n",
    "- Pastrana Analía\n",
    "- Suárez Gilda"
   ]
  },
  {
   "cell_type": "markdown",
   "id": "shared-engagement",
   "metadata": {},
   "source": [
    "La Figura 1 muestra una imagen con 5 clusters. El objetivo de la tarea de clustering\n",
    "es encontrar los 5 clusters y mostrarlos en colores diferentes. Tener en cuenta que\n",
    "puede ser necesario utilizar mas de un algoritmo de clustering para realizar la tarea.\n",
    "(3.5 pts)"
   ]
  },
  {
   "cell_type": "markdown",
   "id": "demographic-sequence",
   "metadata": {},
   "source": [
    "![Clustering](clusters.jpg)"
   ]
  },
  {
   "cell_type": "markdown",
   "id": "starting-gothic",
   "metadata": {},
   "source": [
    "Para realizar la tarea se sugiere:  \n",
    "&nbsp;&nbsp;&nbsp;&nbsp;  **a)** Utilizar la funcion imread del paquete matplotlib.image para cargar la imagen.\n",
    "Ver el tutorial https://matplotlib.org/2.0.2/users/image_tutorial.html para más\n",
    "informacion.  \n",
    "&nbsp;&nbsp;&nbsp;&nbsp;  **b)** Tener en cuenta que la imagen de entrada clusters.jpg es en escala de grises\n",
    "y tiene un tamaño de (306, 565). Cada valor dentro de la matriz, o pixel, tiene un\n",
    "valor entre 0 (negro) y 255 (blanco) con tipo de dato np.uint8.  \n",
    "&nbsp;&nbsp;&nbsp;&nbsp;  **c)** Para generar una imagen color equivalente hay que crear una matriz de (306,\n",
    "565,3), donde tenemos 3 indices I, j, k que refiere a filas, columnas y “profundidad”.\n",
    "Sobre la “profundidad” se codifica el color de la imagen. Por ejemplo, si en la imagen\n",
    "img el pixel de la posicion (0, 0) es blanco entonces img[0, 0, :] = np.array([255, 255,\n",
    "255]). La profundidad codifica 3 canales de color, RGB (Red, Green, Blue) y los\n",
    "colores se obtienen como mezcla de estos 3 colores primarios. Si quisieramos\n",
    "codificar 5 colores diferentes:\n",
    "* 1) rojo: [255, 0, 0]\n",
    "* 2) verde: [0, 255, 0]\n",
    "* 3) azul: [0, 0, 255]\n",
    "* 4) cyan: [0, 255, 255]\n",
    "* 5) magenta: [255, 0, 255]  \n",
    "\n",
    "&nbsp;&nbsp;&nbsp;&nbsp;&nbsp; **d)** La Figura 2 muestra la forma de indexar imagenes representadas por\n",
    "matrices numpy. Notar que solo se indexa mediante filas y columnas y no se toma\n",
    "Figura 1: clusters.jpg\n",
    "en cuenta el color en este ejemplo. La funcion numpy.meshgrid puede ser util para\n",
    "trabajar con los indices de una imagen."
   ]
  },
  {
   "cell_type": "code",
   "execution_count": null,
   "id": "persistent-simon",
   "metadata": {},
   "outputs": [],
   "source": []
  }
 ],
 "metadata": {
  "kernelspec": {
   "display_name": "Python 3",
   "language": "python",
   "name": "python3"
  },
  "language_info": {
   "codemirror_mode": {
    "name": "ipython",
    "version": 3
   },
   "file_extension": ".py",
   "mimetype": "text/x-python",
   "name": "python",
   "nbconvert_exporter": "python",
   "pygments_lexer": "ipython3",
   "version": "3.9.2"
  }
 },
 "nbformat": 4,
 "nbformat_minor": 5
}
